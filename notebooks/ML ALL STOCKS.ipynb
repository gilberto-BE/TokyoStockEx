{
 "cells": [
  {
   "cell_type": "code",
   "execution_count": 1,
   "metadata": {},
   "outputs": [
    {
     "name": "stdout",
     "output_type": "stream",
     "text": [
      "1.11.0\n"
     ]
    }
   ],
   "source": [
    "import torch\n",
    "from torch.utils.data import DataLoader, Dataset\n",
    "import torch.nn as nn\n",
    "\n",
    "# import pytorch_lightning as pl\n",
    "import torch\n",
    "import torch.nn.functional as F\n",
    "import torch.nn as nn\n",
    "import torch.optim as optim\n",
    "import torchmetrics as TM\n",
    "# pl.utilities.seed.seed_everything(seed=42)\n",
    "import numpy as np\n",
    "import pandas as pd\n",
    "\n",
    "import sys, os\n",
    "source_path = os.path.join(os.getcwd(), os.pardir, 'src')\n",
    "sys.path.append(source_path)\n",
    "source_path = os.path.join(os.getcwd(), os.pardir, 'preprocessing')\n",
    "sys.path.append(source_path)\n",
    "source_path = os.path.join(os.getcwd(), os.pardir, 'metrics')\n",
    "sys.path.append(source_path)\n",
    "import matplotlib.pyplot as plt\n",
    "\n",
    "from dl import NeuralNetwork, Trainer\n",
    "from preprocess import (\n",
    "    show_df, \n",
    "    date_features, \n",
    "    preprocess, \n",
    "    ToTorch, \n",
    "    get_loader, \n",
    "    ts_split,\n",
    "    cont_cat_split,\n",
    "    dataloader_by_stock,\n",
    "    get_train_data\n",
    ")\n",
    "from metrics import calc_spread_return_sharpe\n",
    "print(torch.__version__)"
   ]
  },
  {
   "cell_type": "code",
   "execution_count": 2,
   "metadata": {},
   "outputs": [
    {
     "name": "stdout",
     "output_type": "stream",
     "text": [
      "11.3\n"
     ]
    },
    {
     "data": {
      "text/plain": [
       "(None, True, 1)"
      ]
     },
     "execution_count": 2,
     "metadata": {},
     "output_type": "execute_result"
    }
   ],
   "source": [
    "print(torch.version.cuda), torch.cuda.is_available(), torch.cuda.device_count()"
   ]
  },
  {
   "cell_type": "markdown",
   "metadata": {},
   "source": [
    "computer_name1 = 'gilbe'\n",
    "computer_name2 = 'Gilberto-BE'\n",
    "\n",
    "ROOT_PATH = f'c:/Users/{computer_name1}/Documents/TokyoData'\n",
    "\n",
    "\n",
    "'/kaggle/input/jpx-tokyo-stock-exchange-prediction/train_files/financials.csv'\n",
    "'/train_files/trades.csv'\n",
    "\n",
    "train_df = pd.read_csv(f'{ROOT_PATH}/train_files/stock_prices.csv')\n",
    "train_df['Date'] = pd.to_datetime(train_df['Date']) \n",
    "train_df.set_index('Date', inplace=True)\n",
    "# train_df = date_features(train_df)\n",
    "print(train_df.head(2))\n",
    "\n",
    "train_options = pd.read_csv(f'{ROOT_PATH}/train_files/options.csv', low_memory=False)\n",
    "train_financials = pd.read_csv(f'{ROOT_PATH}/train_files/financials.csv', low_memory=False)\n",
    "train_trades = pd.read_csv(f'{ROOT_PATH}/train_files/trades.csv', low_memory=False)"
   ]
  },
  {
   "cell_type": "code",
   "execution_count": 3,
   "metadata": {},
   "outputs": [],
   "source": [
    "# n_stocks = train_df.SecuritiesCode.nunique()\n",
    "# n_stocks = train_df.SecuritiesCode.unique()\n",
    "# for n in n_stocks:\n",
    "#     print(train_df[train_df['SecuritiesCode'] == n].shape)"
   ]
  },
  {
   "cell_type": "markdown",
   "metadata": {},
   "source": [
    "##  Get Data and train a Neural Network"
   ]
  },
  {
   "cell_type": "markdown",
   "metadata": {},
   "source": [
    "# Get the unique security codes"
   ]
  },
  {
   "cell_type": "code",
   "execution_count": 4,
   "metadata": {},
   "outputs": [
    {
     "name": "stdout",
     "output_type": "stream",
     "text": [
      "Unique adjustment factor: [ 1.          0.5         5.          0.33333333  0.83333333  0.25\n",
      "  0.90909091  0.1        10.          0.2         0.95238095  2.\n",
      "  0.14285714  0.66666667  0.86956522  0.76923077  0.8         4.\n",
      " 20.        ]\n",
      "Date\n",
      "2017-01-04    1.0\n",
      "2017-01-04    1.0\n",
      "2017-01-04    1.0\n",
      "2017-01-04    1.0\n",
      "2017-01-04    1.0\n",
      "             ... \n",
      "2021-12-03    1.0\n",
      "2021-12-03    1.0\n",
      "2021-12-03    1.0\n",
      "2021-12-03    1.0\n",
      "2021-12-03    1.0\n",
      "Name: AdjustmentFactor, Length: 2332531, dtype: float64\n"
     ]
    },
    {
     "data": {
      "text/html": [
       "<div>\n",
       "<style scoped>\n",
       "    .dataframe tbody tr th:only-of-type {\n",
       "        vertical-align: middle;\n",
       "    }\n",
       "\n",
       "    .dataframe tbody tr th {\n",
       "        vertical-align: top;\n",
       "    }\n",
       "\n",
       "    .dataframe thead th {\n",
       "        text-align: right;\n",
       "    }\n",
       "</style>\n",
       "<table border=\"1\" class=\"dataframe\">\n",
       "  <thead>\n",
       "    <tr style=\"text-align: right;\">\n",
       "      <th></th>\n",
       "      <th>RowId</th>\n",
       "      <th>SecuritiesCode</th>\n",
       "      <th>Open</th>\n",
       "      <th>High</th>\n",
       "      <th>Low</th>\n",
       "      <th>Close</th>\n",
       "      <th>Volume</th>\n",
       "      <th>AdjustmentFactor</th>\n",
       "      <th>ExpectedDividend</th>\n",
       "      <th>SupervisionFlag</th>\n",
       "      <th>Target</th>\n",
       "    </tr>\n",
       "    <tr>\n",
       "      <th>Date</th>\n",
       "      <th></th>\n",
       "      <th></th>\n",
       "      <th></th>\n",
       "      <th></th>\n",
       "      <th></th>\n",
       "      <th></th>\n",
       "      <th></th>\n",
       "      <th></th>\n",
       "      <th></th>\n",
       "      <th></th>\n",
       "      <th></th>\n",
       "    </tr>\n",
       "  </thead>\n",
       "  <tbody>\n",
       "    <tr>\n",
       "      <th>2017-01-04</th>\n",
       "      <td>20170104_1301</td>\n",
       "      <td>1301</td>\n",
       "      <td>2734.0</td>\n",
       "      <td>2755.0</td>\n",
       "      <td>2730.0</td>\n",
       "      <td>2742.0</td>\n",
       "      <td>31400</td>\n",
       "      <td>1.0</td>\n",
       "      <td>NaN</td>\n",
       "      <td>False</td>\n",
       "      <td>0.000730</td>\n",
       "    </tr>\n",
       "    <tr>\n",
       "      <th>2017-01-04</th>\n",
       "      <td>20170104_1332</td>\n",
       "      <td>1332</td>\n",
       "      <td>568.0</td>\n",
       "      <td>576.0</td>\n",
       "      <td>563.0</td>\n",
       "      <td>571.0</td>\n",
       "      <td>2798500</td>\n",
       "      <td>1.0</td>\n",
       "      <td>NaN</td>\n",
       "      <td>False</td>\n",
       "      <td>0.012324</td>\n",
       "    </tr>\n",
       "    <tr>\n",
       "      <th>2017-01-04</th>\n",
       "      <td>20170104_1333</td>\n",
       "      <td>1333</td>\n",
       "      <td>3150.0</td>\n",
       "      <td>3210.0</td>\n",
       "      <td>3140.0</td>\n",
       "      <td>3210.0</td>\n",
       "      <td>270800</td>\n",
       "      <td>1.0</td>\n",
       "      <td>NaN</td>\n",
       "      <td>False</td>\n",
       "      <td>0.006154</td>\n",
       "    </tr>\n",
       "    <tr>\n",
       "      <th>2017-01-04</th>\n",
       "      <td>20170104_1376</td>\n",
       "      <td>1376</td>\n",
       "      <td>1510.0</td>\n",
       "      <td>1550.0</td>\n",
       "      <td>1510.0</td>\n",
       "      <td>1550.0</td>\n",
       "      <td>11300</td>\n",
       "      <td>1.0</td>\n",
       "      <td>NaN</td>\n",
       "      <td>False</td>\n",
       "      <td>0.011053</td>\n",
       "    </tr>\n",
       "    <tr>\n",
       "      <th>2017-01-04</th>\n",
       "      <td>20170104_1377</td>\n",
       "      <td>1377</td>\n",
       "      <td>3270.0</td>\n",
       "      <td>3350.0</td>\n",
       "      <td>3270.0</td>\n",
       "      <td>3330.0</td>\n",
       "      <td>150800</td>\n",
       "      <td>1.0</td>\n",
       "      <td>NaN</td>\n",
       "      <td>False</td>\n",
       "      <td>0.003026</td>\n",
       "    </tr>\n",
       "  </tbody>\n",
       "</table>\n",
       "</div>"
      ],
      "text/plain": [
       "                    RowId  SecuritiesCode    Open    High     Low   Close  \\\n",
       "Date                                                                        \n",
       "2017-01-04  20170104_1301            1301  2734.0  2755.0  2730.0  2742.0   \n",
       "2017-01-04  20170104_1332            1332   568.0   576.0   563.0   571.0   \n",
       "2017-01-04  20170104_1333            1333  3150.0  3210.0  3140.0  3210.0   \n",
       "2017-01-04  20170104_1376            1376  1510.0  1550.0  1510.0  1550.0   \n",
       "2017-01-04  20170104_1377            1377  3270.0  3350.0  3270.0  3330.0   \n",
       "\n",
       "             Volume  AdjustmentFactor  ExpectedDividend  SupervisionFlag  \\\n",
       "Date                                                                       \n",
       "2017-01-04    31400               1.0               NaN            False   \n",
       "2017-01-04  2798500               1.0               NaN            False   \n",
       "2017-01-04   270800               1.0               NaN            False   \n",
       "2017-01-04    11300               1.0               NaN            False   \n",
       "2017-01-04   150800               1.0               NaN            False   \n",
       "\n",
       "              Target  \n",
       "Date                  \n",
       "2017-01-04  0.000730  \n",
       "2017-01-04  0.012324  \n",
       "2017-01-04  0.006154  \n",
       "2017-01-04  0.011053  \n",
       "2017-01-04  0.003026  "
      ]
     },
     "execution_count": 4,
     "metadata": {},
     "output_type": "execute_result"
    }
   ],
   "source": [
    "train_df = get_train_data()\n",
    "print('Unique adjustment factor:', train_df['AdjustmentFactor'].unique())\n",
    "print(train_df['AdjustmentFactor'])\n",
    "train_df.head()"
   ]
  },
  {
   "cell_type": "markdown",
   "metadata": {},
   "source": [
    "# Create model"
   ]
  },
  {
   "cell_type": "code",
   "execution_count": 5,
   "metadata": {},
   "outputs": [
    {
     "name": "stdout",
     "output_type": "stream",
     "text": [
      "CAT_FEATURES: 4\n",
      "NO_EMBEDDING: 2000\n",
      "NeuralNetwork(\n",
      "  (flatten): Flatten(start_dim=1, end_dim=-1)\n",
      "  (embedding): Embedding(2000, 100)\n",
      "  (embedding_to_hidden): Linear(in_features=100, out_features=512, bias=True)\n",
      "  (embedding_output): Linear(in_features=512, out_features=1, bias=True)\n",
      "  (cont_input): Linear(in_features=1, out_features=512, bias=True)\n",
      "  (hidden_layer): Linear(in_features=516, out_features=516, bias=True)\n",
      "  (output_layer): Linear(in_features=516, out_features=1, bias=True)\n",
      "  (dropout): Dropout(p=0.1, inplace=False)\n",
      ")\n"
     ]
    }
   ],
   "source": [
    "TS_IN_FEATURES = 1\n",
    "\n",
    "CAT_FEATURES = 4 #cat.shape[1]\n",
    "\n",
    "print('CAT_FEATURES:', CAT_FEATURES)\n",
    "EMBEDDING_DIM = 100\n",
    "NO_EMBEDDING = 2000 #2 * len(df_train_cat)\n",
    "print('NO_EMBEDDING:', NO_EMBEDDING)\n",
    "\n",
    "model = NeuralNetwork(\n",
    "    in_features=TS_IN_FEATURES, \n",
    "    units=512,\n",
    "    out_features=1, \n",
    "    categorical_dim=CAT_FEATURES,\n",
    "    no_embedding=NO_EMBEDDING, \n",
    "    emb_dim=EMBEDDING_DIM,\n",
    "    n_blocks=30\n",
    ")\n",
    "\n",
    "print(model)"
   ]
  },
  {
   "cell_type": "code",
   "execution_count": 6,
   "metadata": {},
   "outputs": [],
   "source": [
    "# Loop throug each stock"
   ]
  },
  {
   "cell_type": "code",
   "execution_count": 7,
   "metadata": {},
   "outputs": [
    {
     "name": "stdout",
     "output_type": "stream",
     "text": [
      "Start training for stock: 1301\n"
     ]
    },
    {
     "name": "stderr",
     "output_type": "stream",
     "text": [
      "C:\\Users\\gilbe\\Documents\\TokyoStockEx\\notebooks\\..\\preprocessing\\preprocess.py:116: SettingWithCopyWarning: \n",
      "A value is trying to be set on a copy of a slice from a DataFrame.\n",
      "Try using .loc[row_indexer,col_indexer] = value instead\n",
      "\n",
      "See the caveats in the documentation: https://pandas.pydata.org/pandas-docs/stable/user_guide/indexing.html#returning-a-view-versus-a-copy\n",
      "  cat['RowId'] = np.squeeze(enc.fit_transform(df['RowId'].to_numpy().reshape(-1, 1)))\n"
     ]
    },
    {
     "name": "stdout",
     "output_type": "stream",
     "text": [
      "continuos shape: (1202, 8)  categorical shape: (1202, 4)\n",
      "Using cuda-device\n",
      "Epoch: <<< 0 >>>\n"
     ]
    },
    {
     "name": "stderr",
     "output_type": "stream",
     "text": [
      "C:\\Users\\gilbe\\anaconda3\\envs\\tokyo\\lib\\site-packages\\torch\\autograd\\__init__.py:173: UserWarning: Casting complex values to real discards the imaginary part (Triggered internally at  C:\\cb\\pytorch_1000000000000\\work\\aten\\src\\ATen\\native\\Copy.cpp:239.)\n",
      "  Variable._execution_engine.run_backward(  # Calls into the C++ engine to run the backward pass\n"
     ]
    },
    {
     "name": "stdout",
     "output_type": "stream",
     "text": [
      "Train metrics: {'mse': 7.139378547668457, 'mae': 2.655113935470581}\n",
      "Validation metrics: {'mse': 16.805675506591797, 'mae': 3.8814876079559326}\n",
      "Average train loss: 0.20239787101745604 | Average val loss: 13.41589641571045\n",
      ".................... End of epoch 0 ....................\n",
      "Epoch: <<< 1 >>>\n",
      "Train metrics: {'mse': 9.825859069824219, 'mae': 3.1268417835235596}\n",
      "Validation metrics: {'mse': 0.7538576722145081, 'mae': 0.8117598295211792}\n",
      "Average train loss: 0.9102155685424804 | Average val loss: 2.2663586139678955\n",
      ".................... End of epoch 1 ....................\n",
      "Epoch: <<< 2 >>>\n",
      "Train metrics: {'mse': 6.92532205581665, 'mae': 2.624743938446045}\n",
      "Validation metrics: {'mse': 1.5166255235671997, 'mae': 1.2302746772766113}\n",
      "Average train loss: 0.161105740070343 | Average val loss: 1.9395979642868042\n",
      ".................... End of epoch 2 ....................\n",
      "Epoch: <<< 3 >>>\n",
      "Train metrics: {'mse': 0.7061000466346741, 'mae': 0.822910487651825}\n",
      "Validation metrics: {'mse': 1.3128561973571777, 'mae': 1.1371699571609497}\n",
      "Average train loss: 0.11101002693176269 | Average val loss: 1.0227106809616089\n",
      ".................... End of epoch 3 ....................\n",
      "Epoch: <<< 4 >>>\n",
      "Train metrics: {'mse': 0.18002550303936005, 'mae': 0.3853968679904938}\n",
      "Validation metrics: {'mse': 1.0155327320098877, 'mae': 0.9838916659355164}\n",
      "Average train loss: 0.049140536785125734 | Average val loss: 0.7062816619873047\n",
      ".................... End of epoch 4 ....................\n",
      "Epoch: <<< 5 >>>\n",
      "Train metrics: {'mse': 0.572688102722168, 'mae': 0.7205739617347717}\n",
      "Validation metrics: {'mse': 0.8468244075775146, 'mae': 0.8909611105918884}\n",
      "Average train loss: 0.037525758147239685 | Average val loss: 0.5934538841247559\n",
      ".................... End of epoch 5 ....................\n",
      "Epoch: <<< 6 >>>\n",
      "Train metrics: {'mse': 0.2882216274738312, 'mae': 0.4954879879951477}\n",
      "Validation metrics: {'mse': 0.7847063541412354, 'mae': 0.8605144619941711}\n",
      "Average train loss: 0.03371111750602722 | Average val loss: 0.5335494875907898\n",
      ".................... End of epoch 6 ....................\n",
      "Epoch: <<< 7 >>>\n",
      "Train metrics: {'mse': 0.043010201305150986, 'mae': 0.17468394339084625}\n",
      "Validation metrics: {'mse': 0.7135606408119202, 'mae': 0.8235968351364136}\n",
      "Average train loss: 0.027689707279205323 | Average val loss: 0.49013400077819824\n",
      ".................... End of epoch 7 ....................\n",
      "Epoch: <<< 8 >>>\n",
      "Train metrics: {'mse': 0.027512602508068085, 'mae': 0.1278795301914215}\n",
      "Validation metrics: {'mse': 0.6005998849868774, 'mae': 0.7546533942222595}\n",
      "Average train loss: 0.025229042768478392 | Average val loss: 0.41432076692581177\n",
      ".................... End of epoch 8 ....................\n",
      "Epoch: <<< 9 >>>\n",
      "Train metrics: {'mse': 0.02111137844622135, 'mae': 0.10535228997468948}\n",
      "Validation metrics: {'mse': 0.48133277893066406, 'mae': 0.6717069149017334}\n",
      "Average train loss: 0.021638785302639008 | Average val loss: 0.32575029134750366\n",
      ".................... End of epoch 9 ....................\n"
     ]
    },
    {
     "data": {
      "image/png": "[encoded data removed]",
      "text/plain": [
       "<Figure size 432x288 with 1 Axes>"
      ]
     },
     "metadata": {
      "needs_background": "light"
     },
     "output_type": "display_data"
    },
    {
     "name": "stdout",
     "output_type": "stream",
     "text": [
      "####################\n",
      "\n",
      "Start training for stock: 1332\n",
      "continuos shape: (1202, 8)  categorical shape: (1202, 4)\n",
      "Using cuda-device\n",
      "Epoch: <<< 0 >>>\n"
     ]
    },
    {
     "name": "stderr",
     "output_type": "stream",
     "text": [
      "C:\\Users\\gilbe\\Documents\\TokyoStockEx\\notebooks\\..\\preprocessing\\preprocess.py:116: SettingWithCopyWarning: \n",
      "A value is trying to be set on a copy of a slice from a DataFrame.\n",
      "Try using .loc[row_indexer,col_indexer] = value instead\n",
      "\n",
      "See the caveats in the documentation: https://pandas.pydata.org/pandas-docs/stable/user_guide/indexing.html#returning-a-view-versus-a-copy\n",
      "  cat['RowId'] = np.squeeze(enc.fit_transform(df['RowId'].to_numpy().reshape(-1, 1)))\n"
     ]
    },
    {
     "name": "stdout",
     "output_type": "stream",
     "text": [
      "Train metrics: {'mse': 0.12964585423469543, 'mae': 0.2802630662918091}\n",
      "Validation metrics: {'mse': 0.14454808831214905, 'mae': 0.35351550579071045}\n",
      "Average train loss: 0.008161869645118714 | Average val loss: 0.5588547587394714\n",
      ".................... End of epoch 0 ....................\n",
      "Epoch: <<< 1 >>>\n",
      "Train metrics: {'mse': 0.1795523464679718, 'mae': 0.35341256856918335}\n",
      "Validation metrics: {'mse': 0.11087696999311447, 'mae': 0.31478336453437805}\n",
      "Average train loss: 0.027457037568092348 | Average val loss: 0.17524783313274384\n",
      ".................... End of epoch 1 ....................\n",
      "Epoch: <<< 2 >>>\n",
      "Train metrics: {'mse': 0.28121113777160645, 'mae': 0.44339802861213684}\n",
      "Validation metrics: {'mse': 0.5412822961807251, 'mae': 0.6771803498268127}\n",
      "Average train loss: 0.006481979042291641 | Average val loss: 0.680205225944519\n",
      ".................... End of epoch 2 ....................\n",
      "Epoch: <<< 3 >>>\n",
      "Train metrics: {'mse': 6.066817283630371, 'mae': 2.432494878768921}\n",
      "Validation metrics: {'mse': 0.04270361363887787, 'mae': 0.18118391931056976}\n",
      "Average train loss: 0.007880868017673492 | Average val loss: 0.2312304675579071\n",
      ".................... End of epoch 3 ....................\n",
      "Epoch: <<< 4 >>>\n",
      "Train metrics: {'mse': 4.118978500366211, 'mae': 2.015798568725586}\n",
      "Validation metrics: {'mse': 0.044664569199085236, 'mae': 0.2035009115934372}\n",
      "Average train loss: 0.0017677105963230133 | Average val loss: 1.0038573741912842\n",
      ".................... End of epoch 4 ....................\n",
      "Epoch: <<< 5 >>>\n",
      "Train metrics: {'mse': 0.2157476544380188, 'mae': 0.4169376492500305}\n",
      "Validation metrics: {'mse': 0.005076108034700155, 'mae': 0.060296788811683655}\n",
      "Average train loss: 0.01638575494289398 | Average val loss: 0.200967937707901\n",
      ".................... End of epoch 5 ....................\n",
      "Epoch: <<< 6 >>>\n",
      "Train metrics: {'mse': 0.3960176408290863, 'mae': 0.6014253497123718}\n",
      "Validation metrics: {'mse': 0.037934865802526474, 'mae': 0.17700916528701782}\n",
      "Average train loss: 0.0011462226510047912 | Average val loss: 0.04872351884841919\n",
      ".................... End of epoch 6 ....................\n",
      "Epoch: <<< 7 >>>\n",
      "Train metrics: {'mse': 0.11386893689632416, 'mae': 0.29926636815071106}\n",
      "Validation metrics: {'mse': 0.025972791016101837, 'mae': 0.1515350043773651}\n",
      "Average train loss: 0.0009382086805999279 | Average val loss: 0.04960537701845169\n",
      ".................... End of epoch 7 ....................\n",
      "Epoch: <<< 8 >>>\n",
      "Train metrics: {'mse': 0.06093819439411163, 'mae': 0.2158285677433014}\n",
      "Validation metrics: {'mse': 0.044661760330200195, 'mae': 0.18929551541805267}\n",
      "Average train loss: 0.0018947260454297067 | Average val loss: 0.029220959171652794\n",
      ".................... End of epoch 8 ....................\n",
      "Epoch: <<< 9 >>>\n",
      "Train metrics: {'mse': 0.11271648854017258, 'mae': 0.27881455421447754}\n",
      "Validation metrics: {'mse': 0.023111719638109207, 'mae': 0.1489989459514618}\n",
      "Average train loss: 0.0017491858452558517 | Average val loss: 0.034279730170965195\n",
      ".................... End of epoch 9 ....................\n"
     ]
    },
    {
     "data": {
      "image/png": "[encoded data removed]",
      "text/plain": [
       "<Figure size 432x288 with 1 Axes>"
      ]
     },
     "metadata": {
      "needs_background": "light"
     },
     "output_type": "display_data"
    },
    {
     "name": "stdout",
     "output_type": "stream",
     "text": [
      "####################\n",
      "\n",
      "Start training for stock: 1333\n",
      "continuos shape: (1202, 8)  categorical shape: (1202, 4)\n",
      "Using cuda-device\n",
      "Epoch: <<< 0 >>>\n"
     ]
    },
    {
     "name": "stderr",
     "output_type": "stream",
     "text": [
      "C:\\Users\\gilbe\\Documents\\TokyoStockEx\\notebooks\\..\\preprocessing\\preprocess.py:116: SettingWithCopyWarning: \n",
      "A value is trying to be set on a copy of a slice from a DataFrame.\n",
      "Try using .loc[row_indexer,col_indexer] = value instead\n",
      "\n",
      "See the caveats in the documentation: https://pandas.pydata.org/pandas-docs/stable/user_guide/indexing.html#returning-a-view-versus-a-copy\n",
      "  cat['RowId'] = np.squeeze(enc.fit_transform(df['RowId'].to_numpy().reshape(-1, 1)))\n"
     ]
    },
    {
     "name": "stdout",
     "output_type": "stream",
     "text": [
      "Train metrics: {'mse': 0.9967868328094482, 'mae': 0.9710351824760437}\n",
      "Validation metrics: {'mse': 0.12796491384506226, 'mae': 0.30226966738700867}\n",
      "Average train loss: 0.0013957480899989606 | Average val loss: 0.24769067764282227\n",
      ".................... End of epoch 0 ....................\n",
      "Epoch: <<< 1 >>>\n",
      "Train metrics: {'mse': 0.05130486935377121, 'mae': 0.15926116704940796}\n",
      "Validation metrics: {'mse': 0.3317408263683319, 'mae': 0.5575100183486938}\n",
      "Average train loss: 0.007495824992656708 | Average val loss: 0.23572540283203125\n",
      ".................... End of epoch 1 ....................\n",
      "Epoch: <<< 2 >>>\n",
      "Train metrics: {'mse': 0.24597404897212982, 'mae': 0.46240103244781494}\n",
      "Validation metrics: {'mse': 0.0052501908503472805, 'mae': 0.06607133895158768}\n",
      "Average train loss: 0.11892521381378174 | Average val loss: 0.007335119880735874\n",
      ".................... End of epoch 2 ....................\n",
      "Epoch: <<< 3 >>>\n",
      "Train metrics: {'mse': 0.05946442484855652, 'mae': 0.20900481939315796}\n",
      "Validation metrics: {'mse': 0.014900763519108295, 'mae': 0.12094318121671677}\n",
      "Average train loss: 0.004527474194765091 | Average val loss: 0.013695290312170982\n",
      ".................... End of epoch 3 ....................\n",
      "Epoch: <<< 4 >>>\n",
      "Train metrics: {'mse': 0.026520436629652977, 'mae': 0.12005949020385742}\n",
      "Validation metrics: {'mse': 0.021505584940314293, 'mae': 0.1435690075159073}\n",
      "Average train loss: 0.00890224352478981 | Average val loss: 0.027695229277014732\n",
      ".................... End of epoch 4 ....................\n",
      "Epoch: <<< 5 >>>\n",
      "Train metrics: {'mse': 0.06672687083482742, 'mae': 0.21648815274238586}\n",
      "Validation metrics: {'mse': 0.025598326697945595, 'mae': 0.15038369596004486}\n",
      "Average train loss: 0.0013973400928080082 | Average val loss: 0.04019628465175629\n",
      ".................... End of epoch 5 ....................\n",
      "Epoch: <<< 6 >>>\n",
      "Train metrics: {'mse': 0.47726935148239136, 'mae': 0.6715941429138184}\n",
      "Validation metrics: {'mse': 0.000977429561316967, 'mae': 0.026450730860233307}\n",
      "Average train loss: 0.005155960842967033 | Average val loss: 0.000633060117252171\n",
      ".................... End of epoch 6 ....................\n",
      "Epoch: <<< 7 >>>\n",
      "Train metrics: {'mse': 0.5135200619697571, 'mae': 0.6975348591804504}\n",
      "Validation metrics: {'mse': 0.07698334008455276, 'mae': 0.2752784192562103}\n",
      "Average train loss: 0.0014683319255709647 | Average val loss: 0.09050941467285156\n",
      ".................... End of epoch 7 ....................\n",
      "Epoch: <<< 8 >>>\n",
      "Train metrics: {'mse': 0.07121007889509201, 'mae': 0.23750141263008118}\n",
      "Validation metrics: {'mse': 0.010635018348693848, 'mae': 0.08869421482086182}\n",
      "Average train loss: 0.00037897310685366394 | Average val loss: 0.019983738660812378\n",
      ".................... End of epoch 8 ....................\n",
      "Epoch: <<< 9 >>>\n",
      "Train metrics: {'mse': 0.06325669586658478, 'mae': 0.23092371225357056}\n",
      "Validation metrics: {'mse': 0.0020230698864907026, 'mae': 0.039168957620859146}\n",
      "Average train loss: 0.0004178035072982311 | Average val loss: 0.0013297309633344412\n",
      ".................... End of epoch 9 ....................\n"
     ]
    },
    {
     "data": {
      "image/png": "[encoded data removed]",
      "text/plain": [
       "<Figure size 432x288 with 1 Axes>"
      ]
     },
     "metadata": {
      "needs_background": "light"
     },
     "output_type": "display_data"
    },
    {
     "name": "stdout",
     "output_type": "stream",
     "text": [
      "####################\n",
      "\n",
      "Start training for stock: 1376\n",
      "continuos shape: (1202, 8)  categorical shape: (1202, 4)\n",
      "Using cuda-device\n",
      "Epoch: <<< 0 >>>\n"
     ]
    },
    {
     "name": "stderr",
     "output_type": "stream",
     "text": [
      "C:\\Users\\gilbe\\Documents\\TokyoStockEx\\notebooks\\..\\preprocessing\\preprocess.py:116: SettingWithCopyWarning: \n",
      "A value is trying to be set on a copy of a slice from a DataFrame.\n",
      "Try using .loc[row_indexer,col_indexer] = value instead\n",
      "\n",
      "See the caveats in the documentation: https://pandas.pydata.org/pandas-docs/stable/user_guide/indexing.html#returning-a-view-versus-a-copy\n",
      "  cat['RowId'] = np.squeeze(enc.fit_transform(df['RowId'].to_numpy().reshape(-1, 1)))\n"
     ]
    },
    {
     "name": "stdout",
     "output_type": "stream",
     "text": [
      "Train metrics: {'mse': 0.002932156901806593, 'mae': 0.04417062923312187}\n",
      "Validation metrics: {'mse': 0.001573544112034142, 'mae': 0.03216055408120155}\n",
      "Average train loss: 0.0006380060221999884 | Average val loss: 0.0033695949241518974\n",
      ".................... End of epoch 0 ....................\n",
      "Epoch: <<< 1 >>>\n",
      "Train metrics: {'mse': 0.005269346293061972, 'mae': 0.05131881311535835}\n",
      "Validation metrics: {'mse': 0.02172831818461418, 'mae': 0.10854223370552063}\n",
      "Average train loss: 0.00015907424967736005 | Average val loss: 0.0651286244392395\n",
      ".................... End of epoch 1 ....................\n",
      "Epoch: <<< 2 >>>\n",
      "Train metrics: {'mse': 0.20372766256332397, 'mae': 0.3858911991119385}\n",
      "Validation metrics: {'mse': 0.7921953201293945, 'mae': 0.6780737042427063}\n",
      "Average train loss: 0.0003928943071514368 | Average val loss: 1.8385366201400757\n",
      ".................... End of epoch 2 ....................\n",
      "Epoch: <<< 3 >>>\n",
      "Train metrics: {'mse': 0.8374353647232056, 'mae': 0.8885959982872009}\n",
      "Validation metrics: {'mse': 2.7136752605438232, 'mae': 1.5181519985198975}\n",
      "Average train loss: 0.018525457382202147 | Average val loss: 4.825502872467041\n",
      ".................... End of epoch 3 ....................\n",
      "Epoch: <<< 4 >>>\n",
      "Train metrics: {'mse': 0.44616979360580444, 'mae': 0.6407635807991028}\n",
      "Validation metrics: {'mse': 0.3501273989677429, 'mae': 0.5679579377174377}\n",
      "Average train loss: 0.09460793137550354 | Average val loss: 0.43534013628959656\n",
      ".................... End of epoch 4 ....................\n",
      "Epoch: <<< 5 >>>\n",
      "Train metrics: {'mse': 0.012272271327674389, 'mae': 0.09554366767406464}\n",
      "Validation metrics: {'mse': 0.4029207229614258, 'mae': 0.42086559534072876}\n",
      "Average train loss: 0.017564171552658082 | Average val loss: 1.1692302227020264\n",
      ".................... End of epoch 5 ....................\n",
      "Epoch: <<< 6 >>>\n",
      "Train metrics: {'mse': 0.03057325817644596, 'mae': 0.16714933514595032}\n",
      "Validation metrics: {'mse': 0.03569136559963226, 'mae': 0.17786476016044617}\n",
      "Average train loss: 0.004996499419212342 | Average val loss: 0.03976287320256233\n",
      ".................... End of epoch 6 ....................\n",
      "Epoch: <<< 7 >>>\n",
      "Train metrics: {'mse': 0.08660104125738144, 'mae': 0.26499274373054504}\n",
      "Validation metrics: {'mse': 0.1894993633031845, 'mae': 0.39053842425346375}\n",
      "Average train loss: 0.0025890100747346877 | Average val loss: 0.2955300807952881\n",
      ".................... End of epoch 7 ....................\n",
      "Epoch: <<< 8 >>>\n",
      "Train metrics: {'mse': 0.02563055232167244, 'mae': 0.1196293756365776}\n",
      "Validation metrics: {'mse': 0.014362428337335587, 'mae': 0.0964696928858757}\n",
      "Average train loss: 0.007978535443544387 | Average val loss: 0.014110652729868889\n",
      ".................... End of epoch 8 ....................\n",
      "Epoch: <<< 9 >>>\n",
      "Train metrics: {'mse': 0.006511207669973373, 'mae': 0.06646056473255157}\n",
      "Validation metrics: {'mse': 0.008655278012156487, 'mae': 0.07152894884347916}\n",
      "Average train loss: 0.0010101595893502236 | Average val loss: 0.025326794013381004\n",
      ".................... End of epoch 9 ....................\n"
     ]
    },
    {
     "data": {
      "image/png": "[encoded data removed]",
      "text/plain": [
       "<Figure size 432x288 with 1 Axes>"
      ]
     },
     "metadata": {
      "needs_background": "light"
     },
     "output_type": "display_data"
    },
    {
     "name": "stdout",
     "output_type": "stream",
     "text": [
      "####################\n",
      "\n",
      "Start training for stock: 1377\n",
      "continuos shape: (1202, 8)  categorical shape: (1202, 4)\n",
      "Using cuda-device\n",
      "Epoch: <<< 0 >>>\n"
     ]
    },
    {
     "name": "stderr",
     "output_type": "stream",
     "text": [
      "C:\\Users\\gilbe\\Documents\\TokyoStockEx\\notebooks\\..\\preprocessing\\preprocess.py:116: SettingWithCopyWarning: \n",
      "A value is trying to be set on a copy of a slice from a DataFrame.\n",
      "Try using .loc[row_indexer,col_indexer] = value instead\n",
      "\n",
      "See the caveats in the documentation: https://pandas.pydata.org/pandas-docs/stable/user_guide/indexing.html#returning-a-view-versus-a-copy\n",
      "  cat['RowId'] = np.squeeze(enc.fit_transform(df['RowId'].to_numpy().reshape(-1, 1)))\n"
     ]
    },
    {
     "name": "stdout",
     "output_type": "stream",
     "text": [
      "Train metrics: {'mse': 0.028116710484027863, 'mae': 0.13955096900463104}\n",
      "Validation metrics: {'mse': 0.09683000296354294, 'mae': 0.2512986361980438}\n",
      "Average train loss: 0.0004059683531522751 | Average val loss: 0.8901599645614624\n",
      ".................... End of epoch 0 ....................\n",
      "Epoch: <<< 1 >>>\n",
      "Train metrics: {'mse': 0.123304583132267, 'mae': 0.3097931742668152}\n",
      "Validation metrics: {'mse': 0.6995263695716858, 'mae': 0.5971204042434692}\n",
      "Average train loss: 0.0018974119797348977 | Average val loss: 7.489897727966309\n",
      ".................... End of epoch 1 ....................\n",
      "Epoch: <<< 2 >>>\n",
      "Train metrics: {'mse': 0.06760425865650177, 'mae': 0.2387680858373642}\n",
      "Validation metrics: {'mse': 0.08762668073177338, 'mae': 0.28277719020843506}\n",
      "Average train loss: 0.01116928905248642 | Average val loss: 0.06688196957111359\n",
      ".................... End of epoch 2 ....................\n",
      "Epoch: <<< 3 >>>\n",
      "Train metrics: {'mse': 0.10108476877212524, 'mae': 0.27766624093055725}\n",
      "Validation metrics: {'mse': 0.1881449669599533, 'mae': 0.37438514828681946}\n",
      "Average train loss: 0.004019039496779442 | Average val loss: 0.960636556148529\n",
      ".................... End of epoch 3 ....................\n",
      "Epoch: <<< 4 >>>\n",
      "Train metrics: {'mse': 0.026107599958777428, 'mae': 0.14380186796188354}\n",
      "Validation metrics: {'mse': 0.016207154840230942, 'mae': 0.12319701164960861}\n",
      "Average train loss: 0.004845990613102913 | Average val loss: 0.018769487738609314\n",
      ".................... End of epoch 4 ....................\n",
      "Epoch: <<< 5 >>>\n",
      "Train metrics: {'mse': 0.006017767824232578, 'mae': 0.0613638199865818}\n",
      "Validation metrics: {'mse': 0.004051999654620886, 'mae': 0.05609716475009918}\n",
      "Average train loss: 0.0009899376891553402 | Average val loss: 0.10602597892284393\n",
      ".................... End of epoch 5 ....................\n",
      "Epoch: <<< 6 >>>\n",
      "Train metrics: {'mse': 0.0073077864944934845, 'mae': 0.07078853994607925}\n",
      "Validation metrics: {'mse': 0.012138498947024345, 'mae': 0.09196639060974121}\n",
      "Average train loss: 0.0005027962382882833 | Average val loss: 0.027151398360729218\n",
      ".................... End of epoch 6 ....................\n",
      "Epoch: <<< 7 >>>\n",
      "Train metrics: {'mse': 0.00518388208001852, 'mae': 0.05521653965115547}\n",
      "Validation metrics: {'mse': 0.005269383545964956, 'mae': 0.04881986603140831}\n",
      "Average train loss: 0.0006486682221293449 | Average val loss: 0.01027768012136221\n",
      ".................... End of epoch 7 ....................\n",
      "Epoch: <<< 8 >>>\n",
      "Train metrics: {'mse': 0.003519733203575015, 'mae': 0.04531564190983772}\n",
      "Validation metrics: {'mse': 0.0012646227842196822, 'mae': 0.02832266129553318}\n",
      "Average train loss: 0.00047764172777533533 | Average val loss: 0.00868920236825943\n",
      ".................... End of epoch 8 ....................\n",
      "Epoch: <<< 9 >>>\n",
      "Train metrics: {'mse': 0.004782609175890684, 'mae': 0.050593726336956024}\n",
      "Validation metrics: {'mse': 0.004635668825358152, 'mae': 0.04442086070775986}\n",
      "Average train loss: 0.0003151252632960677 | Average val loss: 0.017899122089147568\n",
      ".................... End of epoch 9 ....................\n"
     ]
    },
    {
     "data": {
      "image/png": "[encoded data removed]",
      "text/plain": [
       "<Figure size 432x288 with 1 Axes>"
      ]
     },
     "metadata": {
      "needs_background": "light"
     },
     "output_type": "display_data"
    },
    {
     "name": "stdout",
     "output_type": "stream",
     "text": [
      "####################\n",
      "\n",
      "Start training for stock: 1379\n",
      "continuos shape: (1202, 8)  categorical shape: (1202, 4)\n",
      "Using cuda-device\n",
      "Epoch: <<< 0 >>>\n"
     ]
    },
    {
     "name": "stderr",
     "output_type": "stream",
     "text": [
      "C:\\Users\\gilbe\\Documents\\TokyoStockEx\\notebooks\\..\\preprocessing\\preprocess.py:116: SettingWithCopyWarning: \n",
      "A value is trying to be set on a copy of a slice from a DataFrame.\n",
      "Try using .loc[row_indexer,col_indexer] = value instead\n",
      "\n",
      "See the caveats in the documentation: https://pandas.pydata.org/pandas-docs/stable/user_guide/indexing.html#returning-a-view-versus-a-copy\n",
      "  cat['RowId'] = np.squeeze(enc.fit_transform(df['RowId'].to_numpy().reshape(-1, 1)))\n"
     ]
    },
    {
     "name": "stdout",
     "output_type": "stream",
     "text": [
      "Train metrics: {'mse': 3.0054986476898193, 'mae': 1.4874907732009888}\n",
      "Validation metrics: {'mse': 0.04118352755904198, 'mae': 0.1921350508928299}\n",
      "Average train loss: 0.0054131288081407545 | Average val loss: 0.24356649816036224\n",
      ".................... End of epoch 0 ....................\n",
      "Epoch: <<< 1 >>>\n",
      "Train metrics: {'mse': 5.5467329025268555, 'mae': 2.1416015625}\n",
      "Validation metrics: {'mse': 0.11643294245004654, 'mae': 0.2956598699092865}\n",
      "Average train loss: 0.01396479457616806 | Average val loss: 2.474388599395752\n",
      ".................... End of epoch 1 ....................\n",
      "Epoch: <<< 2 >>>\n",
      "Train metrics: {'mse': 2.504528760910034, 'mae': 1.3937575817108154}\n",
      "Validation metrics: {'mse': 0.1481698900461197, 'mae': 0.3563079833984375}\n",
      "Average train loss: 0.16087162494659424 | Average val loss: 2.4174649715423584\n",
      ".................... End of epoch 2 ....................\n",
      "Epoch: <<< 3 >>>\n",
      "Train metrics: {'mse': 0.08383701741695404, 'mae': 0.22123487293720245}\n",
      "Validation metrics: {'mse': 0.0328085720539093, 'mae': 0.1522921770811081}\n",
      "Average train loss: 0.14204951524734497 | Average val loss: 0.19062373042106628\n",
      ".................... End of epoch 3 ....................\n",
      "Epoch: <<< 4 >>>\n",
      "Train metrics: {'mse': 0.17311249673366547, 'mae': 0.3357394337654114}\n",
      "Validation metrics: {'mse': 0.00739959767088294, 'mae': 0.07878860086202621}\n",
      "Average train loss: 0.014127397537231445 | Average val loss: 0.01135384850203991\n",
      ".................... End of epoch 4 ....................\n",
      "Epoch: <<< 5 >>>\n",
      "Train metrics: {'mse': 0.35114654898643494, 'mae': 0.4705069065093994}\n",
      "Validation metrics: {'mse': 0.0023688783403486013, 'mae': 0.03581525385379791}\n",
      "Average train loss: 0.0027789799496531487 | Average val loss: 0.1944260597229004\n",
      ".................... End of epoch 5 ....................\n",
      "Epoch: <<< 6 >>>\n",
      "Train metrics: {'mse': 0.28029102087020874, 'mae': 0.4195108711719513}\n",
      "Validation metrics: {'mse': 0.00969879049807787, 'mae': 0.09457230567932129}\n",
      "Average train loss: 0.013834267854690552 | Average val loss: 0.09585155546665192\n",
      ".................... End of epoch 6 ....................\n",
      "Epoch: <<< 7 >>>\n",
      "Train metrics: {'mse': 0.22284987568855286, 'mae': 0.3400868773460388}\n",
      "Validation metrics: {'mse': 0.0029221822042018175, 'mae': 0.039334312081336975}\n",
      "Average train loss: 0.009241363406181336 | Average val loss: 0.07756195962429047\n",
      ".................... End of epoch 7 ....................\n",
      "Epoch: <<< 8 >>>\n",
      "Train metrics: {'mse': 0.10014347732067108, 'mae': 0.22257986664772034}\n",
      "Validation metrics: {'mse': 0.0006083414773456752, 'mae': 0.017644478008151054}\n",
      "Average train loss: 0.007296957820653915 | Average val loss: 0.019064107909798622\n",
      ".................... End of epoch 8 ....................\n",
      "Epoch: <<< 9 >>>\n",
      "Train metrics: {'mse': 0.060644760727882385, 'mae': 0.17787152528762817}\n",
      "Validation metrics: {'mse': 0.0005904497229494154, 'mae': 0.021302640438079834}\n",
      "Average train loss: 0.003771579638123512 | Average val loss: 0.0008292868733406067\n",
      ".................... End of epoch 9 ....................\n"
     ]
    },
    {
     "data": {
      "image/png": "[encoded data removed]",
      "text/plain": [
       "<Figure size 432x288 with 1 Axes>"
      ]
     },
     "metadata": {
      "needs_background": "light"
     },
     "output_type": "display_data"
    },
    {
     "name": "stdout",
     "output_type": "stream",
     "text": [
      "####################\n",
      "\n",
      "Start training for stock: 1381\n",
      "CPU times: total: 9min 41s\n",
      "Wall time: 9min 42s\n"
     ]
    }
   ],
   "source": [
    "%%time\n",
    "stocks = train_df['SecuritiesCode'].unique()\n",
    "count = 0\n",
    "for s in stocks:\n",
    "    print(f'Start training for stock: {s}')\n",
    "    train_loader, val_dataloader = None, None\n",
    "    if count > 5:\n",
    "        break\n",
    "    train_dataloader, val_dataloader = dataloader_by_stock(train_df, s)\n",
    "\n",
    "    torch.autograd.set_detect_anomaly(True)\n",
    "    trainer = Trainer(model, lr=1.3e-6)\n",
    "    trainer.fit_epochs(\n",
    "        train_dataloader, \n",
    "        val_dataloader, \n",
    "        use_cyclic_lr=True, \n",
    "        x_cat=True, \n",
    "        epochs=10\n",
    "    )\n",
    "    print('#' * 20)\n",
    "    print()\n",
    "    count += 1\n",
    "    \n",
    "    "
   ]
  }
 ],
 "metadata": {
  "kernelspec": {
   "display_name": "Python 3 (ipykernel)",
   "language": "python",
   "name": "python3"
  },
  "language_info": {
   "codemirror_mode": {
    "name": "ipython",
    "version": 3
   },
   "file_extension": ".py",
   "mimetype": "text/x-python",
   "name": "python",
   "nbconvert_exporter": "python",
   "pygments_lexer": "ipython3",
   "version": "3.10.4"
  }
 },
 "nbformat": 4,
 "nbformat_minor": 4
}
