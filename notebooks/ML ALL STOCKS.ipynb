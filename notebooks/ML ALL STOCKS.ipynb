{
 "cells": [
  {
   "cell_type": "code",
   "execution_count": 1,
   "metadata": {},
   "outputs": [
    {
     "name": "stderr",
     "output_type": "stream",
     "text": [
      "C:\\Users\\gilbe\\anaconda3\\envs\\tokyo\\lib\\site-packages\\tqdm\\auto.py:22: TqdmWarning: IProgress not found. Please update jupyter and ipywidgets. See https://ipywidgets.readthedocs.io/en/stable/user_install.html\n",
      "  from .autonotebook import tqdm as notebook_tqdm\n"
     ]
    },
    {
     "name": "stdout",
     "output_type": "stream",
     "text": [
      "1.11.0\n"
     ]
    }
   ],
   "source": [
    "import torch\n",
    "from torch.utils.data import DataLoader, Dataset\n",
    "import torch.nn as nn\n",
    "\n",
    "# import pytorch_lightning as pl\n",
    "import torch\n",
    "import torch.nn.functional as F\n",
    "import torch.nn as nn\n",
    "import torch.optim as optim\n",
    "import torchmetrics as TM\n",
    "# pl.utilities.seed.seed_everything(seed=42)\n",
    "import numpy as np\n",
    "import pandas as pd\n",
    "\n",
    "import sys, os\n",
    "source_path = os.path.join(os.getcwd(), os.pardir, 'src')\n",
    "sys.path.append(source_path)\n",
    "source_path = os.path.join(os.getcwd(), os.pardir, 'preprocessing')\n",
    "sys.path.append(source_path)\n",
    "source_path = os.path.join(os.getcwd(), os.pardir, 'metrics')\n",
    "sys.path.append(source_path)\n",
    "import matplotlib.pyplot as plt\n",
    "\n",
    "from dl import NeuralNetwork, Trainer\n",
    "from preprocess import (\n",
    "    show_df, \n",
    "    date_features, \n",
    "    preprocess, \n",
    "    ToTorch, \n",
    "    get_loader, \n",
    "    ts_split,\n",
    "    cont_cat_split,\n",
    "    dataloader_by_stock,\n",
    "    get_train_data\n",
    ")\n",
    "from metrics import calc_spread_return_sharpe\n",
    "print(torch.__version__)"
   ]
  },
  {
   "cell_type": "code",
   "execution_count": 2,
   "metadata": {},
   "outputs": [
    {
     "name": "stdout",
     "output_type": "stream",
     "text": [
      "11.3\n"
     ]
    },
    {
     "data": {
      "text/plain": [
       "(None, True, 1)"
      ]
     },
     "execution_count": 2,
     "metadata": {},
     "output_type": "execute_result"
    }
   ],
   "source": [
    "print(torch.version.cuda), torch.cuda.is_available(), torch.cuda.device_count()"
   ]
  },
  {
   "cell_type": "markdown",
   "metadata": {},
   "source": [
    "##  Get Data and train a Neural Network"
   ]
  },
  {
   "cell_type": "markdown",
   "metadata": {},
   "source": [
    "# Get the unique security codes"
   ]
  },
  {
   "cell_type": "code",
   "execution_count": 3,
   "metadata": {},
   "outputs": [
    {
     "name": "stdout",
     "output_type": "stream",
     "text": [
      "Unique adjustment factor: [ 1.          0.5         5.          0.33333333  0.83333333  0.25\n",
      "  0.90909091  0.1        10.          0.2         0.95238095  2.\n",
      "  0.14285714  0.66666667  0.86956522  0.76923077  0.8         4.\n",
      " 20.        ]\n",
      "Date\n",
      "2017-01-04    1.0\n",
      "2017-01-04    1.0\n",
      "2017-01-04    1.0\n",
      "2017-01-04    1.0\n",
      "2017-01-04    1.0\n",
      "             ... \n",
      "2021-12-03    1.0\n",
      "2021-12-03    1.0\n",
      "2021-12-03    1.0\n",
      "2021-12-03    1.0\n",
      "2021-12-03    1.0\n",
      "Name: AdjustmentFactor, Length: 2332531, dtype: float64\n"
     ]
    },
    {
     "data": {
      "text/html": [
       "<div>\n",
       "<style scoped>\n",
       "    .dataframe tbody tr th:only-of-type {\n",
       "        vertical-align: middle;\n",
       "    }\n",
       "\n",
       "    .dataframe tbody tr th {\n",
       "        vertical-align: top;\n",
       "    }\n",
       "\n",
       "    .dataframe thead th {\n",
       "        text-align: right;\n",
       "    }\n",
       "</style>\n",
       "<table border=\"1\" class=\"dataframe\">\n",
       "  <thead>\n",
       "    <tr style=\"text-align: right;\">\n",
       "      <th></th>\n",
       "      <th>RowId</th>\n",
       "      <th>SecuritiesCode</th>\n",
       "      <th>Open</th>\n",
       "      <th>High</th>\n",
       "      <th>Low</th>\n",
       "      <th>Close</th>\n",
       "      <th>Volume</th>\n",
       "      <th>AdjustmentFactor</th>\n",
       "      <th>ExpectedDividend</th>\n",
       "      <th>SupervisionFlag</th>\n",
       "      <th>Target</th>\n",
       "    </tr>\n",
       "    <tr>\n",
       "      <th>Date</th>\n",
       "      <th></th>\n",
       "      <th></th>\n",
       "      <th></th>\n",
       "      <th></th>\n",
       "      <th></th>\n",
       "      <th></th>\n",
       "      <th></th>\n",
       "      <th></th>\n",
       "      <th></th>\n",
       "      <th></th>\n",
       "      <th></th>\n",
       "    </tr>\n",
       "  </thead>\n",
       "  <tbody>\n",
       "    <tr>\n",
       "      <th>2017-01-04</th>\n",
       "      <td>20170104_1301</td>\n",
       "      <td>1301</td>\n",
       "      <td>2734.0</td>\n",
       "      <td>2755.0</td>\n",
       "      <td>2730.0</td>\n",
       "      <td>2742.0</td>\n",
       "      <td>31400</td>\n",
       "      <td>1.0</td>\n",
       "      <td>NaN</td>\n",
       "      <td>False</td>\n",
       "      <td>0.000730</td>\n",
       "    </tr>\n",
       "    <tr>\n",
       "      <th>2017-01-04</th>\n",
       "      <td>20170104_1332</td>\n",
       "      <td>1332</td>\n",
       "      <td>568.0</td>\n",
       "      <td>576.0</td>\n",
       "      <td>563.0</td>\n",
       "      <td>571.0</td>\n",
       "      <td>2798500</td>\n",
       "      <td>1.0</td>\n",
       "      <td>NaN</td>\n",
       "      <td>False</td>\n",
       "      <td>0.012324</td>\n",
       "    </tr>\n",
       "    <tr>\n",
       "      <th>2017-01-04</th>\n",
       "      <td>20170104_1333</td>\n",
       "      <td>1333</td>\n",
       "      <td>3150.0</td>\n",
       "      <td>3210.0</td>\n",
       "      <td>3140.0</td>\n",
       "      <td>3210.0</td>\n",
       "      <td>270800</td>\n",
       "      <td>1.0</td>\n",
       "      <td>NaN</td>\n",
       "      <td>False</td>\n",
       "      <td>0.006154</td>\n",
       "    </tr>\n",
       "    <tr>\n",
       "      <th>2017-01-04</th>\n",
       "      <td>20170104_1376</td>\n",
       "      <td>1376</td>\n",
       "      <td>1510.0</td>\n",
       "      <td>1550.0</td>\n",
       "      <td>1510.0</td>\n",
       "      <td>1550.0</td>\n",
       "      <td>11300</td>\n",
       "      <td>1.0</td>\n",
       "      <td>NaN</td>\n",
       "      <td>False</td>\n",
       "      <td>0.011053</td>\n",
       "    </tr>\n",
       "    <tr>\n",
       "      <th>2017-01-04</th>\n",
       "      <td>20170104_1377</td>\n",
       "      <td>1377</td>\n",
       "      <td>3270.0</td>\n",
       "      <td>3350.0</td>\n",
       "      <td>3270.0</td>\n",
       "      <td>3330.0</td>\n",
       "      <td>150800</td>\n",
       "      <td>1.0</td>\n",
       "      <td>NaN</td>\n",
       "      <td>False</td>\n",
       "      <td>0.003026</td>\n",
       "    </tr>\n",
       "  </tbody>\n",
       "</table>\n",
       "</div>"
      ],
      "text/plain": [
       "                    RowId  SecuritiesCode    Open    High     Low   Close  \\\n",
       "Date                                                                        \n",
       "2017-01-04  20170104_1301            1301  2734.0  2755.0  2730.0  2742.0   \n",
       "2017-01-04  20170104_1332            1332   568.0   576.0   563.0   571.0   \n",
       "2017-01-04  20170104_1333            1333  3150.0  3210.0  3140.0  3210.0   \n",
       "2017-01-04  20170104_1376            1376  1510.0  1550.0  1510.0  1550.0   \n",
       "2017-01-04  20170104_1377            1377  3270.0  3350.0  3270.0  3330.0   \n",
       "\n",
       "             Volume  AdjustmentFactor  ExpectedDividend  SupervisionFlag  \\\n",
       "Date                                                                       \n",
       "2017-01-04    31400               1.0               NaN            False   \n",
       "2017-01-04  2798500               1.0               NaN            False   \n",
       "2017-01-04   270800               1.0               NaN            False   \n",
       "2017-01-04    11300               1.0               NaN            False   \n",
       "2017-01-04   150800               1.0               NaN            False   \n",
       "\n",
       "              Target  \n",
       "Date                  \n",
       "2017-01-04  0.000730  \n",
       "2017-01-04  0.012324  \n",
       "2017-01-04  0.006154  \n",
       "2017-01-04  0.011053  \n",
       "2017-01-04  0.003026  "
      ]
     },
     "execution_count": 3,
     "metadata": {},
     "output_type": "execute_result"
    }
   ],
   "source": [
    "train_df = get_train_data()\n",
    "print('Unique adjustment factor:', train_df['AdjustmentFactor'].unique())\n",
    "print(train_df['AdjustmentFactor'])\n",
    "train_df.head()"
   ]
  },
  {
   "cell_type": "markdown",
   "metadata": {},
   "source": [
    "# Create model"
   ]
  },
  {
   "cell_type": "markdown",
   "metadata": {},
   "source": [
    "### Args and constants"
   ]
  },
  {
   "cell_type": "code",
   "execution_count": 4,
   "metadata": {},
   "outputs": [
    {
     "name": "stdout",
     "output_type": "stream",
     "text": [
      "CAT_FEATURES: 4\n"
     ]
    }
   ],
   "source": [
    "CONT_COLS=['Close', 'Open', 'High', 'Low']\n",
    "TS_IN_FEATURES = len(CONT_COLS)\n",
    "CAT_FEATURES = 4 #cat.shape[1]\n",
    "print('CAT_FEATURES:', CAT_FEATURES)\n",
    "EMBEDDING_DIM = 300\n",
    "NO_EMBEDDING = 2000 #2 * len(df_train_cat)"
   ]
  },
  {
   "cell_type": "code",
   "execution_count": 5,
   "metadata": {},
   "outputs": [
    {
     "name": "stdout",
     "output_type": "stream",
     "text": [
      "NeuralNetwork(\n",
      "  (embedding_layer): Embedding(2000, 300)\n",
      "  (embedding_to_hidden): Linear(in_features=300, out_features=1024, bias=True)\n",
      "  (embedding_output): Linear(in_features=1024, out_features=1, bias=True)\n",
      "  (cont_input): Linear(in_features=4, out_features=1024, bias=True)\n",
      "  (output_layer): Linear(in_features=1028, out_features=1, bias=True)\n",
      "  (dropout): Dropout(p=0.3, inplace=False)\n",
      "  (stacks): ModuleList(\n",
      "    (0): NeuralStack(\n",
      "      (stacks): ModuleList(\n",
      "        (0): NeuralBlock(\n",
      "          (dropout): Dropout(p=0.1, inplace=False)\n",
      "          (layer1): Linear(in_features=1028, out_features=1028, bias=True)\n",
      "          (layer2): Linear(in_features=1028, out_features=1028, bias=True)\n",
      "          (layer3): Linear(in_features=1028, out_features=1028, bias=True)\n",
      "          (layer4): Linear(in_features=1028, out_features=1028, bias=True)\n",
      "          (output): Linear(in_features=1028, out_features=1028, bias=True)\n",
      "          (res_layer): Linear(in_features=1028, out_features=1028, bias=True)\n",
      "          (fwr_layer): Linear(in_features=1028, out_features=1028, bias=True)\n",
      "          (res_output): Linear(in_features=1028, out_features=1028, bias=True)\n",
      "        )\n",
      "        (1): NeuralBlock(\n",
      "          (dropout): Dropout(p=0.1, inplace=False)\n",
      "          (layer1): Linear(in_features=1028, out_features=1028, bias=True)\n",
      "          (layer2): Linear(in_features=1028, out_features=1028, bias=True)\n",
      "          (layer3): Linear(in_features=1028, out_features=1028, bias=True)\n",
      "          (layer4): Linear(in_features=1028, out_features=1028, bias=True)\n",
      "          (output): Linear(in_features=1028, out_features=1028, bias=True)\n",
      "          (res_layer): Linear(in_features=1028, out_features=1028, bias=True)\n",
      "          (fwr_layer): Linear(in_features=1028, out_features=1028, bias=True)\n",
      "          (res_output): Linear(in_features=1028, out_features=1028, bias=True)\n",
      "        )\n",
      "        (2): NeuralBlock(\n",
      "          (dropout): Dropout(p=0.1, inplace=False)\n",
      "          (layer1): Linear(in_features=1028, out_features=1028, bias=True)\n",
      "          (layer2): Linear(in_features=1028, out_features=1028, bias=True)\n",
      "          (layer3): Linear(in_features=1028, out_features=1028, bias=True)\n",
      "          (layer4): Linear(in_features=1028, out_features=1028, bias=True)\n",
      "          (output): Linear(in_features=1028, out_features=1028, bias=True)\n",
      "          (res_layer): Linear(in_features=1028, out_features=1028, bias=True)\n",
      "          (fwr_layer): Linear(in_features=1028, out_features=1028, bias=True)\n",
      "          (res_output): Linear(in_features=1028, out_features=1028, bias=True)\n",
      "        )\n",
      "        (3): NeuralBlock(\n",
      "          (dropout): Dropout(p=0.1, inplace=False)\n",
      "          (layer1): Linear(in_features=1028, out_features=1028, bias=True)\n",
      "          (layer2): Linear(in_features=1028, out_features=1028, bias=True)\n",
      "          (layer3): Linear(in_features=1028, out_features=1028, bias=True)\n",
      "          (layer4): Linear(in_features=1028, out_features=1028, bias=True)\n",
      "          (output): Linear(in_features=1028, out_features=1028, bias=True)\n",
      "          (res_layer): Linear(in_features=1028, out_features=1028, bias=True)\n",
      "          (fwr_layer): Linear(in_features=1028, out_features=1028, bias=True)\n",
      "          (res_output): Linear(in_features=1028, out_features=1028, bias=True)\n",
      "        )\n",
      "      )\n",
      "      (output_layers): ModuleList(\n",
      "        (0): Linear(in_features=1028, out_features=1, bias=True)\n",
      "        (1): Linear(in_features=1028, out_features=1, bias=True)\n",
      "        (2): Linear(in_features=1028, out_features=1, bias=True)\n",
      "        (3): Linear(in_features=1028, out_features=1, bias=True)\n",
      "      )\n",
      "    )\n",
      "    (1): NeuralStack(\n",
      "      (stacks): ModuleList(\n",
      "        (0): NeuralBlock(\n",
      "          (dropout): Dropout(p=0.1, inplace=False)\n",
      "          (layer1): Linear(in_features=1028, out_features=1028, bias=True)\n",
      "          (layer2): Linear(in_features=1028, out_features=1028, bias=True)\n",
      "          (layer3): Linear(in_features=1028, out_features=1028, bias=True)\n",
      "          (layer4): Linear(in_features=1028, out_features=1028, bias=True)\n",
      "          (output): Linear(in_features=1028, out_features=1028, bias=True)\n",
      "          (res_layer): Linear(in_features=1028, out_features=1028, bias=True)\n",
      "          (fwr_layer): Linear(in_features=1028, out_features=1028, bias=True)\n",
      "          (res_output): Linear(in_features=1028, out_features=1028, bias=True)\n",
      "        )\n",
      "        (1): NeuralBlock(\n",
      "          (dropout): Dropout(p=0.1, inplace=False)\n",
      "          (layer1): Linear(in_features=1028, out_features=1028, bias=True)\n",
      "          (layer2): Linear(in_features=1028, out_features=1028, bias=True)\n",
      "          (layer3): Linear(in_features=1028, out_features=1028, bias=True)\n",
      "          (layer4): Linear(in_features=1028, out_features=1028, bias=True)\n",
      "          (output): Linear(in_features=1028, out_features=1028, bias=True)\n",
      "          (res_layer): Linear(in_features=1028, out_features=1028, bias=True)\n",
      "          (fwr_layer): Linear(in_features=1028, out_features=1028, bias=True)\n",
      "          (res_output): Linear(in_features=1028, out_features=1028, bias=True)\n",
      "        )\n",
      "        (2): NeuralBlock(\n",
      "          (dropout): Dropout(p=0.1, inplace=False)\n",
      "          (layer1): Linear(in_features=1028, out_features=1028, bias=True)\n",
      "          (layer2): Linear(in_features=1028, out_features=1028, bias=True)\n",
      "          (layer3): Linear(in_features=1028, out_features=1028, bias=True)\n",
      "          (layer4): Linear(in_features=1028, out_features=1028, bias=True)\n",
      "          (output): Linear(in_features=1028, out_features=1028, bias=True)\n",
      "          (res_layer): Linear(in_features=1028, out_features=1028, bias=True)\n",
      "          (fwr_layer): Linear(in_features=1028, out_features=1028, bias=True)\n",
      "          (res_output): Linear(in_features=1028, out_features=1028, bias=True)\n",
      "        )\n",
      "        (3): NeuralBlock(\n",
      "          (dropout): Dropout(p=0.1, inplace=False)\n",
      "          (layer1): Linear(in_features=1028, out_features=1028, bias=True)\n",
      "          (layer2): Linear(in_features=1028, out_features=1028, bias=True)\n",
      "          (layer3): Linear(in_features=1028, out_features=1028, bias=True)\n",
      "          (layer4): Linear(in_features=1028, out_features=1028, bias=True)\n",
      "          (output): Linear(in_features=1028, out_features=1028, bias=True)\n",
      "          (res_layer): Linear(in_features=1028, out_features=1028, bias=True)\n",
      "          (fwr_layer): Linear(in_features=1028, out_features=1028, bias=True)\n",
      "          (res_output): Linear(in_features=1028, out_features=1028, bias=True)\n",
      "        )\n",
      "      )\n",
      "      (output_layers): ModuleList(\n",
      "        (0): Linear(in_features=1028, out_features=1, bias=True)\n",
      "        (1): Linear(in_features=1028, out_features=1, bias=True)\n",
      "        (2): Linear(in_features=1028, out_features=1, bias=True)\n",
      "        (3): Linear(in_features=1028, out_features=1, bias=True)\n",
      "      )\n",
      "    )\n",
      "  )\n",
      ")\n"
     ]
    }
   ],
   "source": [
    "\n",
    "\n",
    "model = NeuralNetwork(\n",
    "    in_features=TS_IN_FEATURES, \n",
    "    units=1024,\n",
    "    out_features=1, \n",
    "    categorical_dim=CAT_FEATURES,\n",
    "    no_embedding=NO_EMBEDDING, \n",
    "    emb_dim=EMBEDDING_DIM,\n",
    "    n_blocks=4,\n",
    "    n_stacks=2,\n",
    "    dropout=0.3\n",
    ")\n",
    "\n",
    "print(model)"
   ]
  },
  {
   "cell_type": "markdown",
   "metadata": {},
   "source": [
    "# Loop throug each stock\n",
    "Create Trainer only once"
   ]
  },
  {
   "cell_type": "code",
   "execution_count": null,
   "metadata": {},
   "outputs": [],
   "source": []
  },
  {
   "cell_type": "code",
   "execution_count": null,
   "metadata": {},
   "outputs": [
    {
     "name": "stdout",
     "output_type": "stream",
     "text": [
      "Using cuda-device\n",
      "Start training for stock: 1301\n"
     ]
    },
    {
     "name": "stderr",
     "output_type": "stream",
     "text": [
      "C:\\Users\\gilbe\\Documents\\TokyoStockEx\\notebooks\\..\\preprocessing\\preprocess.py:135: SettingWithCopyWarning: \n",
      "A value is trying to be set on a copy of a slice from a DataFrame.\n",
      "Try using .loc[row_indexer,col_indexer] = value instead\n",
      "\n",
      "See the caveats in the documentation: https://pandas.pydata.org/pandas-docs/stable/user_guide/indexing.html#returning-a-view-versus-a-copy\n",
      "  cat.loc[:, ['RowId']] = txt_transfom.transform()\n",
      "C:\\Users\\gilbe\\Documents\\TokyoStockEx\\notebooks\\..\\preprocessing\\preprocess.py:111: SettingWithCopyWarning: \n",
      "A value is trying to be set on a copy of a slice from a DataFrame.\n",
      "Try using .loc[row_indexer,col_indexer] = value instead\n",
      "\n",
      "See the caveats in the documentation: https://pandas.pydata.org/pandas-docs/stable/user_guide/indexing.html#returning-a-view-versus-a-copy\n",
      "  df['Volume'] = df['Volume'].astype(float)\n",
      "C:\\Users\\gilbe\\Documents\\TokyoStockEx\\notebooks\\..\\preprocessing\\preprocess.py:111: SettingWithCopyWarning: \n",
      "A value is trying to be set on a copy of a slice from a DataFrame.\n",
      "Try using .loc[row_indexer,col_indexer] = value instead\n",
      "\n",
      "See the caveats in the documentation: https://pandas.pydata.org/pandas-docs/stable/user_guide/indexing.html#returning-a-view-versus-a-copy\n",
      "  df['Volume'] = df['Volume'].astype(float)\n"
     ]
    },
    {
     "name": "stdout",
     "output_type": "stream",
     "text": [
      "continuos shape: (1202, 9)  categorical shape: (1202, 4)\n"
     ]
    },
    {
     "name": "stderr",
     "output_type": "stream",
     "text": [
      "C:\\Users\\gilbe\\anaconda3\\envs\\tokyo\\lib\\site-packages\\torch\\autograd\\__init__.py:173: UserWarning: Casting complex values to real discards the imaginary part (Triggered internally at  C:\\cb\\pytorch_1000000000000\\work\\aten\\src\\ATen\\native\\Copy.cpp:239.)\n",
      "  Variable._execution_engine.run_backward(  # Calls into the C++ engine to run the backward pass\n"
     ]
    },
    {
     "name": "stdout",
     "output_type": "stream",
     "text": [
      "Epoch: <<< 0 >>>\n",
      "\n",
      "                    Average train loss: 0.006370836496353149 | \n",
      "                    Train-Mae: 0.12178513407707214 |\n",
      "\n",
      "                    Average val loss: 0.010125438682734966|\n",
      "                    Val-Mae: 0.07930848747491837\n",
      "                    \n",
      ".................... End of epoch 0 ....................\n",
      "Epoch: <<< 2 >>>\n",
      "\n",
      "                    Average train loss: 0.0027275610715150832 | \n",
      "                    Train-Mae: 0.12402414530515671 |\n",
      "\n",
      "                    Average val loss: 0.009011201560497284|\n",
      "                    Val-Mae: 0.07394570112228394\n",
      "                    \n",
      ".................... End of epoch 2 ....................\n",
      "Epoch: <<< 4 >>>\n",
      "\n",
      "                    Average train loss: 0.0018999900668859482 | \n",
      "                    Train-Mae: 0.1185021847486496 |\n",
      "\n",
      "                    Average val loss: 0.008484368212521076|\n",
      "                    Val-Mae: 0.07095718383789062\n",
      "                    \n",
      ".................... End of epoch 4 ....................\n"
     ]
    },
    {
     "data": {
      "image/png": "[encoded data removed]",
      "text/plain": [
       "<Figure size 432x288 with 1 Axes>"
      ]
     },
     "metadata": {
      "needs_background": "light"
     },
     "output_type": "display_data"
    },
    {
     "data": {
      "image/png": "[encoded data removed]",
      "text/plain": [
       "<Figure size 432x288 with 1 Axes>"
      ]
     },
     "metadata": {
      "needs_background": "light"
     },
     "output_type": "display_data"
    },
    {
     "name": "stdout",
     "output_type": "stream",
     "text": [
      "####################\n",
      "\n",
      "Start training for stock: 1332\n",
      "continuos shape: (1202, 9)  categorical shape: (1202, 4)\n"
     ]
    },
    {
     "name": "stderr",
     "output_type": "stream",
     "text": [
      "C:\\Users\\gilbe\\Documents\\TokyoStockEx\\notebooks\\..\\preprocessing\\preprocess.py:135: SettingWithCopyWarning: \n",
      "A value is trying to be set on a copy of a slice from a DataFrame.\n",
      "Try using .loc[row_indexer,col_indexer] = value instead\n",
      "\n",
      "See the caveats in the documentation: https://pandas.pydata.org/pandas-docs/stable/user_guide/indexing.html#returning-a-view-versus-a-copy\n",
      "  cat.loc[:, ['RowId']] = txt_transfom.transform()\n",
      "C:\\Users\\gilbe\\Documents\\TokyoStockEx\\notebooks\\..\\preprocessing\\preprocess.py:111: SettingWithCopyWarning: \n",
      "A value is trying to be set on a copy of a slice from a DataFrame.\n",
      "Try using .loc[row_indexer,col_indexer] = value instead\n",
      "\n",
      "See the caveats in the documentation: https://pandas.pydata.org/pandas-docs/stable/user_guide/indexing.html#returning-a-view-versus-a-copy\n",
      "  df['Volume'] = df['Volume'].astype(float)\n",
      "C:\\Users\\gilbe\\Documents\\TokyoStockEx\\notebooks\\..\\preprocessing\\preprocess.py:111: SettingWithCopyWarning: \n",
      "A value is trying to be set on a copy of a slice from a DataFrame.\n",
      "Try using .loc[row_indexer,col_indexer] = value instead\n",
      "\n",
      "See the caveats in the documentation: https://pandas.pydata.org/pandas-docs/stable/user_guide/indexing.html#returning-a-view-versus-a-copy\n",
      "  df['Volume'] = df['Volume'].astype(float)\n"
     ]
    },
    {
     "name": "stdout",
     "output_type": "stream",
     "text": [
      "Epoch: <<< 0 >>>\n",
      "\n",
      "                    Average train loss: 0.0016361899673938752 | \n",
      "                    Train-Mae: 0.1544075757265091 |\n",
      "\n",
      "                    Average val loss: 0.008415798656642437|\n",
      "                    Val-Mae: 0.07008010894060135\n",
      "                    \n",
      ".................... End of epoch 0 ....................\n",
      "Epoch: <<< 2 >>>\n",
      "\n",
      "                    Average train loss: 0.0013921378180384637 | \n",
      "                    Train-Mae: 0.14470955729484558 |\n",
      "\n",
      "                    Average val loss: 0.008617612533271313|\n",
      "                    Val-Mae: 0.07122902572154999\n",
      "                    \n",
      ".................... End of epoch 2 ....................\n",
      "Epoch: <<< 4 >>>\n",
      "\n",
      "                    Average train loss: 0.0014437197707593441 | \n",
      "                    Train-Mae: 0.13452844321727753 |\n",
      "\n",
      "                    Average val loss: 0.007878298871219158|\n",
      "                    Val-Mae: 0.0675419494509697\n",
      "                    \n",
      ".................... End of epoch 4 ....................\n"
     ]
    },
    {
     "data": {
      "image/png": "[encoded data removed]",
      "text/plain": [
       "<Figure size 432x288 with 1 Axes>"
      ]
     },
     "metadata": {
      "needs_background": "light"
     },
     "output_type": "display_data"
    },
    {
     "data": {
      "image/png": "[encoded data removed]",
      "text/plain": [
       "<Figure size 432x288 with 1 Axes>"
      ]
     },
     "metadata": {
      "needs_background": "light"
     },
     "output_type": "display_data"
    },
    {
     "name": "stdout",
     "output_type": "stream",
     "text": [
      "####################\n",
      "\n",
      "Start training for stock: 1333\n",
      "continuos shape: (1202, 9)  categorical shape: (1202, 4)\n"
     ]
    },
    {
     "name": "stderr",
     "output_type": "stream",
     "text": [
      "C:\\Users\\gilbe\\Documents\\TokyoStockEx\\notebooks\\..\\preprocessing\\preprocess.py:135: SettingWithCopyWarning: \n",
      "A value is trying to be set on a copy of a slice from a DataFrame.\n",
      "Try using .loc[row_indexer,col_indexer] = value instead\n",
      "\n",
      "See the caveats in the documentation: https://pandas.pydata.org/pandas-docs/stable/user_guide/indexing.html#returning-a-view-versus-a-copy\n",
      "  cat.loc[:, ['RowId']] = txt_transfom.transform()\n",
      "C:\\Users\\gilbe\\Documents\\TokyoStockEx\\notebooks\\..\\preprocessing\\preprocess.py:111: SettingWithCopyWarning: \n",
      "A value is trying to be set on a copy of a slice from a DataFrame.\n",
      "Try using .loc[row_indexer,col_indexer] = value instead\n",
      "\n",
      "See the caveats in the documentation: https://pandas.pydata.org/pandas-docs/stable/user_guide/indexing.html#returning-a-view-versus-a-copy\n",
      "  df['Volume'] = df['Volume'].astype(float)\n",
      "C:\\Users\\gilbe\\Documents\\TokyoStockEx\\notebooks\\..\\preprocessing\\preprocess.py:111: SettingWithCopyWarning: \n",
      "A value is trying to be set on a copy of a slice from a DataFrame.\n",
      "Try using .loc[row_indexer,col_indexer] = value instead\n",
      "\n",
      "See the caveats in the documentation: https://pandas.pydata.org/pandas-docs/stable/user_guide/indexing.html#returning-a-view-versus-a-copy\n",
      "  df['Volume'] = df['Volume'].astype(float)\n"
     ]
    },
    {
     "name": "stdout",
     "output_type": "stream",
     "text": [
      "Epoch: <<< 0 >>>\n",
      "\n",
      "                    Average train loss: 0.0014240714721381665 | \n",
      "                    Train-Mae: 0.13276831805706024 |\n",
      "\n",
      "                    Average val loss: 0.007587919477373362|\n",
      "                    Val-Mae: 0.06729865074157715\n",
      "                    \n",
      ".................... End of epoch 0 ....................\n",
      "Epoch: <<< 2 >>>\n",
      "\n",
      "                    Average train loss: 0.001259967591613531 | \n",
      "                    Train-Mae: 0.1174282357096672 |\n",
      "\n",
      "                    Average val loss: 0.007628642953932285|\n",
      "                    Val-Mae: 0.067953921854496\n",
      "                    \n",
      ".................... End of epoch 2 ....................\n",
      "Epoch: <<< 4 >>>\n",
      "\n",
      "                    Average train loss: 0.0013276251032948495 | \n",
      "                    Train-Mae: 0.11174842715263367 |\n",
      "\n",
      "                    Average val loss: 0.0068913898430764675|\n",
      "                    Val-Mae: 0.0627998635172844\n",
      "                    \n",
      ".................... End of epoch 4 ....................\n"
     ]
    },
    {
     "data": {
      "image/png": "[encoded data removed]",
      "text/plain": [
       "<Figure size 432x288 with 1 Axes>"
      ]
     },
     "metadata": {
      "needs_background": "light"
     },
     "output_type": "display_data"
    },
    {
     "data": {
      "image/png": "[encoded data removed]",
      "text/plain": [
       "<Figure size 432x288 with 1 Axes>"
      ]
     },
     "metadata": {
      "needs_background": "light"
     },
     "output_type": "display_data"
    },
    {
     "name": "stdout",
     "output_type": "stream",
     "text": [
      "####################\n",
      "\n",
      "Start training for stock: 1376\n",
      "continuos shape: (1202, 9)  categorical shape: (1202, 4)\n"
     ]
    },
    {
     "name": "stderr",
     "output_type": "stream",
     "text": [
      "C:\\Users\\gilbe\\Documents\\TokyoStockEx\\notebooks\\..\\preprocessing\\preprocess.py:135: SettingWithCopyWarning: \n",
      "A value is trying to be set on a copy of a slice from a DataFrame.\n",
      "Try using .loc[row_indexer,col_indexer] = value instead\n",
      "\n",
      "See the caveats in the documentation: https://pandas.pydata.org/pandas-docs/stable/user_guide/indexing.html#returning-a-view-versus-a-copy\n",
      "  cat.loc[:, ['RowId']] = txt_transfom.transform()\n",
      "C:\\Users\\gilbe\\Documents\\TokyoStockEx\\notebooks\\..\\preprocessing\\preprocess.py:111: SettingWithCopyWarning: \n",
      "A value is trying to be set on a copy of a slice from a DataFrame.\n",
      "Try using .loc[row_indexer,col_indexer] = value instead\n",
      "\n",
      "See the caveats in the documentation: https://pandas.pydata.org/pandas-docs/stable/user_guide/indexing.html#returning-a-view-versus-a-copy\n",
      "  df['Volume'] = df['Volume'].astype(float)\n",
      "C:\\Users\\gilbe\\Documents\\TokyoStockEx\\notebooks\\..\\preprocessing\\preprocess.py:111: SettingWithCopyWarning: \n",
      "A value is trying to be set on a copy of a slice from a DataFrame.\n",
      "Try using .loc[row_indexer,col_indexer] = value instead\n",
      "\n",
      "See the caveats in the documentation: https://pandas.pydata.org/pandas-docs/stable/user_guide/indexing.html#returning-a-view-versus-a-copy\n",
      "  df['Volume'] = df['Volume'].astype(float)\n"
     ]
    },
    {
     "name": "stdout",
     "output_type": "stream",
     "text": [
      "Epoch: <<< 0 >>>\n",
      "\n",
      "                    Average train loss: 0.0014791041612625122 | \n",
      "                    Train-Mae: 0.11546129733324051 |\n",
      "\n",
      "                    Average val loss: 0.008170959539711475|\n",
      "                    Val-Mae: 0.06938480585813522\n",
      "                    \n",
      ".................... End of epoch 0 ....................\n",
      "Epoch: <<< 2 >>>\n",
      "\n",
      "                    Average train loss: 0.0015623288229107857 | \n",
      "                    Train-Mae: 0.11964147537946701 |\n",
      "\n",
      "                    Average val loss: 0.008017194457352161|\n",
      "                    Val-Mae: 0.06872895359992981\n",
      "                    \n",
      ".................... End of epoch 2 ....................\n",
      "Epoch: <<< 4 >>>\n",
      "\n",
      "                    Average train loss: 0.0015405083075165748 | \n",
      "                    Train-Mae: 0.10772638022899628 |\n",
      "\n",
      "                    Average val loss: 0.007800982799381018|\n",
      "                    Val-Mae: 0.0676073431968689\n",
      "                    \n",
      ".................... End of epoch 4 ....................\n"
     ]
    },
    {
     "data": {
      "image/png": "[encoded data removed]",
      "text/plain": [
       "<Figure size 432x288 with 1 Axes>"
      ]
     },
     "metadata": {
      "needs_background": "light"
     },
     "output_type": "display_data"
    },
    {
     "data": {
      "image/png": "[encoded data removed]",
      "text/plain": [
       "<Figure size 432x288 with 1 Axes>"
      ]
     },
     "metadata": {
      "needs_background": "light"
     },
     "output_type": "display_data"
    },
    {
     "name": "stdout",
     "output_type": "stream",
     "text": [
      "####################\n",
      "\n",
      "Start training for stock: 1377\n",
      "continuos shape: (1202, 9)  categorical shape: (1202, 4)\n"
     ]
    },
    {
     "name": "stderr",
     "output_type": "stream",
     "text": [
      "C:\\Users\\gilbe\\Documents\\TokyoStockEx\\notebooks\\..\\preprocessing\\preprocess.py:135: SettingWithCopyWarning: \n",
      "A value is trying to be set on a copy of a slice from a DataFrame.\n",
      "Try using .loc[row_indexer,col_indexer] = value instead\n",
      "\n",
      "See the caveats in the documentation: https://pandas.pydata.org/pandas-docs/stable/user_guide/indexing.html#returning-a-view-versus-a-copy\n",
      "  cat.loc[:, ['RowId']] = txt_transfom.transform()\n",
      "C:\\Users\\gilbe\\Documents\\TokyoStockEx\\notebooks\\..\\preprocessing\\preprocess.py:111: SettingWithCopyWarning: \n",
      "A value is trying to be set on a copy of a slice from a DataFrame.\n",
      "Try using .loc[row_indexer,col_indexer] = value instead\n",
      "\n",
      "See the caveats in the documentation: https://pandas.pydata.org/pandas-docs/stable/user_guide/indexing.html#returning-a-view-versus-a-copy\n",
      "  df['Volume'] = df['Volume'].astype(float)\n",
      "C:\\Users\\gilbe\\Documents\\TokyoStockEx\\notebooks\\..\\preprocessing\\preprocess.py:111: SettingWithCopyWarning: \n",
      "A value is trying to be set on a copy of a slice from a DataFrame.\n",
      "Try using .loc[row_indexer,col_indexer] = value instead\n",
      "\n",
      "See the caveats in the documentation: https://pandas.pydata.org/pandas-docs/stable/user_guide/indexing.html#returning-a-view-versus-a-copy\n",
      "  df['Volume'] = df['Volume'].astype(float)\n"
     ]
    },
    {
     "name": "stdout",
     "output_type": "stream",
     "text": [
      "Epoch: <<< 0 >>>\n",
      "\n",
      "                    Average train loss: 0.0016714278608560562 | \n",
      "                    Train-Mae: 0.11171979457139969 |\n",
      "\n",
      "                    Average val loss: 0.007544113788753748|\n",
      "                    Val-Mae: 0.06680566072463989\n",
      "                    \n",
      ".................... End of epoch 0 ....................\n",
      "Epoch: <<< 2 >>>\n",
      "\n",
      "                    Average train loss: 0.0016020288690924644 | \n",
      "                    Train-Mae: 0.10987335443496704 |\n",
      "\n",
      "                    Average val loss: 0.007247542031109333|\n",
      "                    Val-Mae: 0.06515908241271973\n",
      "                    \n",
      ".................... End of epoch 2 ....................\n",
      "Epoch: <<< 4 >>>\n",
      "\n",
      "                    Average train loss: 0.0014037525281310082 | \n",
      "                    Train-Mae: 0.1154981479048729 |\n",
      "\n",
      "                    Average val loss: 0.00696024764329195|\n",
      "                    Val-Mae: 0.06352760642766953\n",
      "                    \n",
      ".................... End of epoch 4 ....................\n"
     ]
    },
    {
     "data": {
      "image/png": "[encoded data removed]",
      "text/plain": [
       "<Figure size 432x288 with 1 Axes>"
      ]
     },
     "metadata": {
      "needs_background": "light"
     },
     "output_type": "display_data"
    },
    {
     "data": {
      "image/png": "[encoded data removed]",
      "text/plain": [
       "<Figure size 432x288 with 1 Axes>"
      ]
     },
     "metadata": {
      "needs_background": "light"
     },
     "output_type": "display_data"
    },
    {
     "name": "stdout",
     "output_type": "stream",
     "text": [
      "####################\n",
      "\n",
      "Start training for stock: 1379\n",
      "continuos shape: (1202, 9)  categorical shape: (1202, 4)\n"
     ]
    },
    {
     "name": "stderr",
     "output_type": "stream",
     "text": [
      "C:\\Users\\gilbe\\Documents\\TokyoStockEx\\notebooks\\..\\preprocessing\\preprocess.py:135: SettingWithCopyWarning: \n",
      "A value is trying to be set on a copy of a slice from a DataFrame.\n",
      "Try using .loc[row_indexer,col_indexer] = value instead\n",
      "\n",
      "See the caveats in the documentation: https://pandas.pydata.org/pandas-docs/stable/user_guide/indexing.html#returning-a-view-versus-a-copy\n",
      "  cat.loc[:, ['RowId']] = txt_transfom.transform()\n",
      "C:\\Users\\gilbe\\Documents\\TokyoStockEx\\notebooks\\..\\preprocessing\\preprocess.py:111: SettingWithCopyWarning: \n",
      "A value is trying to be set on a copy of a slice from a DataFrame.\n",
      "Try using .loc[row_indexer,col_indexer] = value instead\n",
      "\n",
      "See the caveats in the documentation: https://pandas.pydata.org/pandas-docs/stable/user_guide/indexing.html#returning-a-view-versus-a-copy\n",
      "  df['Volume'] = df['Volume'].astype(float)\n",
      "C:\\Users\\gilbe\\Documents\\TokyoStockEx\\notebooks\\..\\preprocessing\\preprocess.py:111: SettingWithCopyWarning: \n",
      "A value is trying to be set on a copy of a slice from a DataFrame.\n",
      "Try using .loc[row_indexer,col_indexer] = value instead\n",
      "\n",
      "See the caveats in the documentation: https://pandas.pydata.org/pandas-docs/stable/user_guide/indexing.html#returning-a-view-versus-a-copy\n",
      "  df['Volume'] = df['Volume'].astype(float)\n"
     ]
    }
   ],
   "source": [
    "%%time\n",
    "stocks = train_df['SecuritiesCode'].unique()\n",
    "count = 0\n",
    "BATCH_SIZE = 512\n",
    "\n",
    "trainer = Trainer(model, optimizer_name='rmsprop', lr=1.3333e-6)\n",
    "torch.autograd.set_detect_anomaly(True)\n",
    "\n",
    "for s in stocks:\n",
    "    train_loader, val_dataloader = None, None\n",
    "    if count > 60:\n",
    "        break\n",
    "    print(f'Start training for stock: {s}')\n",
    "\n",
    "    train_dataloader, val_dataloader = dataloader_by_stock(\n",
    "        train_df, s, batch_size=BATCH_SIZE, continous_cols=CONT_COLS)\n",
    "\n",
    "    trainer.fit_epochs(\n",
    "        train_dataloader, \n",
    "        val_dataloader, \n",
    "        use_cyclic_lr=True, \n",
    "        x_cat=True, \n",
    "        epochs=5\n",
    "    )\n",
    "    print('#' * 20)\n",
    "    print()\n",
    "    count += 1\n",
    "    \n",
    "trainer.save_model(model)\n",
    "\n",
    "    "
   ]
  },
  {
   "cell_type": "code",
   "execution_count": null,
   "metadata": {},
   "outputs": [],
   "source": []
  }
 ],
 "metadata": {
  "kernelspec": {
   "display_name": "Python 3 (ipykernel)",
   "language": "python",
   "name": "python3"
  },
  "language_info": {
   "codemirror_mode": {
    "name": "ipython",
    "version": 3
   },
   "file_extension": ".py",
   "mimetype": "text/x-python",
   "name": "python",
   "nbconvert_exporter": "python",
   "pygments_lexer": "ipython3",
   "version": "3.10.4"
  }
 },
 "nbformat": 4,
 "nbformat_minor": 4
}
