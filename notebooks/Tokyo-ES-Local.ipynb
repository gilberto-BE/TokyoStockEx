{
 "cells": [
  {
   "cell_type": "raw",
   "metadata": {
    "_cell_guid": "b1076dfc-b9ad-4769-8c92-a6c4dae69d19",
    "_uuid": "8f2839f25d086af736a60e9eeb907d3b93b6e0e5"
   },
   "source": [
    "# This Python 3 environment comes with many helpful analytics libraries installed\n",
    "# It is defined by the kaggle/python Docker image: https://github.com/kaggle/docker-python\n",
    "# For example, here's several helpful packages to load\n",
    "\n",
    "import numpy as np # linear algebra\n",
    "import pandas as pd # data processing, CSV file I/O (e.g. pd.read_csv)\n",
    "\n",
    "# Input data files are available in the read-only \"../input/\" directory\n",
    "# For example, running this (by clicking run or pressing Shift+Enter) will list all files under the input directory\n",
    "\n",
    "import os\n",
    "for dirname, _, filenames in os.walk('/kaggle/input'):\n",
    "    for filename in filenames:\n",
    "        print(os.path.join(dirname, filename))\n",
    "\n",
    "# You can write up to 20GB to the current directory (/kaggle/working/) that gets preserved as output when you create a version using \"Save & Run All\" \n",
    "# You can also write temporary files to /kaggle/temp/, but they won't be saved outside of the current session"
   ]
  },
  {
   "cell_type": "code",
   "execution_count": null,
   "metadata": {},
   "outputs": [],
   "source": []
  },
  {
   "cell_type": "code",
   "execution_count": 1,
   "metadata": {},
   "outputs": [
    {
     "name": "stderr",
     "output_type": "stream",
     "text": [
      "Global seed set to 42\n"
     ]
    },
    {
     "data": {
      "text/plain": [
       "42"
      ]
     },
     "execution_count": 1,
     "metadata": {},
     "output_type": "execute_result"
    }
   ],
   "source": [
    "import torch\n",
    "from torch.utils.data import DataLoader, Dataset\n",
    "import torch.nn as nn\n",
    "\n",
    "import pytorch_lightning as pl\n",
    "import torch\n",
    "import torch.nn.functional as F\n",
    "import torch.nn as nn\n",
    "import torch.optim as optim\n",
    "import torchmetrics as TM\n",
    "pl.utilities.seed.seed_everything(seed=42)"
   ]
  },
  {
   "cell_type": "code",
   "execution_count": null,
   "metadata": {},
   "outputs": [
    {
     "name": "stderr",
     "output_type": "stream",
     "text": [
      "Global seed set to 42\n"
     ]
    }
   ],
   "source": [
    "\n",
    "\n",
    "import pandas as pd\n",
    "import sys, os\n",
    "source_path = os.path.join(os.getcwd(), os.pardir, 'src')\n",
    "sys.path.append(source_path)\n",
    "source_path = os.path.join(os.getcwd(), os.pardir, 'preprocessing')\n",
    "sys.path.append(source_path)\n",
    "\n",
    "from models import NeuralNetwork, Trainer\n",
    "from preprocessing import (\n",
    "    show_df, \n",
    "    date_features, \n",
    "    preprocess, \n",
    "    ToTorch, \n",
    "    get_loader)"
   ]
  },
  {
   "cell_type": "code",
   "execution_count": null,
   "metadata": {},
   "outputs": [],
   "source": []
  },
  {
   "cell_type": "markdown",
   "metadata": {},
   "source": [
    "# Utility functions and classes"
   ]
  },
  {
   "cell_type": "code",
   "execution_count": null,
   "metadata": {},
   "outputs": [],
   "source": []
  },
  {
   "cell_type": "markdown",
   "metadata": {
    "execution": {
     "iopub.execute_input": "2022-04-13T05:54:38.473935Z",
     "iopub.status.busy": "2022-04-13T05:54:38.473593Z",
     "iopub.status.idle": "2022-04-13T05:54:38.478780Z",
     "shell.execute_reply": "2022-04-13T05:54:38.477579Z",
     "shell.execute_reply.started": "2022-04-13T05:54:38.473903Z"
    }
   },
   "source": [
    "# Set Root Path to local disk"
   ]
  },
  {
   "cell_type": "code",
   "execution_count": null,
   "metadata": {},
   "outputs": [],
   "source": [
    "ROOT_PATH = 'c:/Users/gilbe/Documents/TokyoData'"
   ]
  },
  {
   "cell_type": "markdown",
   "metadata": {},
   "source": [
    "# Start data analysis "
   ]
  },
  {
   "cell_type": "markdown",
   "metadata": {},
   "source": [
    "### API data"
   ]
  },
  {
   "cell_type": "raw",
   "metadata": {
    "execution": {
     "iopub.execute_input": "2022-04-12T12:44:54.294018Z",
     "iopub.status.busy": "2022-04-12T12:44:54.293559Z",
     "iopub.status.idle": "2022-04-12T12:44:54.408209Z",
     "shell.execute_reply": "2022-04-12T12:44:54.407409Z",
     "shell.execute_reply.started": "2022-04-12T12:44:54.293975Z"
    }
   },
   "source": [
    "dataset_dir=\"../input/jpx-tokyo-stock-exchange-prediction/example_test_files/\"\n",
    "# 読み込むファイルを定義します。\n",
    "inputs = {\n",
    "    \"financials\": f\"{dataset_dir}/financials.csv\",\n",
    "    \"options\": f\"{dataset_dir}/options.csv\",\n",
    "    \"secondary_stock_prices\": f\"{dataset_dir}secondary_stock_prices.csv\",\n",
    "    \"stock_prices\": f\"{dataset_dir}/stock_prices.csv\",\n",
    "    \"trades\": f\"{dataset_dir}/trades.csv\",\n",
    "}\n",
    "\n",
    "# ファイルを読み込みます\n",
    "example_test_files = {}\n",
    "for k, v in inputs.items():\n",
    "    print(k)\n",
    "    example_test_files[k] = pd.read_csv(v)"
   ]
  },
  {
   "cell_type": "code",
   "execution_count": null,
   "metadata": {},
   "outputs": [],
   "source": [
    "'/kaggle/input/jpx-tokyo-stock-exchange-prediction/train_files/financials.csv'\n",
    "'/train_files/trades.csv'\n",
    "\n",
    "train_df = pd.read_csv(f'{ROOT_PATH}/train_files/stock_prices.csv')\n",
    "train_df['Date'] = pd.to_datetime(train_df['Date']) \n",
    "train_df.set_index('Date', inplace=True)\n",
    "# train_df = date_features(train_df)\n",
    "\n",
    "train_options = pd.read_csv(f'{ROOT_PATH}/train_files/options.csv', low_memory=False)\n",
    "train_financials = pd.read_csv(f'{ROOT_PATH}/train_files/financials.csv', low_memory=False)\n",
    "train_trades = pd.read_csv(f'{ROOT_PATH}/train_files/trades.csv', low_memory=False)"
   ]
  },
  {
   "cell_type": "code",
   "execution_count": null,
   "metadata": {},
   "outputs": [],
   "source": [
    "print(train_df.shape)\n",
    "print()\n",
    "print('Unique values for Adjustment factor:')\n",
    "print(train_df.AdjustmentFactor.unique())\n",
    "print()\n",
    "print('Number of Unique Securities code:')\n",
    "print(train_df.SecuritiesCode.nunique())\n",
    "print()\n",
    "print('Number of Unique Expected dividends:')\n",
    "print(train_df.ExpectedDividend.nunique())\n",
    "# print(train_df.ExpectedDividend.unique())\n",
    "show_df(train_df, dataframe_name='stock_data')\n",
    "\n",
    "show_df(train_options, dataframe_name='options_data')\n",
    "\n",
    "show_df(train_financials, dataframe_name='financials')\n",
    "\n",
    "show_df(train_trades, dataframe_name='trades')"
   ]
  },
  {
   "cell_type": "code",
   "execution_count": null,
   "metadata": {},
   "outputs": [],
   "source": [
    "import matplotlib.pyplot as plt\n",
    "\n",
    "df_1301 = train_df[train_df['SecuritiesCode'] == 1301].drop('SecuritiesCode', axis=1)\n",
    "# df_1301.set_index('Date', inplace=True)\n",
    "# df_1301[['Open', 'Close', 'High', 'Low', 'Volume']] = df_1301[['Open', 'Close', 'High', 'Low', 'Volume']].pct_change()\n",
    "df_1301 = preprocess(df_1301)\n",
    "df_1301.plot(figsize=(15, 20), subplots=True);\n",
    "plt.show();\n",
    "df_1301.Target.hist(bins=50);\n",
    "plt.show();\n",
    "\n",
    "\n",
    "# pd.plotting.scatter_matrix(df_1301);\n",
    "# plt.show();\n",
    "print(df_1301.info())"
   ]
  },
  {
   "cell_type": "markdown",
   "metadata": {},
   "source": [
    "## Models\n",
    "Todo:\n",
    "\n",
    "    1) Preprocesses data and use correct features (date features, etc)\n",
    "    2) Deep learning for prediction of stock-returns\n",
    "    3) Ranking with XGBoost or other methods"
   ]
  },
  {
   "cell_type": "markdown",
   "metadata": {},
   "source": []
  },
  {
   "cell_type": "code",
   "execution_count": null,
   "metadata": {
    "tags": []
   },
   "outputs": [],
   "source": [
    "import torch\n",
    "ytrain_stock = df_1301['Target'].to_numpy()\n",
    "xtrain_stock = df_1301.drop('Target', axis=1).to_numpy()\n",
    "print(ytrain_stock)\n",
    "train_dataloader = get_loader(xtrain_stock, ytrain_stock, 64)\n",
    "\n",
    "\n",
    "# train_set = TimeSeriesDataset(x_num, y_num)\n",
    "# train_loader = DataLoader(train_set, batch_size=64)\n",
    "model = NeuralNetwork(in_features=xtrain_stock.shape[1], out_features=1)\n",
    "trainer = Trainer(model)\n",
    "\n",
    "\n",
    "# # Display image and label.\n",
    "# train_features, train_labels = next(iter(train_dataloader))\n",
    "# print(train_features['features'])\n",
    "# print(f\"Feature batch shape: {train_features.size()}\")\n",
    "# print(f\"Labels batch shape: {train_labels.size()}\")\n",
    "# # img = train_features[0].squeeze()\n",
    "# # label = train_labels[0]\n",
    "# # plt.imshow(img, cmap=\"gray\")\n",
    "# # plt.show()\n",
    "# # print(f\"Label: {label}\")"
   ]
  }
 ],
 "metadata": {
  "kernelspec": {
   "display_name": "Python 3",
   "language": "python",
   "name": "python3"
  },
  "language_info": {
   "codemirror_mode": {
    "name": "ipython",
    "version": 3
   },
   "file_extension": ".py",
   "mimetype": "text/x-python",
   "name": "python",
   "nbconvert_exporter": "python",
   "pygments_lexer": "ipython3",
   "version": "3.8.5"
  }
 },
 "nbformat": 4,
 "nbformat_minor": 4
}
