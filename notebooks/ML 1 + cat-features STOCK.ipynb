{
 "cells": [
  {
   "cell_type": "code",
   "execution_count": 1,
   "metadata": {},
   "outputs": [
    {
     "name": "stdout",
     "output_type": "stream",
     "text": [
      "1.11.0\n"
     ]
    }
   ],
   "source": [
    "import torch\n",
    "from torch.utils.data import DataLoader, Dataset\n",
    "import torch.nn as nn\n",
    "\n",
    "# import pytorch_lightning as pl\n",
    "import torch\n",
    "import torch.nn.functional as F\n",
    "import torch.nn as nn\n",
    "import torch.optim as optim\n",
    "import torchmetrics as TM\n",
    "# pl.utilities.seed.seed_everything(seed=42)\n",
    "import numpy as np\n",
    "import pandas as pd\n",
    "\n",
    "import sys, os\n",
    "source_path = os.path.join(os.getcwd(), os.pardir, 'src')\n",
    "sys.path.append(source_path)\n",
    "source_path = os.path.join(os.getcwd(), os.pardir, 'preprocessing')\n",
    "sys.path.append(source_path)\n",
    "source_path = os.path.join(os.getcwd(), os.pardir, 'metrics')\n",
    "sys.path.append(source_path)\n",
    "import matplotlib.pyplot as plt\n",
    "\n",
    "from dl import NeuralNetwork, Trainer\n",
    "from preprocess import (\n",
    "    show_df, \n",
    "    date_features, \n",
    "    preprocess, \n",
    "    ToTorch, \n",
    "    get_loader, \n",
    "    ts_split,\n",
    "    cont_cat_split\n",
    ")\n",
    "from metrics import calc_spread_return_sharpe\n",
    "print(torch.__version__)"
   ]
  },
  {
   "cell_type": "code",
   "execution_count": 2,
   "metadata": {},
   "outputs": [
    {
     "name": "stdout",
     "output_type": "stream",
     "text": [
      "11.3\n"
     ]
    },
    {
     "data": {
      "text/plain": [
       "(None, True, 1)"
      ]
     },
     "execution_count": 2,
     "metadata": {},
     "output_type": "execute_result"
    }
   ],
   "source": [
    "print(torch.version.cuda), torch.cuda.is_available(), torch.cuda.device_count()"
   ]
  },
  {
   "cell_type": "code",
   "execution_count": 3,
   "metadata": {},
   "outputs": [
    {
     "name": "stdout",
     "output_type": "stream",
     "text": [
      "                    RowId  SecuritiesCode    Open    High     Low   Close  \\\n",
      "Date                                                                        \n",
      "2017-01-04  20170104_1301            1301  2734.0  2755.0  2730.0  2742.0   \n",
      "2017-01-04  20170104_1332            1332   568.0   576.0   563.0   571.0   \n",
      "\n",
      "             Volume  AdjustmentFactor  ExpectedDividend  SupervisionFlag  \\\n",
      "Date                                                                       \n",
      "2017-01-04    31400               1.0               NaN            False   \n",
      "2017-01-04  2798500               1.0               NaN            False   \n",
      "\n",
      "              Target  \n",
      "Date                  \n",
      "2017-01-04  0.000730  \n",
      "2017-01-04  0.012324  \n"
     ]
    }
   ],
   "source": [
    "computer_name1 = 'gilbe'\n",
    "computer_name2 = 'Gilberto-BE'\n",
    "\n",
    "ROOT_PATH = f'c:/Users/{computer_name1}/Documents/TokyoData'\n",
    "\n",
    "\n",
    "'/kaggle/input/jpx-tokyo-stock-exchange-prediction/train_files/financials.csv'\n",
    "'/train_files/trades.csv'\n",
    "\n",
    "train_df = pd.read_csv(f'{ROOT_PATH}/train_files/stock_prices.csv')\n",
    "train_df['Date'] = pd.to_datetime(train_df['Date']) \n",
    "train_df.set_index('Date', inplace=True)\n",
    "# train_df = date_features(train_df)\n",
    "print(train_df.head(2))\n",
    "\n",
    "train_options = pd.read_csv(f'{ROOT_PATH}/train_files/options.csv', low_memory=False)\n",
    "train_financials = pd.read_csv(f'{ROOT_PATH}/train_files/financials.csv', low_memory=False)\n",
    "train_trades = pd.read_csv(f'{ROOT_PATH}/train_files/trades.csv', low_memory=False)"
   ]
  },
  {
   "cell_type": "code",
   "execution_count": 4,
   "metadata": {},
   "outputs": [],
   "source": [
    "# n_stocks = train_df.SecuritiesCode.nunique()\n",
    "# n_stocks = train_df.SecuritiesCode.unique()\n",
    "# for n in n_stocks:\n",
    "#     print(train_df[train_df['SecuritiesCode'] == n].shape)"
   ]
  },
  {
   "cell_type": "markdown",
   "metadata": {},
   "source": [
    "##  Get Data and train a Neural Network"
   ]
  },
  {
   "cell_type": "code",
   "execution_count": 5,
   "metadata": {},
   "outputs": [
    {
     "name": "stdout",
     "output_type": "stream",
     "text": [
      "Raw Time Series data shape: (2332531, 11)\n",
      "No Unique Securities code: 2000\n",
      "df_1301.head()\n",
      "                    RowId    Open    High     Low   Close  AdjustmentFactor  \\\n",
      "Date                                                                          \n",
      "2017-01-04  20170104_1301  2734.0  2755.0  2730.0  2742.0               1.0   \n",
      "2017-01-05  20170105_1301  2743.0  2747.0  2735.0  2738.0               1.0   \n",
      "\n",
      "            ExpectedDividend  SupervisionFlag   Target  \n",
      "Date                                                    \n",
      "2017-01-04               NaN            False  0.00073  \n",
      "2017-01-05               NaN            False  0.00292  \n",
      "<class 'pandas.core.frame.DataFrame'>\n",
      "DatetimeIndex: 1202 entries, 2017-01-04 to 2021-12-03\n",
      "Data columns (total 9 columns):\n",
      " #   Column            Non-Null Count  Dtype  \n",
      "---  ------            --------------  -----  \n",
      " 0   RowId             1202 non-null   object \n",
      " 1   Open              1201 non-null   float64\n",
      " 2   High              1201 non-null   float64\n",
      " 3   Low               1201 non-null   float64\n",
      " 4   Close             1201 non-null   float64\n",
      " 5   AdjustmentFactor  1202 non-null   float64\n",
      " 6   ExpectedDividend  5 non-null      float64\n",
      " 7   SupervisionFlag   1202 non-null   bool   \n",
      " 8   Target            1202 non-null   float64\n",
      "dtypes: bool(1), float64(7), object(1)\n",
      "memory usage: 85.7+ KB\n",
      "None\n"
     ]
    },
    {
     "data": {
      "image/png": "[encoded data removed]",
      "text/plain": [
       "<Figure size 720x432 with 1 Axes>"
      ]
     },
     "metadata": {
      "needs_background": "light"
     },
     "output_type": "display_data"
    },
    {
     "name": "stdout",
     "output_type": "stream",
     "text": [
      "categorical shape: (1202, 4)\n",
      "xtrain.shape: (901, 1)\n",
      "[[2742.]\n",
      " [2738.]\n",
      " [2740.]\n",
      " [2748.]\n",
      " [2745.]]\n",
      "\n",
      "ytrain.shape: (901, 1)\n",
      "[[ 0.00073046]\n",
      " [ 0.00291971]\n",
      " [-0.0010917 ]\n",
      " [-0.00510018]\n",
      " [-0.0032955 ]]\n",
      "df_train_cat.shape: (901, 4)\n",
      "            day_of_year  month  day_of_week  RowId\n",
      "Date                                              \n",
      "2017-01-04            4      1            4    0.0\n",
      "2017-01-05            5      1            5    1.0\n",
      "2017-01-06            6      1            6    2.0\n",
      "2017-01-10           10      1           10    3.0\n",
      "2017-01-11           11      1           11    4.0\n"
     ]
    },
    {
     "name": "stderr",
     "output_type": "stream",
     "text": [
      "C:\\Users\\gilbe\\Documents\\TokyoStockEx\\notebooks\\..\\preprocessing\\preprocess.py:116: SettingWithCopyWarning: \n",
      "A value is trying to be set on a copy of a slice from a DataFrame.\n",
      "Try using .loc[row_indexer,col_indexer] = value instead\n",
      "\n",
      "See the caveats in the documentation: https://pandas.pydata.org/pandas-docs/stable/user_guide/indexing.html#returning-a-view-versus-a-copy\n",
      "  cat['RowId'] = np.squeeze(enc.fit_transform(df['RowId'].to_numpy().reshape(-1, 1)))\n"
     ]
    },
    {
     "data": {
      "text/plain": [
       "' xtrain and df_train_cat have different shapes!!!!!'"
      ]
     },
     "execution_count": 5,
     "metadata": {},
     "output_type": "execute_result"
    }
   ],
   "source": [
    "\n",
    "\n",
    "\n",
    "print('Raw Time Series data shape:', train_df.shape)\n",
    "print('No Unique Securities code:', train_df['SecuritiesCode'].nunique())\n",
    "\n",
    "df_1301 = train_df[train_df['SecuritiesCode'] == 1301].drop(['SecuritiesCode', 'Volume'], axis=1)\n",
    "\n",
    "print('df_1301.head()')\n",
    "print(df_1301.head(2))\n",
    "print(df_1301.info())\n",
    "\n",
    "df_1301['Target'].plot(figsize=(10, 6));\n",
    "plt.show();\n",
    "\n",
    "df_1301 = date_features(df_1301)\n",
    "\n",
    "\n",
    "\"\"\" \n",
    "Add RowId as extra catcol.\n",
    "\"\"\"\n",
    "# cont, cat = cont_cat_split(df_1301, 'int64')\n",
    "cat_cols = ['day_of_year', 'month', 'day_of_week', 'RowId']\n",
    "cont, cat = cont_cat_split(df_1301, cat_cols=cat_cols)\n",
    "print('categorical shape:', cat.shape)\n",
    "\n",
    "df_train_cat, df_val_cat = ts_split(cat)\n",
    "df_train, df_val = ts_split(cont)\n",
    "\n",
    "xtrain, ytrain = preprocess(df_train, 'Target', 1, continous_cols=['Close'])\n",
    "xval, yval = preprocess(df_val, 'Target', 1, continous_cols=['Close'])\n",
    "\n",
    "print('xtrain.shape:', xtrain.shape)\n",
    "print(xtrain[:5])\n",
    "print()\n",
    "print('ytrain.shape:', ytrain.shape)\n",
    "print(ytrain[:5])\n",
    "print('df_train_cat.shape:', df_train_cat.shape)\n",
    "print(df_train_cat.head())\n",
    "\n",
    "\"\"\" xtrain and df_train_cat have different shapes!!!!!\"\"\""
   ]
  },
  {
   "cell_type": "markdown",
   "metadata": {},
   "source": [
    "# Data Not Normalized !!!"
   ]
  },
  {
   "cell_type": "markdown",
   "metadata": {},
   "source": [
    "### Train the model"
   ]
  },
  {
   "cell_type": "code",
   "execution_count": 6,
   "metadata": {},
   "outputs": [
    {
     "name": "stdout",
     "output_type": "stream",
     "text": [
      "CAT_FEATURES: 4\n",
      "NO_EMBEDDING: 1802\n",
      "NeuralNetwork(\n",
      "  (flatten): Flatten(start_dim=1, end_dim=-1)\n",
      "  (embedding): Embedding(1802, 24)\n",
      "  (embedding_to_hidden): Linear(in_features=24, out_features=512, bias=True)\n",
      "  (embedding_output): Linear(in_features=512, out_features=1, bias=True)\n",
      "  (cont_input): Linear(in_features=1, out_features=512, bias=True)\n",
      "  (hidden_layer): Linear(in_features=516, out_features=516, bias=True)\n",
      "  (output_layer): Linear(in_features=516, out_features=1, bias=True)\n",
      "  (dropout): Dropout(p=0.1, inplace=False)\n",
      ")\n",
      "Using cuda-device\n",
      "Epoch: <<< 0 >>>\n"
     ]
    },
    {
     "name": "stderr",
     "output_type": "stream",
     "text": [
      "C:\\Users\\gilbe\\anaconda3\\envs\\tokyo\\lib\\site-packages\\torch\\autograd\\__init__.py:173: UserWarning: Casting complex values to real discards the imaginary part (Triggered internally at  C:\\cb\\pytorch_1000000000000\\work\\aten\\src\\ATen\\native\\Copy.cpp:239.)\n",
      "  Variable._execution_engine.run_backward(  # Calls into the C++ engine to run the backward pass\n"
     ]
    },
    {
     "name": "stdout",
     "output_type": "stream",
     "text": [
      "Train metrics: {'mse': 1304252.625, 'mae': 1138.347412109375}\n",
      "Validation metrics: {'mse': 15781501.0, 'mae': 3971.828369140625}\n",
      "Average train loss: 415849.65 | Average val loss: 15309694.0\n",
      ".................... End of epoch 0 ....................\n",
      "Epoch: <<< 1 >>>\n",
      "Train metrics: {'mse': 18006068.0, 'mae': 4236.8212890625}\n",
      "Validation metrics: {'mse': 17798346.0, 'mae': 4217.99560546875}\n",
      "Average train loss: 787054.0 | Average val loss: 17266092.0\n",
      ".................... End of epoch 1 ....................\n",
      "Epoch: <<< 2 >>>\n",
      "Train metrics: {'mse': 13474525.0, 'mae': 3670.061767578125}\n",
      "Validation metrics: {'mse': 21924284.0, 'mae': 4681.435546875}\n",
      "Average train loss: 904367.4 | Average val loss: 21268818.0\n",
      ".................... End of epoch 2 ....................\n",
      "Epoch: <<< 3 >>>\n",
      "Train metrics: {'mse': 176713.71875, 'mae': 382.261962890625}\n",
      "Validation metrics: {'mse': 3121512.0, 'mae': 1766.439453125}\n",
      "Average train loss: 1032216.4 | Average val loss: 3028146.75\n",
      ".................... End of epoch 3 ....................\n",
      "Epoch: <<< 4 >>>\n",
      "Train metrics: {'mse': 1105104.375, 'mae': 1049.566162109375}\n",
      "Validation metrics: {'mse': 774914.5625, 'mae': 880.1224365234375}\n",
      "Average train loss: 158679.075 | Average val loss: 751729.875\n",
      ".................... End of epoch 4 ....................\n",
      "Epoch: <<< 5 >>>\n",
      "Train metrics: {'mse': 387454.375, 'mae': 617.0455322265625}\n",
      "Validation metrics: {'mse': 957516.25, 'mae': 978.3394165039062}\n",
      "Average train loss: 40338.171875 | Average val loss: 928903.9375\n",
      ".................... End of epoch 5 ....................\n",
      "Epoch: <<< 6 >>>\n",
      "Train metrics: {'mse': 64984.9765625, 'mae': 248.2283172607422}\n",
      "Validation metrics: {'mse': 27875.310546875, 'mae': 166.9271697998047}\n",
      "Average train loss: 44197.3375 | Average val loss: 27044.787109375\n",
      ".................... End of epoch 6 ....................\n",
      "Epoch: <<< 7 >>>\n",
      "Train metrics: {'mse': 54535.23046875, 'mae': 204.95779418945312}\n",
      "Validation metrics: {'mse': 129780.578125, 'mae': 360.18096923828125}\n",
      "Average train loss: 1633.363671875 | Average val loss: 125894.046875\n",
      ".................... End of epoch 7 ....................\n",
      "Epoch: <<< 8 >>>\n",
      "Train metrics: {'mse': 14187.630859375, 'mae': 96.60173034667969}\n",
      "Validation metrics: {'mse': 1570.4813232421875, 'mae': 39.621978759765625}\n",
      "Average train loss: 8054.43515625 | Average val loss: 1524.1888427734375\n",
      ".................... End of epoch 8 ....................\n",
      "Epoch: <<< 9 >>>\n",
      "Train metrics: {'mse': 8724.06640625, 'mae': 81.97532653808594}\n",
      "Validation metrics: {'mse': 36548.5546875, 'mae': 191.14022827148438}\n",
      "Average train loss: 615.572216796875 | Average val loss: 35458.91015625\n",
      ".................... End of epoch 9 ....................\n",
      "Epoch: <<< 10 >>>\n",
      "Train metrics: {'mse': 16577.86328125, 'mae': 102.17878723144531}\n",
      "Validation metrics: {'mse': 30.624902725219727, 'mae': 5.532548904418945}\n",
      "Average train loss: 2126.381640625 | Average val loss: 29.61708641052246\n",
      ".................... End of epoch 10 ....................\n",
      "Epoch: <<< 11 >>>\n",
      "Train metrics: {'mse': 21737.71484375, 'mae': 122.59275817871094}\n",
      "Validation metrics: {'mse': 1287.6942138671875, 'mae': 35.87721252441406}\n",
      "Average train loss: 663.02841796875 | Average val loss: 1248.5916748046875\n",
      ".................... End of epoch 11 ....................\n",
      "Epoch: <<< 12 >>>\n",
      "Train metrics: {'mse': 3282.68603515625, 'mae': 44.483421325683594}\n",
      "Validation metrics: {'mse': 3664.8134765625, 'mae': 60.5263557434082}\n",
      "Average train loss: 821.58447265625 | Average val loss: 3556.22998046875\n",
      ".................... End of epoch 12 ....................\n",
      "Epoch: <<< 13 >>>\n",
      "Train metrics: {'mse': 16903.115234375, 'mae': 102.2617416381836}\n",
      "Validation metrics: {'mse': 1526.1640625, 'mae': 39.058937072753906}\n",
      "Average train loss: 513.20751953125 | Average val loss: 1481.1771240234375\n",
      ".................... End of epoch 13 ....................\n",
      "Epoch: <<< 14 >>>\n",
      "Train metrics: {'mse': 3602.528076171875, 'mae': 51.12358856201172}\n",
      "Validation metrics: {'mse': 34.56468200683594, 'mae': 5.877685546875}\n",
      "Average train loss: 507.88505859375 | Average val loss: 33.43460464477539\n",
      ".................... End of epoch 14 ....................\n",
      "Epoch: <<< 15 >>>\n",
      "Train metrics: {'mse': 9448.0185546875, 'mae': 85.19938659667969}\n",
      "Validation metrics: {'mse': 1446.76220703125, 'mae': 38.0293083190918}\n",
      "Average train loss: 511.0462890625 | Average val loss: 1404.131103515625\n",
      ".................... End of epoch 15 ....................\n",
      "Epoch: <<< 16 >>>\n",
      "Train metrics: {'mse': 1804.83984375, 'mae': 35.23651123046875}\n",
      "Validation metrics: {'mse': 2197.927978515625, 'mae': 46.873348236083984}\n",
      "Average train loss: 554.3400390625 | Average val loss: 2132.984130859375\n",
      ".................... End of epoch 16 ....................\n",
      "Epoch: <<< 17 >>>\n",
      "Train metrics: {'mse': 4141.6962890625, 'mae': 50.773643493652344}\n",
      "Validation metrics: {'mse': 11.841419219970703, 'mae': 3.440093994140625}\n",
      "Average train loss: 513.6806640625 | Average val loss: 11.43153190612793\n",
      ".................... End of epoch 17 ....................\n",
      "Epoch: <<< 18 >>>\n",
      "Train metrics: {'mse': 7264.1572265625, 'mae': 68.68153381347656}\n",
      "Validation metrics: {'mse': 300.4829406738281, 'mae': 17.331405639648438}\n",
      "Average train loss: 560.3603515625 | Average val loss: 291.7825622558594\n",
      ".................... End of epoch 18 ....................\n",
      "Epoch: <<< 19 >>>\n",
      "Train metrics: {'mse': 7602.9873046875, 'mae': 76.9469985961914}\n",
      "Validation metrics: {'mse': 1081.2996826171875, 'mae': 32.87709045410156}\n",
      "Average train loss: 448.39853515625 | Average val loss: 1049.5072021484375\n",
      ".................... End of epoch 19 ....................\n",
      "Epoch: <<< 20 >>>\n",
      "Train metrics: {'mse': 4754.9873046875, 'mae': 44.08784866333008}\n",
      "Validation metrics: {'mse': 303.5374755859375, 'mae': 17.41927146911621}\n",
      "Average train loss: 473.0076171875 | Average val loss: 294.74578857421875\n",
      ".................... End of epoch 20 ....................\n",
      "Epoch: <<< 21 >>>\n",
      "Train metrics: {'mse': 4275.853515625, 'mae': 64.52217864990234}\n",
      "Validation metrics: {'mse': 913.1900024414062, 'mae': 30.21351432800293}\n",
      "Average train loss: 490.200927734375 | Average val loss: 886.3756103515625\n",
      ".................... End of epoch 21 ....................\n",
      "Epoch: <<< 22 >>>\n",
      "Train metrics: {'mse': 1818.8385009765625, 'mae': 35.92914581298828}\n",
      "Validation metrics: {'mse': 738.2161865234375, 'mae': 27.165205001831055}\n",
      "Average train loss: 472.863330078125 | Average val loss: 716.5892944335938\n",
      ".................... End of epoch 22 ....................\n",
      "Epoch: <<< 23 >>>\n",
      "Train metrics: {'mse': 24023.5859375, 'mae': 115.79411315917969}\n",
      "Validation metrics: {'mse': 656.6907958984375, 'mae': 25.621349334716797}\n",
      "Average train loss: 519.8828125 | Average val loss: 637.4798583984375\n",
      ".................... End of epoch 23 ....................\n",
      "Epoch: <<< 24 >>>\n",
      "Train metrics: {'mse': 2837.253173828125, 'mae': 44.920230865478516}\n",
      "Validation metrics: {'mse': 172.08155822753906, 'mae': 13.115758895874023}\n",
      "Average train loss: 396.766015625 | Average val loss: 167.1534881591797\n",
      ".................... End of epoch 24 ....................\n"
     ]
    },
    {
     "data": {
      "image/png": "[encoded data removed]",
      "text/plain": [
       "<Figure size 432x288 with 1 Axes>"
      ]
     },
     "metadata": {
      "needs_background": "light"
     },
     "output_type": "display_data"
    },
    {
     "name": "stdout",
     "output_type": "stream",
     "text": [
      "CPU times: total: 4min 16s\n",
      "Wall time: 4min 19s\n"
     ]
    }
   ],
   "source": [
    "\n",
    "%%time\n",
    "import torch\n",
    "from sklearn.impute import SimpleImputer\n",
    "\n",
    "\n",
    "imp = SimpleImputer(missing_values=np.nan, strategy='mean')\n",
    "batch_size = 128\n",
    "train_dataloader = get_loader(x=xtrain, y=ytrain, batch_size=batch_size, x_cat=df_train_cat.to_numpy())\n",
    "val_dataloader = get_loader(x=xval, y=yval, batch_size=batch_size, x_cat=df_val_cat.to_numpy())\n",
    "\n",
    "\n",
    "CAT_FEATURES = cat.shape[1]\n",
    "print('CAT_FEATURES:', CAT_FEATURES)\n",
    "EMBEDDING_DIM = 24\n",
    "NO_EMBEDDING = 2 * len(df_train_cat)\n",
    "print('NO_EMBEDDING:', NO_EMBEDDING)\n",
    "\n",
    "# cat_features = cat_features * embedding_dim\n",
    "# print('in_features:', xtrain.shape[1] + cat_features)\n",
    "\n",
    "model = NeuralNetwork(\n",
    "    in_features=xtrain.shape[1], \n",
    "    units=512,\n",
    "    out_features=1, \n",
    "    categorical_dim=CAT_FEATURES,\n",
    "    no_embedding=NO_EMBEDDING, \n",
    "    emb_dim=EMBEDDING_DIM,\n",
    "    n_blocks=25\n",
    ")\n",
    "\n",
    "print(model)\n",
    "\n",
    "torch.autograd.set_detect_anomaly(True)\n",
    "trainer = Trainer(model, lr=1.3e-6)\n",
    "trainer.fit_epochs(\n",
    "    train_dataloader, \n",
    "    val_dataloader, \n",
    "    use_cyclic_lr=True, \n",
    "    x_cat=True, \n",
    "    epochs=25\n",
    ")\n"
   ]
  },
  {
   "cell_type": "code",
   "execution_count": 7,
   "metadata": {},
   "outputs": [
    {
     "data": {
      "text/plain": [
       "1"
      ]
     },
     "execution_count": 7,
     "metadata": {},
     "output_type": "execute_result"
    }
   ],
   "source": [
    "xtrain.shape[1]"
   ]
  }
 ],
 "metadata": {
  "kernelspec": {
   "display_name": "Python 3 (ipykernel)",
   "language": "python",
   "name": "python3"
  },
  "language_info": {
   "codemirror_mode": {
    "name": "ipython",
    "version": 3
   },
   "file_extension": ".py",
   "mimetype": "text/x-python",
   "name": "python",
   "nbconvert_exporter": "python",
   "pygments_lexer": "ipython3",
   "version": "3.10.4"
  }
 },
 "nbformat": 4,
 "nbformat_minor": 4
}
