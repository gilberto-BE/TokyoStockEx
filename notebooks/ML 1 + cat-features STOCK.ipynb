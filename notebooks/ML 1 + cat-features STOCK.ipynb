{
 "cells": [
  {
   "cell_type": "code",
   "execution_count": 1,
   "metadata": {},
   "outputs": [
    {
     "name": "stdout",
     "output_type": "stream",
     "text": [
      "1.11.0\n"
     ]
    }
   ],
   "source": [
    "import torch\n",
    "from torch.utils.data import DataLoader, Dataset\n",
    "import torch.nn as nn\n",
    "\n",
    "# import pytorch_lightning as pl\n",
    "import torch\n",
    "import torch.nn.functional as F\n",
    "import torch.nn as nn\n",
    "import torch.optim as optim\n",
    "import torchmetrics as TM\n",
    "# pl.utilities.seed.seed_everything(seed=42)\n",
    "import numpy as np\n",
    "import pandas as pd\n",
    "\n",
    "import sys, os\n",
    "source_path = os.path.join(os.getcwd(), os.pardir, 'src')\n",
    "sys.path.append(source_path)\n",
    "source_path = os.path.join(os.getcwd(), os.pardir, 'preprocessing')\n",
    "sys.path.append(source_path)\n",
    "source_path = os.path.join(os.getcwd(), os.pardir, 'metrics')\n",
    "sys.path.append(source_path)\n",
    "import matplotlib.pyplot as plt\n",
    "\n",
    "from dl import NeuralNetwork, Trainer\n",
    "from preprocess import (\n",
    "    show_df, \n",
    "    date_features, \n",
    "    preprocess, \n",
    "    ToTorch, \n",
    "    get_loader, \n",
    "    ts_split,\n",
    "    cont_cat_split\n",
    ")\n",
    "from metrics import calc_spread_return_sharpe\n",
    "print(torch.__version__)"
   ]
  },
  {
   "cell_type": "code",
   "execution_count": 2,
   "metadata": {},
   "outputs": [
    {
     "name": "stdout",
     "output_type": "stream",
     "text": [
      "11.3\n"
     ]
    },
    {
     "data": {
      "text/plain": [
       "(None, True, 1)"
      ]
     },
     "execution_count": 2,
     "metadata": {},
     "output_type": "execute_result"
    }
   ],
   "source": [
    "print(torch.version.cuda), torch.cuda.is_available(), torch.cuda.device_count()"
   ]
  },
  {
   "cell_type": "code",
   "execution_count": 3,
   "metadata": {},
   "outputs": [
    {
     "name": "stdout",
     "output_type": "stream",
     "text": [
      "                    RowId  SecuritiesCode    Open    High     Low   Close  \\\n",
      "Date                                                                        \n",
      "2017-01-04  20170104_1301            1301  2734.0  2755.0  2730.0  2742.0   \n",
      "2017-01-04  20170104_1332            1332   568.0   576.0   563.0   571.0   \n",
      "\n",
      "             Volume  AdjustmentFactor  ExpectedDividend  SupervisionFlag  \\\n",
      "Date                                                                       \n",
      "2017-01-04    31400               1.0               NaN            False   \n",
      "2017-01-04  2798500               1.0               NaN            False   \n",
      "\n",
      "              Target  \n",
      "Date                  \n",
      "2017-01-04  0.000730  \n",
      "2017-01-04  0.012324  \n"
     ]
    }
   ],
   "source": [
    "computer_name1 = 'gilbe'\n",
    "computer_name2 = 'Gilberto-BE'\n",
    "\n",
    "ROOT_PATH = f'c:/Users/{computer_name1}/Documents/TokyoData'\n",
    "\n",
    "\n",
    "'/kaggle/input/jpx-tokyo-stock-exchange-prediction/train_files/financials.csv'\n",
    "'/train_files/trades.csv'\n",
    "\n",
    "train_df = pd.read_csv(f'{ROOT_PATH}/train_files/stock_prices.csv')\n",
    "train_df['Date'] = pd.to_datetime(train_df['Date']) \n",
    "train_df.set_index('Date', inplace=True)\n",
    "# train_df = date_features(train_df)\n",
    "print(train_df.head(2))\n",
    "\n",
    "train_options = pd.read_csv(f'{ROOT_PATH}/train_files/options.csv', low_memory=False)\n",
    "train_financials = pd.read_csv(f'{ROOT_PATH}/train_files/financials.csv', low_memory=False)\n",
    "train_trades = pd.read_csv(f'{ROOT_PATH}/train_files/trades.csv', low_memory=False)"
   ]
  },
  {
   "cell_type": "code",
   "execution_count": 4,
   "metadata": {},
   "outputs": [],
   "source": [
    "# n_stocks = train_df.SecuritiesCode.nunique()\n",
    "# n_stocks = train_df.SecuritiesCode.unique()\n",
    "# for n in n_stocks:\n",
    "#     print(train_df[train_df['SecuritiesCode'] == n].shape)"
   ]
  },
  {
   "cell_type": "markdown",
   "metadata": {},
   "source": [
    "##  Get Data and train a Neural Network"
   ]
  },
  {
   "cell_type": "code",
   "execution_count": 5,
   "metadata": {},
   "outputs": [
    {
     "name": "stdout",
     "output_type": "stream",
     "text": [
      "Raw Time Series data shape: (2332531, 11)\n",
      "No Unique Securities code: 2000\n",
      "df_1301.head()\n",
      "                    RowId    Open    High     Low   Close  AdjustmentFactor  \\\n",
      "Date                                                                          \n",
      "2017-01-04  20170104_1301  2734.0  2755.0  2730.0  2742.0               1.0   \n",
      "2017-01-05  20170105_1301  2743.0  2747.0  2735.0  2738.0               1.0   \n",
      "\n",
      "            ExpectedDividend  SupervisionFlag   Target  \n",
      "Date                                                    \n",
      "2017-01-04               NaN            False  0.00073  \n",
      "2017-01-05               NaN            False  0.00292  \n",
      "<class 'pandas.core.frame.DataFrame'>\n",
      "DatetimeIndex: 1202 entries, 2017-01-04 to 2021-12-03\n",
      "Data columns (total 9 columns):\n",
      " #   Column            Non-Null Count  Dtype  \n",
      "---  ------            --------------  -----  \n",
      " 0   RowId             1202 non-null   object \n",
      " 1   Open              1201 non-null   float64\n",
      " 2   High              1201 non-null   float64\n",
      " 3   Low               1201 non-null   float64\n",
      " 4   Close             1201 non-null   float64\n",
      " 5   AdjustmentFactor  1202 non-null   float64\n",
      " 6   ExpectedDividend  5 non-null      float64\n",
      " 7   SupervisionFlag   1202 non-null   bool   \n",
      " 8   Target            1202 non-null   float64\n",
      "dtypes: bool(1), float64(7), object(1)\n",
      "memory usage: 85.7+ KB\n",
      "None\n"
     ]
    },
    {
     "data": {
      "image/png": "[encoded data removed]",
      "text/plain": [
       "<Figure size 720x432 with 1 Axes>"
      ]
     },
     "metadata": {
      "needs_background": "light"
     },
     "output_type": "display_data"
    },
    {
     "name": "stdout",
     "output_type": "stream",
     "text": [
      "categorical shape: (1202, 4)\n",
      "xtrain.shape: (900, 1)\n",
      "[[-0.00145879]\n",
      " [ 0.00073046]\n",
      " [ 0.00291971]\n",
      " [-0.0010917 ]\n",
      " [-0.00510018]]\n",
      "\n",
      "ytrain.shape: (901, 1)\n",
      "[[ 0.00073046]\n",
      " [ 0.00291971]\n",
      " [-0.0010917 ]\n",
      " [-0.00510018]\n",
      " [-0.0032955 ]]\n",
      "df_train_cat.shape: (901, 4)\n",
      "            day_of_year  month  day_of_week  RowId\n",
      "Date                                              \n",
      "2017-01-04            4      1            4    0.0\n",
      "2017-01-05            5      1            5    1.0\n",
      "2017-01-06            6      1            6    2.0\n",
      "2017-01-10           10      1           10    3.0\n",
      "2017-01-11           11      1           11    4.0\n"
     ]
    },
    {
     "name": "stderr",
     "output_type": "stream",
     "text": [
      "C:\\Users\\gilbe\\Documents\\TokyoStockEx\\notebooks\\..\\preprocessing\\preprocess.py:106: SettingWithCopyWarning: \n",
      "A value is trying to be set on a copy of a slice from a DataFrame.\n",
      "Try using .loc[row_indexer,col_indexer] = value instead\n",
      "\n",
      "See the caveats in the documentation: https://pandas.pydata.org/pandas-docs/stable/user_guide/indexing.html#returning-a-view-versus-a-copy\n",
      "  cat['RowId'] = np.squeeze(enc.fit_transform(df['RowId'].to_numpy().reshape(-1, 1)))\n"
     ]
    },
    {
     "data": {
      "text/plain": [
       "' xtrain and df_train_cat have different shapes!!!!!'"
      ]
     },
     "execution_count": 5,
     "metadata": {},
     "output_type": "execute_result"
    }
   ],
   "source": [
    "\n",
    "\n",
    "\n",
    "print('Raw Time Series data shape:', train_df.shape)\n",
    "print('No Unique Securities code:', train_df['SecuritiesCode'].nunique())\n",
    "\n",
    "df_1301 = train_df[train_df['SecuritiesCode'] == 1301].drop(['SecuritiesCode', 'Volume'], axis=1)\n",
    "\n",
    "print('df_1301.head()')\n",
    "print(df_1301.head(2))\n",
    "print(df_1301.info())\n",
    "\n",
    "df_1301.plot(figsize=(10, 6));\n",
    "plt.show();\n",
    "\n",
    "df_1301 = date_features(df_1301)\n",
    "\n",
    "\n",
    "\"\"\" \n",
    "Add RowId as extra catcol.\n",
    "\"\"\"\n",
    "# cont, cat = cont_cat_split(df_1301, 'int64')\n",
    "cat_cols = ['day_of_year', 'month', 'day_of_week', 'RowId']\n",
    "cont, cat = cont_cat_split(df_1301, cat_cols=cat_cols)\n",
    "print('categorical shape:', cat.shape)\n",
    "\n",
    "df_train_cat, df_val_cat = ts_split(cat)\n",
    "df_train, df_val = ts_split(cont)\n",
    "\n",
    "xtrain, ytrain = preprocess(df_train, 'Target', 1, continous_cols=['Close'])\n",
    "xval, yval = preprocess(df_val, 'Target', 1, continous_cols=['Close'])\n",
    "\n",
    "print('xtrain.shape:', xtrain.shape)\n",
    "print(xtrain[:5])\n",
    "print()\n",
    "print('ytrain.shape:', ytrain.shape)\n",
    "print(ytrain[:5])\n",
    "print('df_train_cat.shape:', df_train_cat.shape)\n",
    "print(df_train_cat.head())\n",
    "\n",
    "\"\"\" xtrain and df_train_cat have different shapes!!!!!\"\"\""
   ]
  },
  {
   "cell_type": "markdown",
   "metadata": {},
   "source": [
    "### Train the model"
   ]
  },
  {
   "cell_type": "code",
   "execution_count": 6,
   "metadata": {},
   "outputs": [
    {
     "name": "stdout",
     "output_type": "stream",
     "text": [
      "CAT_FEATURES: 4\n",
      "NO_EMBEDDING: 1802\n",
      "NeuralNetwork(\n",
      "  (flatten): Flatten(start_dim=1, end_dim=-1)\n",
      "  (embedding): Embedding(1802, 24)\n",
      "  (embedding_to_hidden): Linear(in_features=24, out_features=512, bias=True)\n",
      "  (embedding_output): Linear(in_features=512, out_features=1, bias=True)\n",
      "  (cont_input): Linear(in_features=1, out_features=512, bias=True)\n",
      "  (hidden_layer): Linear(in_features=516, out_features=516, bias=True)\n",
      "  (output_layer): Linear(in_features=516, out_features=1, bias=True)\n",
      "  (dropout): Dropout(p=0.1, inplace=False)\n",
      ")\n",
      "Using cuda-device\n",
      "Epoch: <<< 0 >>>\n"
     ]
    },
    {
     "name": "stderr",
     "output_type": "stream",
     "text": [
      "C:\\Users\\gilbe\\anaconda3\\envs\\tokyo\\lib\\site-packages\\torch\\autograd\\__init__.py:173: UserWarning: Casting complex values to real discards the imaginary part (Triggered internally at  C:\\cb\\pytorch_1000000000000\\work\\aten\\src\\ATen\\native\\Copy.cpp:239.)\n",
      "  Variable._execution_engine.run_backward(  # Calls into the C++ engine to run the backward pass\n"
     ]
    },
    {
     "name": "stdout",
     "output_type": "stream",
     "text": [
      "Train metrics: {'mse': 0.03321725130081177, 'mae': 0.1819799542427063}\n",
      "Validation metrics: {'mse': 0.21967285871505737, 'mae': 0.4684079885482788}\n",
      "Average train loss: 0.03898017108440399 | Average val loss: 0.218728706240654\n",
      ".................... End of epoch 0 ....................\n",
      "Epoch: <<< 1 >>>\n",
      "Train metrics: {'mse': 0.02716371975839138, 'mae': 0.16108819842338562}\n",
      "Validation metrics: {'mse': 0.1262868046760559, 'mae': 0.3548443615436554}\n",
      "Average train loss: 0.011044015735387802 | Average val loss: 0.12636798620224\n",
      ".................... End of epoch 1 ....................\n",
      "Epoch: <<< 2 >>>\n",
      "Train metrics: {'mse': 0.035966284573078156, 'mae': 0.18510670959949493}\n",
      "Validation metrics: {'mse': 0.09329674392938614, 'mae': 0.305102676153183}\n",
      "Average train loss: 0.006498132646083832 | Average val loss: 0.09334827959537506\n",
      ".................... End of epoch 2 ....................\n",
      "Epoch: <<< 3 >>>\n",
      "Train metrics: {'mse': 0.011559681035578251, 'mae': 0.10713167488574982}\n",
      "Validation metrics: {'mse': 0.04345521330833435, 'mae': 0.20785342156887054}\n",
      "Average train loss: 0.004564902931451798 | Average val loss: 0.04332991689443588\n",
      ".................... End of epoch 3 ....................\n",
      "Epoch: <<< 4 >>>\n",
      "Train metrics: {'mse': 0.000380844809114933, 'mae': 0.013843052089214325}\n",
      "Validation metrics: {'mse': 0.008536005392670631, 'mae': 0.0912470892071724}\n",
      "Average train loss: 0.002064781449735165 | Average val loss: 0.008516908623278141\n",
      ".................... End of epoch 4 ....................\n",
      "Epoch: <<< 5 >>>\n",
      "Train metrics: {'mse': 0.0015176176093518734, 'mae': 0.031445521861314774}\n",
      "Validation metrics: {'mse': 0.00028295014635659754, 'mae': 0.012911668978631496}\n",
      "Average train loss: 0.0004959368146955967 | Average val loss: 0.0002115394891006872\n",
      ".................... End of epoch 5 ....................\n",
      "Epoch: <<< 6 >>>\n",
      "Train metrics: {'mse': 0.0032853318843990564, 'mae': 0.0449509471654892}\n",
      "Validation metrics: {'mse': 0.0013916018651798368, 'mae': 0.03524285927414894}\n",
      "Average train loss: 5.590977380052209e-05 | Average val loss: 0.0013086218386888504\n",
      ".................... End of epoch 6 ....................\n",
      "Epoch: <<< 7 >>>\n",
      "Train metrics: {'mse': 0.00217071152292192, 'mae': 0.040238164365291595}\n",
      "Validation metrics: {'mse': 0.0012056927662342787, 'mae': 0.03210782632231712}\n",
      "Average train loss: 8.551629143767059e-05 | Average val loss: 0.0011564085725694895\n",
      ".................... End of epoch 7 ....................\n",
      "Epoch: <<< 8 >>>\n",
      "Train metrics: {'mse': 0.0005011669127270579, 'mae': 0.018869977444410324}\n",
      "Validation metrics: {'mse': 0.0013583897380158305, 'mae': 0.0347910076379776}\n",
      "Average train loss: 0.0001168936025351286 | Average val loss: 0.0012764091370627284\n",
      ".................... End of epoch 8 ....................\n",
      "Epoch: <<< 9 >>>\n",
      "Train metrics: {'mse': 0.0006540367030538619, 'mae': 0.02495580166578293}\n",
      "Validation metrics: {'mse': 0.0003845230385195464, 'mae': 0.015224589966237545}\n",
      "Average train loss: 0.0001031489809975028 | Average val loss: 0.00032550664036534727\n",
      ".................... End of epoch 9 ....................\n",
      "Epoch: <<< 10 >>>\n",
      "Train metrics: {'mse': 0.001045899698510766, 'mae': 0.021959111094474792}\n",
      "Validation metrics: {'mse': 0.00039339141221717, 'mae': 0.016457274556159973}\n",
      "Average train loss: 6.391126662492752e-05 | Average val loss: 0.0003214367898181081\n",
      ".................... End of epoch 10 ....................\n",
      "Epoch: <<< 11 >>>\n",
      "Train metrics: {'mse': 0.001417662831954658, 'mae': 0.030118204653263092}\n",
      "Validation metrics: {'mse': 0.00021435481903608888, 'mae': 0.009943697601556778}\n",
      "Average train loss: 5.697151646018028e-05 | Average val loss: 0.0001504638057667762\n",
      ".................... End of epoch 11 ....................\n",
      "Epoch: <<< 12 >>>\n",
      "Train metrics: {'mse': 0.003979540895670652, 'mae': 0.05702696740627289}\n",
      "Validation metrics: {'mse': 0.0003933718544431031, 'mae': 0.01648799329996109}\n",
      "Average train loss: 4.021622880827636e-05 | Average val loss: 0.00032181735150516033\n",
      ".................... End of epoch 12 ....................\n",
      "Epoch: <<< 13 >>>\n",
      "Train metrics: {'mse': 0.0016001265030354261, 'mae': 0.036390334367752075}\n",
      "Validation metrics: {'mse': 0.0002240517787868157, 'mae': 0.011031609028577805}\n",
      "Average train loss: 4.9730023602023723e-05 | Average val loss: 0.0001573378685861826\n",
      ".................... End of epoch 13 ....................\n",
      "Epoch: <<< 14 >>>\n",
      "Train metrics: {'mse': 0.001113845850341022, 'mae': 0.029316281899809837}\n",
      "Validation metrics: {'mse': 0.00026713014813140035, 'mae': 0.012553953565657139}\n",
      "Average train loss: 4.548881552182138e-05 | Average val loss: 0.00019859144231304526\n",
      ".................... End of epoch 14 ....................\n",
      "Epoch: <<< 15 >>>\n",
      "Train metrics: {'mse': 0.0009452436934225261, 'mae': 0.024157248437404633}\n",
      "Validation metrics: {'mse': 0.00022434619313571602, 'mae': 0.010130343027412891}\n",
      "Average train loss: 5.01748756505549e-05 | Average val loss: 0.00016207137377932668\n",
      ".................... End of epoch 15 ....................\n",
      "Epoch: <<< 16 >>>\n",
      "Train metrics: {'mse': 0.0009083141339942813, 'mae': 0.01883271522819996}\n",
      "Validation metrics: {'mse': 0.00030455144587904215, 'mae': 0.013920274563133717}\n",
      "Average train loss: 4.2636497528292236e-05 | Average val loss: 0.00023663938918616623\n",
      ".................... End of epoch 16 ....................\n",
      "Epoch: <<< 17 >>>\n",
      "Train metrics: {'mse': 0.00022362590243574232, 'mae': 0.010990744456648827}\n",
      "Validation metrics: {'mse': 0.000208648169063963, 'mae': 0.009813561104238033}\n",
      "Average train loss: 4.8122351290658114e-05 | Average val loss: 0.0001471141295041889\n",
      ".................... End of epoch 17 ....................\n",
      "Epoch: <<< 18 >>>\n",
      "Train metrics: {'mse': 0.0018457240657880902, 'mae': 0.03682040795683861}\n",
      "Validation metrics: {'mse': 0.00026924346457235515, 'mae': 0.01278531551361084}\n",
      "Average train loss: 4.168413579463959e-05 | Average val loss: 0.00020292913541197777\n",
      ".................... End of epoch 18 ....................\n",
      "Epoch: <<< 19 >>>\n",
      "Train metrics: {'mse': 0.002917791251093149, 'mae': 0.04735283553600311}\n",
      "Validation metrics: {'mse': 0.00020586165192071348, 'mae': 0.010267370380461216}\n",
      "Average train loss: 4.295591497793794e-05 | Average val loss: 0.00014355851453728974\n",
      ".................... End of epoch 19 ....................\n",
      "Epoch: <<< 20 >>>\n",
      "Train metrics: {'mse': 0.0025534562300890684, 'mae': 0.04276115447282791}\n",
      "Validation metrics: {'mse': 0.00020744296489283442, 'mae': 0.010531202889978886}\n",
      "Average train loss: 5.016162758693099e-05 | Average val loss: 0.00014618357818108052\n",
      ".................... End of epoch 20 ....................\n",
      "Epoch: <<< 21 >>>\n",
      "Train metrics: {'mse': 0.0018651466816663742, 'mae': 0.03221402317285538}\n",
      "Validation metrics: {'mse': 0.00020375479653012007, 'mae': 0.009639733470976353}\n",
      "Average train loss: 5.193547694943845e-05 | Average val loss: 0.000146202597534284\n",
      ".................... End of epoch 21 ....................\n",
      "Epoch: <<< 22 >>>\n",
      "Train metrics: {'mse': 0.0023025276605039835, 'mae': 0.047665785998106}\n",
      "Validation metrics: {'mse': 0.0002589136129245162, 'mae': 0.012677932158112526}\n",
      "Average train loss: 3.8256705738604066e-05 | Average val loss: 0.00019600315135903656\n",
      ".................... End of epoch 22 ....................\n",
      "Epoch: <<< 23 >>>\n",
      "Train metrics: {'mse': 0.002909640781581402, 'mae': 0.05027154088020325}\n",
      "Validation metrics: {'mse': 0.00023579974367748946, 'mae': 0.011819184757769108}\n",
      "Average train loss: 4.1107574361376464e-05 | Average val loss: 0.00017340386693831533\n",
      ".................... End of epoch 23 ....................\n",
      "Epoch: <<< 24 >>>\n",
      "Train metrics: {'mse': 0.002045231871306896, 'mae': 0.041965872049331665}\n",
      "Validation metrics: {'mse': 0.00021835793450009078, 'mae': 0.011108875274658203}\n",
      "Average train loss: 4.2794126784428954e-05 | Average val loss: 0.00015647387772332877\n",
      ".................... End of epoch 24 ....................\n"
     ]
    },
    {
     "data": {
      "image/png": "[encoded data removed]",
      "text/plain": [
       "<Figure size 432x288 with 1 Axes>"
      ]
     },
     "metadata": {
      "needs_background": "light"
     },
     "output_type": "display_data"
    },
    {
     "name": "stdout",
     "output_type": "stream",
     "text": [
      "CPU times: total: 3min 22s\n",
      "Wall time: 3min 23s\n"
     ]
    }
   ],
   "source": [
    "\n",
    "%%time\n",
    "import torch\n",
    "from sklearn.impute import SimpleImputer\n",
    "\n",
    "\n",
    "imp = SimpleImputer(missing_values=np.nan, strategy='mean')\n",
    "batch_size = 128\n",
    "train_dataloader = get_loader(x=xtrain, y=ytrain, batch_size=batch_size, x_cat=df_train_cat.to_numpy())\n",
    "val_dataloader = get_loader(x=xval, y=yval, batch_size=batch_size, x_cat=df_val_cat.to_numpy())\n",
    "\n",
    "\n",
    "CAT_FEATURES = cat.shape[1]\n",
    "print('CAT_FEATURES:', CAT_FEATURES)\n",
    "EMBEDDING_DIM = 24\n",
    "NO_EMBEDDING = 2 * len(df_train_cat)\n",
    "print('NO_EMBEDDING:', NO_EMBEDDING)\n",
    "\n",
    "# cat_features = cat_features * embedding_dim\n",
    "# print('in_features:', xtrain.shape[1] + cat_features)\n",
    "\n",
    "model = NeuralNetwork(\n",
    "    in_features=xtrain.shape[1], \n",
    "    units=512,\n",
    "    out_features=1, \n",
    "    categorical_dim=CAT_FEATURES,\n",
    "    no_embedding=NO_EMBEDDING, \n",
    "    emb_dim=EMBEDDING_DIM,\n",
    "    n_blocks=25\n",
    ")\n",
    "\n",
    "print(model)\n",
    "\n",
    "torch.autograd.set_detect_anomaly(True)\n",
    "trainer = Trainer(model, lr=1.3e-6)\n",
    "trainer.fit_epochs(\n",
    "    train_dataloader, \n",
    "    val_dataloader, \n",
    "    use_cyclic_lr=True, \n",
    "    x_cat=True, \n",
    "    epochs=25\n",
    ")\n"
   ]
  }
 ],
 "metadata": {
  "kernelspec": {
   "display_name": "Python 3 (ipykernel)",
   "language": "python",
   "name": "python3"
  },
  "language_info": {
   "codemirror_mode": {
    "name": "ipython",
    "version": 3
   },
   "file_extension": ".py",
   "mimetype": "text/x-python",
   "name": "python",
   "nbconvert_exporter": "python",
   "pygments_lexer": "ipython3",
   "version": "3.10.4"
  }
 },
 "nbformat": 4,
 "nbformat_minor": 4
}
