{
 "cells": [
  {
   "cell_type": "code",
   "execution_count": 1,
   "id": "05714bfb-3e71-4128-af58-11e748a241b4",
   "metadata": {},
   "outputs": [
    {
     "name": "stderr",
     "output_type": "stream",
     "text": [
      "C:\\Users\\gilbe\\anaconda3\\envs\\tokyo\\lib\\site-packages\\tqdm\\auto.py:22: TqdmWarning: IProgress not found. Please update jupyter and ipywidgets. See https://ipywidgets.readthedocs.io/en/stable/user_install.html\n",
      "  from .autonotebook import tqdm as notebook_tqdm\n"
     ]
    },
    {
     "name": "stdout",
     "output_type": "stream",
     "text": [
      "1.11.0\n"
     ]
    }
   ],
   "source": [
    "import torch\n",
    "from torch.utils.data import DataLoader, Dataset\n",
    "import torch.nn as nn\n",
    "\n",
    "# import pytorch_lightning as pl\n",
    "import torch\n",
    "import torch.nn.functional as F\n",
    "import torch.nn as nn\n",
    "import torch.optim as optim\n",
    "import torchmetrics as TM\n",
    "# pl.utilities.seed.seed_everything(seed=42)\n",
    "import numpy as np\n",
    "import pandas as pd\n",
    "\n",
    "import sys, os\n",
    "source_path = os.path.join(os.getcwd(), os.pardir, 'src')\n",
    "sys.path.append(source_path)\n",
    "source_path = os.path.join(os.getcwd(), os.pardir, 'preprocessing')\n",
    "sys.path.append(source_path)\n",
    "source_path = os.path.join(os.getcwd(), os.pardir, 'metrics')\n",
    "sys.path.append(source_path)\n",
    "source_path = os.path.join(os.getcwd(), os.pardir, 'predict')\n",
    "sys.path.append(source_path)\n",
    "import matplotlib.pyplot as plt\n",
    "\n",
    "from dl import NeuralNetwork, Trainer\n",
    "from preprocess import (\n",
    "    show_df, \n",
    "    date_features, \n",
    "    preprocess, \n",
    "    ToTorch, \n",
    "    get_loader, \n",
    "    get_predict_loader,\n",
    "    ts_split,\n",
    "    cont_cat_split,\n",
    "    dataloader_by_stock,\n",
    "    get_data,\n",
    "    dataloader_test_by_stock\n",
    ")\n",
    "from metrics import calc_spread_return_sharpe\n",
    "from predict import run_pred_step\n",
    "print(torch.__version__)\n",
    "\n",
    "import pickle\n",
    "\n",
    "import warnings\n",
    "warnings.filterwarnings(\"ignore\")"
   ]
  },
  {
   "cell_type": "markdown",
   "id": "8137033a-cd47-49e0-ad5a-8d5e25aa695e",
   "metadata": {},
   "source": [
    "# Get data"
   ]
  },
  {
   "cell_type": "code",
   "execution_count": 2,
   "id": "3f9a8679-14ec-4c17-8c04-d83d540d4cad",
   "metadata": {},
   "outputs": [
    {
     "name": "stdout",
     "output_type": "stream",
     "text": [
      "                    RowId  SecuritiesCode    Open    High     Low   Close  \\\n",
      "Date                                                                        \n",
      "2021-12-06  20211206_1301            1301  2982.0  2982.0  2965.0  2971.0   \n",
      "2021-12-06  20211206_1332            1332   592.0   599.0   588.0   589.0   \n",
      "2021-12-06  20211206_1333            1333  2368.0  2388.0  2360.0  2377.0   \n",
      "2021-12-06  20211206_1375            1375  1230.0  1239.0  1224.0  1224.0   \n",
      "2021-12-06  20211206_1376            1376  1339.0  1372.0  1339.0  1351.0   \n",
      "\n",
      "             Volume  AdjustmentFactor  ExpectedDividend  SupervisionFlag  \n",
      "Date                                                                      \n",
      "2021-12-06     8900               1.0               NaN            False  \n",
      "2021-12-06  1360800               1.0               NaN            False  \n",
      "2021-12-06   125900               1.0               NaN            False  \n",
      "2021-12-06    81100               1.0               NaN            False  \n",
      "2021-12-06     6200               1.0               NaN            False  \n",
      "CAT_FEATURES: 4\n"
     ]
    }
   ],
   "source": [
    "FOLDER = 'example_test_files'\n",
    "df = get_data(folder=FOLDER)\n",
    "# df['Target'] = df['Close'].pct_change()\n",
    "# df = df.sort_values(by=['RowId', 'Date'])\n",
    "print(df.head())\n",
    "\n",
    "CONT_COLS=['Close', 'Open', 'High', 'Low']\n",
    "TS_IN_FEATURES = len(CONT_COLS)\n",
    "CAT_FEATURES = 4 #cat.shape[1]\n",
    "print('CAT_FEATURES:', CAT_FEATURES)\n",
    "EMBEDDING_DIM = 300\n",
    "NO_EMBEDDING = 2000 #2 * len(df_train_cat)"
   ]
  },
  {
   "cell_type": "code",
   "execution_count": 3,
   "id": "55a1d3d5-7cad-4348-ac91-aa0ba143bb64",
   "metadata": {},
   "outputs": [
    {
     "data": {
      "text/plain": [
       "array([1301, 1332, 1333, ..., 9993, 9994, 9997], dtype=int64)"
      ]
     },
     "execution_count": 3,
     "metadata": {},
     "output_type": "execute_result"
    }
   ],
   "source": [
    "df['SecuritiesCode'].unique()"
   ]
  },
  {
   "cell_type": "code",
   "execution_count": 4,
   "id": "52a4de5a-02de-4ea5-b821-5dae2d697f2e",
   "metadata": {},
   "outputs": [
    {
     "data": {
      "text/html": [
       "<div>\n",
       "<style scoped>\n",
       "    .dataframe tbody tr th:only-of-type {\n",
       "        vertical-align: middle;\n",
       "    }\n",
       "\n",
       "    .dataframe tbody tr th {\n",
       "        vertical-align: top;\n",
       "    }\n",
       "\n",
       "    .dataframe thead th {\n",
       "        text-align: right;\n",
       "    }\n",
       "</style>\n",
       "<table border=\"1\" class=\"dataframe\">\n",
       "  <thead>\n",
       "    <tr style=\"text-align: right;\">\n",
       "      <th></th>\n",
       "      <th>RowId</th>\n",
       "      <th>SecuritiesCode</th>\n",
       "      <th>Open</th>\n",
       "      <th>High</th>\n",
       "      <th>Low</th>\n",
       "      <th>Close</th>\n",
       "      <th>Volume</th>\n",
       "      <th>AdjustmentFactor</th>\n",
       "      <th>ExpectedDividend</th>\n",
       "      <th>SupervisionFlag</th>\n",
       "    </tr>\n",
       "    <tr>\n",
       "      <th>Date</th>\n",
       "      <th></th>\n",
       "      <th></th>\n",
       "      <th></th>\n",
       "      <th></th>\n",
       "      <th></th>\n",
       "      <th></th>\n",
       "      <th></th>\n",
       "      <th></th>\n",
       "      <th></th>\n",
       "      <th></th>\n",
       "    </tr>\n",
       "  </thead>\n",
       "  <tbody>\n",
       "    <tr>\n",
       "      <th>2021-12-06</th>\n",
       "      <td>20211206_1301</td>\n",
       "      <td>1301</td>\n",
       "      <td>2982.0</td>\n",
       "      <td>2982.0</td>\n",
       "      <td>2965.0</td>\n",
       "      <td>2971.0</td>\n",
       "      <td>8900</td>\n",
       "      <td>1.0</td>\n",
       "      <td>NaN</td>\n",
       "      <td>False</td>\n",
       "    </tr>\n",
       "    <tr>\n",
       "      <th>2021-12-07</th>\n",
       "      <td>20211207_1301</td>\n",
       "      <td>1301</td>\n",
       "      <td>2998.0</td>\n",
       "      <td>3065.0</td>\n",
       "      <td>2990.0</td>\n",
       "      <td>3065.0</td>\n",
       "      <td>19100</td>\n",
       "      <td>1.0</td>\n",
       "      <td>NaN</td>\n",
       "      <td>False</td>\n",
       "    </tr>\n",
       "  </tbody>\n",
       "</table>\n",
       "</div>"
      ],
      "text/plain": [
       "                    RowId  SecuritiesCode    Open    High     Low   Close  \\\n",
       "Date                                                                        \n",
       "2021-12-06  20211206_1301            1301  2982.0  2982.0  2965.0  2971.0   \n",
       "2021-12-07  20211207_1301            1301  2998.0  3065.0  2990.0  3065.0   \n",
       "\n",
       "            Volume  AdjustmentFactor  ExpectedDividend  SupervisionFlag  \n",
       "Date                                                                     \n",
       "2021-12-06    8900               1.0               NaN            False  \n",
       "2021-12-07   19100               1.0               NaN            False  "
      ]
     },
     "execution_count": 4,
     "metadata": {},
     "output_type": "execute_result"
    }
   ],
   "source": [
    "df[df['SecuritiesCode'] == 1301]"
   ]
  },
  {
   "cell_type": "code",
   "execution_count": 5,
   "id": "158f5c34-4075-4652-ac6b-208584fd814f",
   "metadata": {},
   "outputs": [
    {
     "name": "stdout",
     "output_type": "stream",
     "text": [
      "Run prediction for stock: 1301\n",
      "continuos shape: (2, 8)  categorical shape: (2, 4)\n",
      "Test predictions:\n",
      "tensor([[-0.0051],\n",
      "        [-0.0044]], device='cuda:0', grad_fn=<AddBackward0>)\n",
      "Run prediction for stock: 1332\n",
      "continuos shape: (2, 8)  categorical shape: (2, 4)\n",
      "Test predictions:\n",
      "tensor([[-0.0051],\n",
      "        [-0.0045]], device='cuda:0', grad_fn=<AddBackward0>)\n",
      "Run prediction for stock: 1333\n",
      "continuos shape: (2, 8)  categorical shape: (2, 4)\n",
      "Test predictions:\n",
      "tensor([[-0.0051],\n",
      "        [-0.0044]], device='cuda:0', grad_fn=<AddBackward0>)\n",
      "Run prediction for stock: 1375\n",
      "Exception 1375\n",
      "Run prediction for stock: 1376\n",
      "continuos shape: (2, 8)  categorical shape: (2, 4)\n",
      "Test predictions:\n",
      "tensor([[-0.0050],\n",
      "        [-0.0044]], device='cuda:0', grad_fn=<AddBackward0>)\n",
      "Run prediction for stock: 1377\n",
      "continuos shape: (2, 8)  categorical shape: (2, 4)\n",
      "Test predictions:\n",
      "tensor([[-0.0051],\n",
      "        [-0.0044]], device='cuda:0', grad_fn=<AddBackward0>)\n",
      "Run prediction for stock: 1379\n",
      "continuos shape: (2, 8)  categorical shape: (2, 4)\n",
      "Test predictions:\n",
      "tensor([[-0.0051],\n",
      "        [-0.0044]], device='cuda:0', grad_fn=<AddBackward0>)\n",
      "Run prediction for stock: 1381\n",
      "continuos shape: (2, 8)  categorical shape: (2, 4)\n",
      "Test predictions:\n",
      "tensor([[-0.0049],\n",
      "        [-0.0044]], device='cuda:0', grad_fn=<AddBackward0>)\n",
      "Run prediction for stock: 1407\n",
      "continuos shape: (2, 8)  categorical shape: (2, 4)\n",
      "Test predictions:\n",
      "tensor([[-0.0002],\n",
      "        [-0.0093]], device='cuda:0', grad_fn=<AddBackward0>)\n",
      "Run prediction for stock: 1413\n",
      "Exception 1413\n",
      "Run prediction for stock: 1414\n",
      "continuos shape: (2, 8)  categorical shape: (2, 4)\n",
      "Test predictions:\n",
      "tensor([[-0.0051],\n",
      "        [-0.0044]], device='cuda:0', grad_fn=<AddBackward0>)\n",
      "Run prediction for stock: 1417\n",
      "continuos shape: (2, 8)  categorical shape: (2, 4)\n",
      "Test predictions:\n",
      "tensor([[-0.0040],\n",
      "        [-0.0052]], device='cuda:0', grad_fn=<AddBackward0>)\n",
      "Run prediction for stock: 1419\n",
      "continuos shape: (2, 8)  categorical shape: (2, 4)\n",
      "Test predictions:\n",
      "tensor([[-0.0032],\n",
      "        [-0.0058]], device='cuda:0', grad_fn=<AddBackward0>)\n",
      "Run prediction for stock: 1429\n",
      "continuos shape: (2, 8)  categorical shape: (2, 4)\n",
      "Test predictions:\n",
      "tensor([[-0.0040],\n",
      "        [-0.0051]], device='cuda:0', grad_fn=<AddBackward0>)\n",
      "Run prediction for stock: 1431\n",
      "Exception 1431\n",
      "Run prediction for stock: 1435\n",
      "continuos shape: (2, 8)  categorical shape: (2, 4)\n",
      "Test predictions:\n",
      "tensor([[-0.0051],\n",
      "        [-0.0044]], device='cuda:0', grad_fn=<AddBackward0>)\n",
      "Run prediction for stock: 1515\n",
      "continuos shape: (2, 8)  categorical shape: (2, 4)\n",
      "Test predictions:\n",
      "tensor([[-0.0049],\n",
      "        [-0.0044]], device='cuda:0', grad_fn=<AddBackward0>)\n",
      "Run prediction for stock: 1518\n",
      "continuos shape: (2, 8)  categorical shape: (2, 4)\n",
      "Test predictions:\n",
      "tensor([[-0.0051],\n",
      "        [-0.0044]], device='cuda:0', grad_fn=<AddBackward0>)\n",
      "Run prediction for stock: 1605\n",
      "continuos shape: (2, 8)  categorical shape: (2, 4)\n",
      "Test predictions:\n",
      "tensor([[-0.0051],\n",
      "        [-0.0044]], device='cuda:0', grad_fn=<AddBackward0>)\n"
     ]
    }
   ],
   "source": [
    "stocks = df['SecuritiesCode'].unique()\n",
    "count = 0\n",
    "BATCH_SIZE = 512\n",
    "weight_decay = 0.01\n",
    "\n",
    "# model = create_model()\n",
    "# trainer = Trainer(model, optimizer_name='rmsprop', lr=1.3333e-4, weight_decay=weight_decay)\n",
    "# torch.autograd.set_detect_anomaly(True)\n",
    "trained_model = torch.load('./trained_model.pt')\n",
    "with open('./scaler_dict.pkl', 'rb') as f:\n",
    "    scaler_dict = pickle.load(f)\n",
    "\n",
    "\n",
    "for stock in stocks:\n",
    "    teast_dataloader = None\n",
    "    if count > 15:\n",
    "        break\n",
    "    try:\n",
    "        print(f'Run prediction for stock: {stock}')\n",
    "        transformer = scaler_dict[stock]\n",
    "        test_dataloader = dataloader_test_by_stock(\n",
    "            df, \n",
    "            stock, \n",
    "            transformer=transformer,\n",
    "            batch_size=BATCH_SIZE, \n",
    "            continous_cols=CONT_COLS,\n",
    "            target_col=None\n",
    "        )\n",
    "        run_pred_step(test_dataloader, trained_model, x_cat=True, target=None)\n",
    "        count += 1\n",
    "    except Exception as e:\n",
    "        print(f'Exception {e}')\n",
    "\n",
    "    "
   ]
  },
  {
   "cell_type": "code",
   "execution_count": null,
   "id": "dab69225-89d4-40eb-a33a-81c2491681ec",
   "metadata": {},
   "outputs": [],
   "source": []
  },
  {
   "cell_type": "markdown",
   "id": "57da9f85-76a7-4919-abe6-f5a212b55b20",
   "metadata": {},
   "source": [
    "# Load model"
   ]
  },
  {
   "cell_type": "code",
   "execution_count": null,
   "id": "15a23ac1-cd65-4a06-bb8c-d15576688189",
   "metadata": {},
   "outputs": [],
   "source": [
    "\n"
   ]
  }
 ],
 "metadata": {
  "kernelspec": {
   "display_name": "Python 3 (ipykernel)",
   "language": "python",
   "name": "python3"
  },
  "language_info": {
   "codemirror_mode": {
    "name": "ipython",
    "version": 3
   },
   "file_extension": ".py",
   "mimetype": "text/x-python",
   "name": "python",
   "nbconvert_exporter": "python",
   "pygments_lexer": "ipython3",
   "version": "3.10.4"
  }
 },
 "nbformat": 4,
 "nbformat_minor": 5
}
