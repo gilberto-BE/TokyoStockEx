{
 "cells": [
  {
   "cell_type": "code",
   "execution_count": 1,
   "metadata": {},
   "outputs": [
    {
     "name": "stderr",
     "output_type": "stream",
     "text": [
      "Global seed set to 42\n"
     ]
    },
    {
     "data": {
      "text/plain": [
       "42"
      ]
     },
     "execution_count": 1,
     "metadata": {},
     "output_type": "execute_result"
    }
   ],
   "source": [
    "\n",
    "import torch\n",
    "import torch.nn as nn\n",
    "\n",
    "\n",
    "import pytorch_lightning as pl\n",
    "import torch\n",
    "import torch.nn.functional as F\n",
    "import torch.nn as nn\n",
    "import torch.optim as optim\n",
    "import torchmetrics as TM\n",
    "pl.utilities.seed.seed_everything(seed=42)"
   ]
  },
  {
   "cell_type": "code",
   "execution_count": 2,
   "metadata": {},
   "outputs": [],
   "source": [
    "class EmbeddingNetwork(nn.Module):\n",
    "    def __init__(\n",
    "        self, \n",
    "        units, \n",
    "        no_embedding, \n",
    "        emb_dim\n",
    "    ):\n",
    "        super(EmbeddingNetwork, self).__init__()\n",
    "        self.units=units\n",
    "        self.no_embedding = no_embedding\n",
    "        self.emb_dim = emb_dim\n",
    "        self.embedding = nn.Embedding(self.no_embedding, self.emb_dim)\n",
    "        self.linear = nn.Linear(self.emb_dim, self.units)\n",
    "        self.out = nn.Linear(self.units, 1)\n",
    "        \n",
    "    def forward(self, x):\n",
    "        x = F.relu(self.embedding(x))\n",
    "        print('x.shape after F.relu(embedding(k)):', x.shape)\n",
    "        x = F.relu(self.linear(x))\n",
    "        print('x.shape after linear + relu:', x.shape)\n",
    "        x = self.out(x)\n",
    "        print('x.shape after self.out(x):', x.shape)\n",
    "        print()\n",
    "        return x"
   ]
  },
  {
   "cell_type": "code",
   "execution_count": 3,
   "metadata": {},
   "outputs": [
    {
     "data": {
      "text/plain": [
       "torch.Size([2, 20])"
      ]
     },
     "execution_count": 3,
     "metadata": {},
     "output_type": "execute_result"
    }
   ],
   "source": [
    "input = torch.LongTensor([range(20), range(20), range(15)])\n",
    "input.size()"
   ]
  },
  {
   "cell_type": "code",
   "execution_count": 4,
   "metadata": {},
   "outputs": [
    {
     "name": "stdout",
     "output_type": "stream",
     "text": [
      "x.shape after F.relu(embedding(k)): torch.Size([2, 20, 3])\n",
      "x.shape after linear + relu: torch.Size([2, 20, 5])\n",
      "x.shape after self.out(x): torch.Size([2, 20, 1])\n",
      "\n",
      "x.shape after F.relu(embedding(k)): torch.Size([2, 20, 3])\n",
      "x.shape after linear + relu: torch.Size([2, 20, 5])\n",
      "x.shape after self.out(x): torch.Size([2, 20, 1])\n",
      "\n"
     ]
    },
    {
     "data": {
      "text/plain": [
       "(torch.Size([2, 20, 1]),\n",
       " tensor([[[-0.1101],\n",
       "          [ 0.0579],\n",
       "          [-0.0024],\n",
       "          [-0.2019],\n",
       "          [-0.0024],\n",
       "          [ 0.0316],\n",
       "          [ 0.0336],\n",
       "          [-0.0666],\n",
       "          [-0.0485],\n",
       "          [-0.1637],\n",
       "          [ 0.0901],\n",
       "          [ 0.0392],\n",
       "          [-0.0398],\n",
       "          [ 0.0182],\n",
       "          [-0.0010],\n",
       "          [ 0.1280],\n",
       "          [-0.1122],\n",
       "          [ 0.0494],\n",
       "          [-0.0024],\n",
       "          [-0.0595]],\n",
       " \n",
       "         [[-0.1101],\n",
       "          [ 0.0579],\n",
       "          [-0.0024],\n",
       "          [-0.2019],\n",
       "          [-0.0024],\n",
       "          [ 0.0316],\n",
       "          [ 0.0336],\n",
       "          [-0.0666],\n",
       "          [-0.0485],\n",
       "          [-0.1637],\n",
       "          [ 0.0901],\n",
       "          [ 0.0392],\n",
       "          [-0.0398],\n",
       "          [ 0.0182],\n",
       "          [-0.0010],\n",
       "          [ 0.1280],\n",
       "          [-0.1122],\n",
       "          [ 0.0494],\n",
       "          [-0.0024],\n",
       "          [-0.0595]]], grad_fn=<AddBackward0>))"
      ]
     },
     "execution_count": 4,
     "metadata": {},
     "output_type": "execute_result"
    }
   ],
   "source": [
    "model = EmbeddingNetwork(units=5, no_embedding=20, emb_dim=3)\n",
    "model(input).size(), model(input)"
   ]
  }
 ],
 "metadata": {
  "kernelspec": {
   "display_name": "Python 3",
   "language": "python",
   "name": "python3"
  },
  "language_info": {
   "codemirror_mode": {
    "name": "ipython",
    "version": 3
   },
   "file_extension": ".py",
   "mimetype": "text/x-python",
   "name": "python",
   "nbconvert_exporter": "python",
   "pygments_lexer": "ipython3",
   "version": "3.8.5"
  }
 },
 "nbformat": 4,
 "nbformat_minor": 4
}
