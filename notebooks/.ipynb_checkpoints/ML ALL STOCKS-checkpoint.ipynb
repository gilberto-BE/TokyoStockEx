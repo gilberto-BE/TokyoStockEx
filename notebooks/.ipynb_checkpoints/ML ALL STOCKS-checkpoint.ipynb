{
 "cells": [
  {
   "cell_type": "code",
   "execution_count": 1,
   "metadata": {},
   "outputs": [
    {
     "name": "stderr",
     "output_type": "stream",
     "text": [
      "C:\\Users\\gilbe\\anaconda3\\envs\\tokyo\\lib\\site-packages\\tqdm\\auto.py:22: TqdmWarning: IProgress not found. Please update jupyter and ipywidgets. See https://ipywidgets.readthedocs.io/en/stable/user_install.html\n",
      "  from .autonotebook import tqdm as notebook_tqdm\n"
     ]
    },
    {
     "name": "stdout",
     "output_type": "stream",
     "text": [
      "1.11.0\n"
     ]
    }
   ],
   "source": [
    "import torch\n",
    "from torch.utils.data import DataLoader, Dataset\n",
    "import torch.nn as nn\n",
    "\n",
    "# import pytorch_lightning as pl\n",
    "import torch\n",
    "import torch.nn.functional as F\n",
    "import torch.nn as nn\n",
    "import torch.optim as optim\n",
    "import torchmetrics as TM\n",
    "# pl.utilities.seed.seed_everything(seed=42)\n",
    "import numpy as np\n",
    "import pandas as pd\n",
    "\n",
    "import sys, os\n",
    "source_path = os.path.join(os.getcwd(), os.pardir, 'src')\n",
    "sys.path.append(source_path)\n",
    "source_path = os.path.join(os.getcwd(), os.pardir, 'preprocessing')\n",
    "sys.path.append(source_path)\n",
    "source_path = os.path.join(os.getcwd(), os.pardir, 'metrics')\n",
    "sys.path.append(source_path)\n",
    "import matplotlib.pyplot as plt\n",
    "\n",
    "from dl import NeuralNetwork, Trainer\n",
    "from preprocess import (\n",
    "    show_df, \n",
    "    date_features, \n",
    "    preprocess, \n",
    "    ToTorch, \n",
    "    get_loader, \n",
    "    ts_split,\n",
    "    cont_cat_split,\n",
    "    dataloader_by_stock,\n",
    "    get_data\n",
    ")\n",
    "from metrics import calc_spread_return_sharpe\n",
    "print(torch.__version__)"
   ]
  },
  {
   "cell_type": "code",
   "execution_count": 2,
   "metadata": {},
   "outputs": [
    {
     "name": "stdout",
     "output_type": "stream",
     "text": [
      "11.3\n"
     ]
    },
    {
     "data": {
      "text/plain": [
       "(None, True, 1)"
      ]
     },
     "execution_count": 2,
     "metadata": {},
     "output_type": "execute_result"
    }
   ],
   "source": [
    "print(torch.version.cuda), torch.cuda.is_available(), torch.cuda.device_count()"
   ]
  },
  {
   "cell_type": "markdown",
   "metadata": {},
   "source": [
    "##  Get Data and train a Neural Network"
   ]
  },
  {
   "cell_type": "markdown",
   "metadata": {},
   "source": [
    "# Get the unique security codes"
   ]
  },
  {
   "cell_type": "code",
   "execution_count": 3,
   "metadata": {},
   "outputs": [
    {
     "name": "stdout",
     "output_type": "stream",
     "text": [
      "Unique adjustment factor: [ 1.          0.5         5.          0.33333333  0.83333333  0.25\n",
      "  0.90909091  0.1        10.          0.2         0.95238095  2.\n",
      "  0.14285714  0.66666667  0.86956522  0.76923077  0.8         4.\n",
      " 20.        ]\n",
      "Date\n",
      "2017-01-04    1.0\n",
      "2017-01-04    1.0\n",
      "2017-01-04    1.0\n",
      "2017-01-04    1.0\n",
      "2017-01-04    1.0\n",
      "             ... \n",
      "2021-12-03    1.0\n",
      "2021-12-03    1.0\n",
      "2021-12-03    1.0\n",
      "2021-12-03    1.0\n",
      "2021-12-03    1.0\n",
      "Name: AdjustmentFactor, Length: 2332531, dtype: float64\n"
     ]
    },
    {
     "data": {
      "text/html": [
       "<div>\n",
       "<style scoped>\n",
       "    .dataframe tbody tr th:only-of-type {\n",
       "        vertical-align: middle;\n",
       "    }\n",
       "\n",
       "    .dataframe tbody tr th {\n",
       "        vertical-align: top;\n",
       "    }\n",
       "\n",
       "    .dataframe thead th {\n",
       "        text-align: right;\n",
       "    }\n",
       "</style>\n",
       "<table border=\"1\" class=\"dataframe\">\n",
       "  <thead>\n",
       "    <tr style=\"text-align: right;\">\n",
       "      <th></th>\n",
       "      <th>RowId</th>\n",
       "      <th>SecuritiesCode</th>\n",
       "      <th>Open</th>\n",
       "      <th>High</th>\n",
       "      <th>Low</th>\n",
       "      <th>Close</th>\n",
       "      <th>Volume</th>\n",
       "      <th>AdjustmentFactor</th>\n",
       "      <th>ExpectedDividend</th>\n",
       "      <th>SupervisionFlag</th>\n",
       "      <th>Target</th>\n",
       "    </tr>\n",
       "    <tr>\n",
       "      <th>Date</th>\n",
       "      <th></th>\n",
       "      <th></th>\n",
       "      <th></th>\n",
       "      <th></th>\n",
       "      <th></th>\n",
       "      <th></th>\n",
       "      <th></th>\n",
       "      <th></th>\n",
       "      <th></th>\n",
       "      <th></th>\n",
       "      <th></th>\n",
       "    </tr>\n",
       "  </thead>\n",
       "  <tbody>\n",
       "    <tr>\n",
       "      <th>2017-01-04</th>\n",
       "      <td>20170104_1301</td>\n",
       "      <td>1301</td>\n",
       "      <td>2734.0</td>\n",
       "      <td>2755.0</td>\n",
       "      <td>2730.0</td>\n",
       "      <td>2742.0</td>\n",
       "      <td>31400</td>\n",
       "      <td>1.0</td>\n",
       "      <td>NaN</td>\n",
       "      <td>False</td>\n",
       "      <td>0.000730</td>\n",
       "    </tr>\n",
       "    <tr>\n",
       "      <th>2017-01-04</th>\n",
       "      <td>20170104_1332</td>\n",
       "      <td>1332</td>\n",
       "      <td>568.0</td>\n",
       "      <td>576.0</td>\n",
       "      <td>563.0</td>\n",
       "      <td>571.0</td>\n",
       "      <td>2798500</td>\n",
       "      <td>1.0</td>\n",
       "      <td>NaN</td>\n",
       "      <td>False</td>\n",
       "      <td>0.012324</td>\n",
       "    </tr>\n",
       "    <tr>\n",
       "      <th>2017-01-04</th>\n",
       "      <td>20170104_1333</td>\n",
       "      <td>1333</td>\n",
       "      <td>3150.0</td>\n",
       "      <td>3210.0</td>\n",
       "      <td>3140.0</td>\n",
       "      <td>3210.0</td>\n",
       "      <td>270800</td>\n",
       "      <td>1.0</td>\n",
       "      <td>NaN</td>\n",
       "      <td>False</td>\n",
       "      <td>0.006154</td>\n",
       "    </tr>\n",
       "    <tr>\n",
       "      <th>2017-01-04</th>\n",
       "      <td>20170104_1376</td>\n",
       "      <td>1376</td>\n",
       "      <td>1510.0</td>\n",
       "      <td>1550.0</td>\n",
       "      <td>1510.0</td>\n",
       "      <td>1550.0</td>\n",
       "      <td>11300</td>\n",
       "      <td>1.0</td>\n",
       "      <td>NaN</td>\n",
       "      <td>False</td>\n",
       "      <td>0.011053</td>\n",
       "    </tr>\n",
       "    <tr>\n",
       "      <th>2017-01-04</th>\n",
       "      <td>20170104_1377</td>\n",
       "      <td>1377</td>\n",
       "      <td>3270.0</td>\n",
       "      <td>3350.0</td>\n",
       "      <td>3270.0</td>\n",
       "      <td>3330.0</td>\n",
       "      <td>150800</td>\n",
       "      <td>1.0</td>\n",
       "      <td>NaN</td>\n",
       "      <td>False</td>\n",
       "      <td>0.003026</td>\n",
       "    </tr>\n",
       "  </tbody>\n",
       "</table>\n",
       "</div>"
      ],
      "text/plain": [
       "                    RowId  SecuritiesCode    Open    High     Low   Close  \\\n",
       "Date                                                                        \n",
       "2017-01-04  20170104_1301            1301  2734.0  2755.0  2730.0  2742.0   \n",
       "2017-01-04  20170104_1332            1332   568.0   576.0   563.0   571.0   \n",
       "2017-01-04  20170104_1333            1333  3150.0  3210.0  3140.0  3210.0   \n",
       "2017-01-04  20170104_1376            1376  1510.0  1550.0  1510.0  1550.0   \n",
       "2017-01-04  20170104_1377            1377  3270.0  3350.0  3270.0  3330.0   \n",
       "\n",
       "             Volume  AdjustmentFactor  ExpectedDividend  SupervisionFlag  \\\n",
       "Date                                                                       \n",
       "2017-01-04    31400               1.0               NaN            False   \n",
       "2017-01-04  2798500               1.0               NaN            False   \n",
       "2017-01-04   270800               1.0               NaN            False   \n",
       "2017-01-04    11300               1.0               NaN            False   \n",
       "2017-01-04   150800               1.0               NaN            False   \n",
       "\n",
       "              Target  \n",
       "Date                  \n",
       "2017-01-04  0.000730  \n",
       "2017-01-04  0.012324  \n",
       "2017-01-04  0.006154  \n",
       "2017-01-04  0.011053  \n",
       "2017-01-04  0.003026  "
      ]
     },
     "execution_count": 3,
     "metadata": {},
     "output_type": "execute_result"
    }
   ],
   "source": [
    "train_df = get_data()\n",
    "print('Unique adjustment factor:', train_df['AdjustmentFactor'].unique())\n",
    "print(train_df['AdjustmentFactor'])\n",
    "train_df.head()"
   ]
  },
  {
   "cell_type": "markdown",
   "metadata": {},
   "source": [
    "# Create model"
   ]
  },
  {
   "cell_type": "markdown",
   "metadata": {},
   "source": [
    "### Args and constants"
   ]
  },
  {
   "cell_type": "code",
   "execution_count": 4,
   "metadata": {},
   "outputs": [
    {
     "name": "stdout",
     "output_type": "stream",
     "text": [
      "CAT_FEATURES: 4\n"
     ]
    }
   ],
   "source": [
    "CONT_COLS=['Close', 'Open', 'High', 'Low']\n",
    "TS_IN_FEATURES = len(CONT_COLS)\n",
    "CAT_FEATURES = 4 #cat.shape[1]\n",
    "print('CAT_FEATURES:', CAT_FEATURES)\n",
    "EMBEDDING_DIM = 300\n",
    "NO_EMBEDDING = 2000 #2 * len(df_train_cat)"
   ]
  },
  {
   "cell_type": "code",
   "execution_count": 5,
   "metadata": {},
   "outputs": [],
   "source": [
    "\n",
    "def create_model():\n",
    "    model = None\n",
    "    model = NeuralNetwork(\n",
    "        in_features=TS_IN_FEATURES, \n",
    "        units=256,\n",
    "        out_features=1, \n",
    "        categorical_dim=CAT_FEATURES,\n",
    "        no_embedding=NO_EMBEDDING, \n",
    "        emb_dim=EMBEDDING_DIM,\n",
    "        n_blocks=3,\n",
    "        n_stacks=2,\n",
    "        dropout=0.3,\n",
    "        pooling_sizes=3\n",
    "    )\n",
    "\n",
    "    print(model)\n",
    "    return model"
   ]
  },
  {
   "cell_type": "markdown",
   "metadata": {},
   "source": [
    "# Loop throug each stock\n",
    "Create Trainer only once"
   ]
  },
  {
   "cell_type": "code",
   "execution_count": null,
   "metadata": {},
   "outputs": [],
   "source": []
  },
  {
   "cell_type": "code",
   "execution_count": null,
   "metadata": {},
   "outputs": [
    {
     "name": "stdout",
     "output_type": "stream",
     "text": [
      "NeuralNetwork(\n",
      "  (embedding_layer): Embedding(2000, 300)\n",
      "  (embedding_to_hidden): Linear(in_features=300, out_features=256, bias=True)\n",
      "  (embedding_output): Linear(in_features=256, out_features=1, bias=True)\n",
      "  (cont_input): Linear(in_features=2, out_features=256, bias=True)\n",
      "  (dropout): Dropout(p=0.3, inplace=False)\n",
      "  (pooling_layer): MaxPool1d(kernel_size=3, stride=3, padding=0, dilation=1, ceil_mode=True)\n",
      "  (stacks): ModuleList(\n",
      "    (0): NeuralStack(\n",
      "      (blocks): ModuleList(\n",
      "        (0): NeuralBlock(\n",
      "          (dropout): Dropout(p=0.1, inplace=False)\n",
      "          (layer1): Linear(in_features=260, out_features=260, bias=True)\n",
      "          (layer2): Linear(in_features=260, out_features=260, bias=True)\n",
      "          (layer3): Linear(in_features=260, out_features=260, bias=True)\n",
      "          (layer4): Linear(in_features=260, out_features=260, bias=True)\n",
      "          (fwr_layer): Linear(in_features=260, out_features=260, bias=True)\n",
      "          (output): Linear(in_features=260, out_features=260, bias=True)\n",
      "          (res_layer): Linear(in_features=260, out_features=260, bias=True)\n",
      "          (res_output): Linear(in_features=260, out_features=260, bias=True)\n",
      "        )\n",
      "        (1): NeuralBlock(\n",
      "          (dropout): Dropout(p=0.1, inplace=False)\n",
      "          (layer1): Linear(in_features=260, out_features=260, bias=True)\n",
      "          (layer2): Linear(in_features=260, out_features=260, bias=True)\n",
      "          (layer3): Linear(in_features=260, out_features=260, bias=True)\n",
      "          (layer4): Linear(in_features=260, out_features=260, bias=True)\n",
      "          (fwr_layer): Linear(in_features=260, out_features=260, bias=True)\n",
      "          (output): Linear(in_features=260, out_features=260, bias=True)\n",
      "          (res_layer): Linear(in_features=260, out_features=260, bias=True)\n",
      "          (res_output): Linear(in_features=260, out_features=260, bias=True)\n",
      "        )\n",
      "        (2): NeuralBlock(\n",
      "          (dropout): Dropout(p=0.1, inplace=False)\n",
      "          (layer1): Linear(in_features=260, out_features=260, bias=True)\n",
      "          (layer2): Linear(in_features=260, out_features=260, bias=True)\n",
      "          (layer3): Linear(in_features=260, out_features=260, bias=True)\n",
      "          (layer4): Linear(in_features=260, out_features=260, bias=True)\n",
      "          (fwr_layer): Linear(in_features=260, out_features=260, bias=True)\n",
      "          (output): Linear(in_features=260, out_features=260, bias=True)\n",
      "          (res_layer): Linear(in_features=260, out_features=260, bias=True)\n",
      "          (res_output): Linear(in_features=260, out_features=260, bias=True)\n",
      "        )\n",
      "      )\n",
      "      (output_layers): ModuleList(\n",
      "        (0): Linear(in_features=260, out_features=1, bias=True)\n",
      "        (1): Linear(in_features=260, out_features=1, bias=True)\n",
      "        (2): Linear(in_features=260, out_features=1, bias=True)\n",
      "      )\n",
      "    )\n",
      "    (1): NeuralStack(\n",
      "      (blocks): ModuleList(\n",
      "        (0): NeuralBlock(\n",
      "          (dropout): Dropout(p=0.1, inplace=False)\n",
      "          (layer1): Linear(in_features=260, out_features=260, bias=True)\n",
      "          (layer2): Linear(in_features=260, out_features=260, bias=True)\n",
      "          (layer3): Linear(in_features=260, out_features=260, bias=True)\n",
      "          (layer4): Linear(in_features=260, out_features=260, bias=True)\n",
      "          (fwr_layer): Linear(in_features=260, out_features=260, bias=True)\n",
      "          (output): Linear(in_features=260, out_features=260, bias=True)\n",
      "          (res_layer): Linear(in_features=260, out_features=260, bias=True)\n",
      "          (res_output): Linear(in_features=260, out_features=260, bias=True)\n",
      "        )\n",
      "        (1): NeuralBlock(\n",
      "          (dropout): Dropout(p=0.1, inplace=False)\n",
      "          (layer1): Linear(in_features=260, out_features=260, bias=True)\n",
      "          (layer2): Linear(in_features=260, out_features=260, bias=True)\n",
      "          (layer3): Linear(in_features=260, out_features=260, bias=True)\n",
      "          (layer4): Linear(in_features=260, out_features=260, bias=True)\n",
      "          (fwr_layer): Linear(in_features=260, out_features=260, bias=True)\n",
      "          (output): Linear(in_features=260, out_features=260, bias=True)\n",
      "          (res_layer): Linear(in_features=260, out_features=260, bias=True)\n",
      "          (res_output): Linear(in_features=260, out_features=260, bias=True)\n",
      "        )\n",
      "        (2): NeuralBlock(\n",
      "          (dropout): Dropout(p=0.1, inplace=False)\n",
      "          (layer1): Linear(in_features=260, out_features=260, bias=True)\n",
      "          (layer2): Linear(in_features=260, out_features=260, bias=True)\n",
      "          (layer3): Linear(in_features=260, out_features=260, bias=True)\n",
      "          (layer4): Linear(in_features=260, out_features=260, bias=True)\n",
      "          (fwr_layer): Linear(in_features=260, out_features=260, bias=True)\n",
      "          (output): Linear(in_features=260, out_features=260, bias=True)\n",
      "          (res_layer): Linear(in_features=260, out_features=260, bias=True)\n",
      "          (res_output): Linear(in_features=260, out_features=260, bias=True)\n",
      "        )\n",
      "      )\n",
      "      (output_layers): ModuleList(\n",
      "        (0): Linear(in_features=260, out_features=1, bias=True)\n",
      "        (1): Linear(in_features=260, out_features=1, bias=True)\n",
      "        (2): Linear(in_features=260, out_features=1, bias=True)\n",
      "      )\n",
      "    )\n",
      "  )\n",
      ")\n",
      "Using cuda-device\n",
      "Start training for stock: 1301\n"
     ]
    },
    {
     "name": "stderr",
     "output_type": "stream",
     "text": [
      "C:\\Users\\gilbe\\Documents\\TokyoStockEx\\notebooks\\..\\preprocessing\\preprocess.py:168: SettingWithCopyWarning: \n",
      "A value is trying to be set on a copy of a slice from a DataFrame.\n",
      "Try using .loc[row_indexer,col_indexer] = value instead\n",
      "\n",
      "See the caveats in the documentation: https://pandas.pydata.org/pandas-docs/stable/user_guide/indexing.html#returning-a-view-versus-a-copy\n",
      "  cat.loc[:, ['RowId']] = txt_transfom.transform()\n",
      "C:\\Users\\gilbe\\Documents\\TokyoStockEx\\notebooks\\..\\preprocessing\\preprocess.py:144: SettingWithCopyWarning: \n",
      "A value is trying to be set on a copy of a slice from a DataFrame.\n",
      "Try using .loc[row_indexer,col_indexer] = value instead\n",
      "\n",
      "See the caveats in the documentation: https://pandas.pydata.org/pandas-docs/stable/user_guide/indexing.html#returning-a-view-versus-a-copy\n",
      "  df['Volume'] = df['Volume'].astype(float)\n",
      "C:\\Users\\gilbe\\Documents\\TokyoStockEx\\notebooks\\..\\preprocessing\\preprocess.py:144: SettingWithCopyWarning: \n",
      "A value is trying to be set on a copy of a slice from a DataFrame.\n",
      "Try using .loc[row_indexer,col_indexer] = value instead\n",
      "\n",
      "See the caveats in the documentation: https://pandas.pydata.org/pandas-docs/stable/user_guide/indexing.html#returning-a-view-versus-a-copy\n",
      "  df['Volume'] = df['Volume'].astype(float)\n"
     ]
    },
    {
     "name": "stdout",
     "output_type": "stream",
     "text": [
      "continuos shape: (1202, 9)  categorical shape: (1202, 4)\n"
     ]
    },
    {
     "name": "stderr",
     "output_type": "stream",
     "text": [
      "C:\\Users\\gilbe\\anaconda3\\envs\\tokyo\\lib\\site-packages\\torch\\nn\\functional.py:682: UserWarning: Note that order of the arguments: ceil_mode and return_indices will changeto match the args list in nn.MaxPool1d in a future release.\n",
      "  warnings.warn(\"Note that order of the arguments: ceil_mode and return_indices will change\"\n",
      "C:\\Users\\gilbe\\anaconda3\\envs\\tokyo\\lib\\site-packages\\torch\\autograd\\__init__.py:173: UserWarning: Casting complex values to real discards the imaginary part (Triggered internally at  C:\\cb\\pytorch_1000000000000\\work\\aten\\src\\ATen\\native\\Copy.cpp:239.)\n",
      "  Variable._execution_engine.run_backward(  # Calls into the C++ engine to run the backward pass\n"
     ]
    },
    {
     "name": "stdout",
     "output_type": "stream",
     "text": [
      "Epoch: <<< 0 >>>\n",
      "\n",
      "                    Average train loss: 1.005255989730358e-05 | \n",
      "                    Train-Mae: 0.0884070098400116 |\n",
      "\n",
      "                    Average val loss: 0.006405568681657314|\n",
      "                    Val-Mae: 0.07917039841413498\n",
      "                    \n",
      ".................... End of epoch 0 ....................\n",
      "Epoch: <<< 5 >>>\n",
      "\n",
      "                    Average train loss: 3.2782177440822124e-06 | \n",
      "                    Train-Mae: 0.049878980964422226 |\n",
      "\n",
      "                    Average val loss: 0.0025042109191417694|\n",
      "                    Val-Mae: 0.048736151307821274\n",
      "                    \n",
      ".................... End of epoch 5 ....................\n",
      "Epoch: <<< 10 >>>\n",
      "\n",
      "                    Average train loss: 2.058247337117791e-06 | \n",
      "                    Train-Mae: 0.039082229137420654 |\n",
      "\n",
      "                    Average val loss: 0.0015507827047258615|\n",
      "                    Val-Mae: 0.037844084203243256\n",
      "                    \n",
      ".................... End of epoch 10 ....................\n",
      "Epoch: <<< 15 >>>\n",
      "\n",
      "                    Average train loss: 1.6733675729483366e-06 | \n",
      "                    Train-Mae: 0.032190557569265366 |\n",
      "\n",
      "                    Average val loss: 0.0011426876299083233|\n",
      "                    Val-Mae: 0.03210638836026192\n",
      "                    \n",
      ".................... End of epoch 15 ....................\n",
      "Epoch: <<< 20 >>>\n",
      "\n",
      "                    Average train loss: 1.4474126510322094e-06 | \n",
      "                    Train-Mae: 0.028833115473389626 |\n",
      "\n",
      "                    Average val loss: 0.0009245097753591835|\n",
      "                    Val-Mae: 0.028576303273439407\n",
      "                    \n",
      ".................... End of epoch 20 ....................\n",
      "Epoch: <<< 25 >>>\n",
      "\n",
      "                    Average train loss: 1.2025863397866488e-06 | \n",
      "                    Train-Mae: 0.02619154192507267 |\n",
      "\n",
      "                    Average val loss: 0.0007749033393338323|\n",
      "                    Val-Mae: 0.025881517678499222\n",
      "                    \n",
      ".................... End of epoch 25 ....................\n"
     ]
    },
    {
     "data": {
      "image/png": "[encoded data removed]",
      "text/plain": [
       "<Figure size 432x288 with 1 Axes>"
      ]
     },
     "metadata": {
      "needs_background": "light"
     },
     "output_type": "display_data"
    },
    {
     "data": {
      "image/png": "[encoded data removed]",
      "text/plain": [
       "<Figure size 432x288 with 1 Axes>"
      ]
     },
     "metadata": {
      "needs_background": "light"
     },
     "output_type": "display_data"
    },
    {
     "name": "stdout",
     "output_type": "stream",
     "text": [
      "####################\n",
      "\n",
      "Start training for stock: 1332\n",
      "continuos shape: (1202, 9)  categorical shape: (1202, 4)\n"
     ]
    },
    {
     "name": "stderr",
     "output_type": "stream",
     "text": [
      "C:\\Users\\gilbe\\Documents\\TokyoStockEx\\notebooks\\..\\preprocessing\\preprocess.py:168: SettingWithCopyWarning: \n",
      "A value is trying to be set on a copy of a slice from a DataFrame.\n",
      "Try using .loc[row_indexer,col_indexer] = value instead\n",
      "\n",
      "See the caveats in the documentation: https://pandas.pydata.org/pandas-docs/stable/user_guide/indexing.html#returning-a-view-versus-a-copy\n",
      "  cat.loc[:, ['RowId']] = txt_transfom.transform()\n",
      "C:\\Users\\gilbe\\Documents\\TokyoStockEx\\notebooks\\..\\preprocessing\\preprocess.py:144: SettingWithCopyWarning: \n",
      "A value is trying to be set on a copy of a slice from a DataFrame.\n",
      "Try using .loc[row_indexer,col_indexer] = value instead\n",
      "\n",
      "See the caveats in the documentation: https://pandas.pydata.org/pandas-docs/stable/user_guide/indexing.html#returning-a-view-versus-a-copy\n",
      "  df['Volume'] = df['Volume'].astype(float)\n",
      "C:\\Users\\gilbe\\Documents\\TokyoStockEx\\notebooks\\..\\preprocessing\\preprocess.py:144: SettingWithCopyWarning: \n",
      "A value is trying to be set on a copy of a slice from a DataFrame.\n",
      "Try using .loc[row_indexer,col_indexer] = value instead\n",
      "\n",
      "See the caveats in the documentation: https://pandas.pydata.org/pandas-docs/stable/user_guide/indexing.html#returning-a-view-versus-a-copy\n",
      "  df['Volume'] = df['Volume'].astype(float)\n",
      "C:\\Users\\gilbe\\anaconda3\\envs\\tokyo\\lib\\site-packages\\torch\\nn\\functional.py:682: UserWarning: Note that order of the arguments: ceil_mode and return_indices will changeto match the args list in nn.MaxPool1d in a future release.\n",
      "  warnings.warn(\"Note that order of the arguments: ceil_mode and return_indices will change\"\n"
     ]
    },
    {
     "name": "stdout",
     "output_type": "stream",
     "text": [
      "Epoch: <<< 0 >>>\n",
      "\n",
      "                    Average train loss: 9.999929461628198e-07 | \n",
      "                    Train-Mae: 0.028507905080914497 |\n",
      "\n",
      "                    Average val loss: 0.0008232272230088711|\n",
      "                    Val-Mae: 0.024921150878071785\n",
      "                    \n",
      ".................... End of epoch 0 ....................\n",
      "Epoch: <<< 5 >>>\n",
      "\n",
      "                    Average train loss: 8.998758858069777e-07 | \n",
      "                    Train-Mae: 0.02657683938741684 |\n",
      "\n",
      "                    Average val loss: 0.0007302993908524513|\n",
      "                    Val-Mae: 0.02320176735520363\n",
      "                    \n",
      ".................... End of epoch 5 ....................\n",
      "Epoch: <<< 10 >>>\n",
      "\n",
      "                    Average train loss: 8.701825281605124e-07 | \n",
      "                    Train-Mae: 0.02500336989760399 |\n",
      "\n",
      "                    Average val loss: 0.0006832819199189544|\n",
      "                    Val-Mae: 0.022297494113445282\n",
      "                    \n",
      ".................... End of epoch 10 ....................\n"
     ]
    }
   ],
   "source": [
    "%%time\n",
    "stocks = train_df['SecuritiesCode'].unique()\n",
    "count = 0\n",
    "BATCH_SIZE = 512\n",
    "weight_decay = 0.1\n",
    "EPOCHS = 30\n",
    "model = create_model()\n",
    "trainer = Trainer(\n",
    "    model, \n",
    "    optimizer_name='rmsprop', \n",
    "    lr=1.3333e-4, \n",
    "    weight_decay=weight_decay\n",
    ")\n",
    "\n",
    "torch.autograd.set_detect_anomaly(True)\n",
    "\n",
    "for stock in stocks:\n",
    "    train_loader, val_dataloader = None, None\n",
    "    if count > 15:\n",
    "        break\n",
    "    print(f'Start training for stock: {stock}')\n",
    "\n",
    "    train_dataloader, val_dataloader = dataloader_by_stock(\n",
    "        train_df, \n",
    "        stock, \n",
    "        batch_size=BATCH_SIZE, \n",
    "        continous_cols=CONT_COLS\n",
    "    )\n",
    "    if count > 1:\n",
    "        EPOCHS = 5\n",
    "    trainer.fit_epochs(\n",
    "        train_dataloader, \n",
    "        val_dataloader, \n",
    "        use_cyclic_lr=True, \n",
    "        x_cat=True, \n",
    "        epochs=30\n",
    "    )\n",
    "    print('#' * 20)\n",
    "    print()\n",
    "    count += 1\n",
    "    \n",
    "trainer.save_model(model)\n",
    "\n",
    "    "
   ]
  },
  {
   "cell_type": "markdown",
   "metadata": {},
   "source": [
    "### "
   ]
  }
 ],
 "metadata": {
  "kernelspec": {
   "display_name": "Python 3 (ipykernel)",
   "language": "python",
   "name": "python3"
  },
  "language_info": {
   "codemirror_mode": {
    "name": "ipython",
    "version": 3
   },
   "file_extension": ".py",
   "mimetype": "text/x-python",
   "name": "python",
   "nbconvert_exporter": "python",
   "pygments_lexer": "ipython3",
   "version": "3.10.4"
  }
 },
 "nbformat": 4,
 "nbformat_minor": 4
}
