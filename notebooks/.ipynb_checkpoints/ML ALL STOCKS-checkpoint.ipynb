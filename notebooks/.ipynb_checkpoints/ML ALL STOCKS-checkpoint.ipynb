{
 "cells": [
  {
   "cell_type": "code",
   "execution_count": 1,
   "metadata": {},
   "outputs": [
    {
     "name": "stdout",
     "output_type": "stream",
     "text": [
      "1.11.0\n"
     ]
    }
   ],
   "source": [
    "import torch\n",
    "from torch.utils.data import DataLoader, Dataset\n",
    "import torch.nn as nn\n",
    "\n",
    "# import pytorch_lightning as pl\n",
    "import torch\n",
    "import torch.nn.functional as F\n",
    "import torch.nn as nn\n",
    "import torch.optim as optim\n",
    "import torchmetrics as TM\n",
    "# pl.utilities.seed.seed_everything(seed=42)\n",
    "import numpy as np\n",
    "import pandas as pd\n",
    "\n",
    "import sys, os\n",
    "source_path = os.path.join(os.getcwd(), os.pardir, 'src')\n",
    "sys.path.append(source_path)\n",
    "source_path = os.path.join(os.getcwd(), os.pardir, 'preprocessing')\n",
    "sys.path.append(source_path)\n",
    "source_path = os.path.join(os.getcwd(), os.pardir, 'metrics')\n",
    "sys.path.append(source_path)\n",
    "import matplotlib.pyplot as plt\n",
    "\n",
    "from dl import NeuralNetwork, Trainer\n",
    "from preprocess import (\n",
    "    show_df, \n",
    "    date_features, \n",
    "    preprocess, \n",
    "    ToTorch, \n",
    "    get_loader, \n",
    "    ts_split,\n",
    "    cont_cat_split,\n",
    "    dataloader_by_stock,\n",
    "    get_train_data\n",
    ")\n",
    "from metrics import calc_spread_return_sharpe\n",
    "print(torch.__version__)"
   ]
  },
  {
   "cell_type": "code",
   "execution_count": 2,
   "metadata": {},
   "outputs": [
    {
     "name": "stdout",
     "output_type": "stream",
     "text": [
      "11.3\n"
     ]
    },
    {
     "data": {
      "text/plain": [
       "(None, True, 1)"
      ]
     },
     "execution_count": 2,
     "metadata": {},
     "output_type": "execute_result"
    }
   ],
   "source": [
    "print(torch.version.cuda), torch.cuda.is_available(), torch.cuda.device_count()"
   ]
  },
  {
   "cell_type": "markdown",
   "metadata": {},
   "source": [
    "computer_name1 = 'gilbe'\n",
    "computer_name2 = 'Gilberto-BE'\n",
    "\n",
    "ROOT_PATH = f'c:/Users/{computer_name1}/Documents/TokyoData'\n",
    "\n",
    "\n",
    "'/kaggle/input/jpx-tokyo-stock-exchange-prediction/train_files/financials.csv'\n",
    "'/train_files/trades.csv'\n",
    "\n",
    "train_df = pd.read_csv(f'{ROOT_PATH}/train_files/stock_prices.csv')\n",
    "train_df['Date'] = pd.to_datetime(train_df['Date']) \n",
    "train_df.set_index('Date', inplace=True)\n",
    "# train_df = date_features(train_df)\n",
    "print(train_df.head(2))\n",
    "\n",
    "train_options = pd.read_csv(f'{ROOT_PATH}/train_files/options.csv', low_memory=False)\n",
    "train_financials = pd.read_csv(f'{ROOT_PATH}/train_files/financials.csv', low_memory=False)\n",
    "train_trades = pd.read_csv(f'{ROOT_PATH}/train_files/trades.csv', low_memory=False)"
   ]
  },
  {
   "cell_type": "code",
   "execution_count": 3,
   "metadata": {},
   "outputs": [],
   "source": [
    "# n_stocks = train_df.SecuritiesCode.nunique()\n",
    "# n_stocks = train_df.SecuritiesCode.unique()\n",
    "# for n in n_stocks:\n",
    "#     print(train_df[train_df['SecuritiesCode'] == n].shape)"
   ]
  },
  {
   "cell_type": "markdown",
   "metadata": {},
   "source": [
    "##  Get Data and train a Neural Network"
   ]
  },
  {
   "cell_type": "markdown",
   "metadata": {},
   "source": [
    "# Get the unique security codes"
   ]
  },
  {
   "cell_type": "code",
   "execution_count": 4,
   "metadata": {},
   "outputs": [
    {
     "name": "stdout",
     "output_type": "stream",
     "text": [
      "Unique adjustment factor: [ 1.          0.5         5.          0.33333333  0.83333333  0.25\n",
      "  0.90909091  0.1        10.          0.2         0.95238095  2.\n",
      "  0.14285714  0.66666667  0.86956522  0.76923077  0.8         4.\n",
      " 20.        ]\n",
      "Date\n",
      "2017-01-04    1.0\n",
      "2017-01-04    1.0\n",
      "2017-01-04    1.0\n",
      "2017-01-04    1.0\n",
      "2017-01-04    1.0\n",
      "             ... \n",
      "2021-12-03    1.0\n",
      "2021-12-03    1.0\n",
      "2021-12-03    1.0\n",
      "2021-12-03    1.0\n",
      "2021-12-03    1.0\n",
      "Name: AdjustmentFactor, Length: 2332531, dtype: float64\n"
     ]
    },
    {
     "data": {
      "text/html": [
       "<div>\n",
       "<style scoped>\n",
       "    .dataframe tbody tr th:only-of-type {\n",
       "        vertical-align: middle;\n",
       "    }\n",
       "\n",
       "    .dataframe tbody tr th {\n",
       "        vertical-align: top;\n",
       "    }\n",
       "\n",
       "    .dataframe thead th {\n",
       "        text-align: right;\n",
       "    }\n",
       "</style>\n",
       "<table border=\"1\" class=\"dataframe\">\n",
       "  <thead>\n",
       "    <tr style=\"text-align: right;\">\n",
       "      <th></th>\n",
       "      <th>RowId</th>\n",
       "      <th>SecuritiesCode</th>\n",
       "      <th>Open</th>\n",
       "      <th>High</th>\n",
       "      <th>Low</th>\n",
       "      <th>Close</th>\n",
       "      <th>Volume</th>\n",
       "      <th>AdjustmentFactor</th>\n",
       "      <th>ExpectedDividend</th>\n",
       "      <th>SupervisionFlag</th>\n",
       "      <th>Target</th>\n",
       "    </tr>\n",
       "    <tr>\n",
       "      <th>Date</th>\n",
       "      <th></th>\n",
       "      <th></th>\n",
       "      <th></th>\n",
       "      <th></th>\n",
       "      <th></th>\n",
       "      <th></th>\n",
       "      <th></th>\n",
       "      <th></th>\n",
       "      <th></th>\n",
       "      <th></th>\n",
       "      <th></th>\n",
       "    </tr>\n",
       "  </thead>\n",
       "  <tbody>\n",
       "    <tr>\n",
       "      <th>2017-01-04</th>\n",
       "      <td>20170104_1301</td>\n",
       "      <td>1301</td>\n",
       "      <td>2734.0</td>\n",
       "      <td>2755.0</td>\n",
       "      <td>2730.0</td>\n",
       "      <td>2742.0</td>\n",
       "      <td>31400</td>\n",
       "      <td>1.0</td>\n",
       "      <td>NaN</td>\n",
       "      <td>False</td>\n",
       "      <td>0.000730</td>\n",
       "    </tr>\n",
       "    <tr>\n",
       "      <th>2017-01-04</th>\n",
       "      <td>20170104_1332</td>\n",
       "      <td>1332</td>\n",
       "      <td>568.0</td>\n",
       "      <td>576.0</td>\n",
       "      <td>563.0</td>\n",
       "      <td>571.0</td>\n",
       "      <td>2798500</td>\n",
       "      <td>1.0</td>\n",
       "      <td>NaN</td>\n",
       "      <td>False</td>\n",
       "      <td>0.012324</td>\n",
       "    </tr>\n",
       "    <tr>\n",
       "      <th>2017-01-04</th>\n",
       "      <td>20170104_1333</td>\n",
       "      <td>1333</td>\n",
       "      <td>3150.0</td>\n",
       "      <td>3210.0</td>\n",
       "      <td>3140.0</td>\n",
       "      <td>3210.0</td>\n",
       "      <td>270800</td>\n",
       "      <td>1.0</td>\n",
       "      <td>NaN</td>\n",
       "      <td>False</td>\n",
       "      <td>0.006154</td>\n",
       "    </tr>\n",
       "    <tr>\n",
       "      <th>2017-01-04</th>\n",
       "      <td>20170104_1376</td>\n",
       "      <td>1376</td>\n",
       "      <td>1510.0</td>\n",
       "      <td>1550.0</td>\n",
       "      <td>1510.0</td>\n",
       "      <td>1550.0</td>\n",
       "      <td>11300</td>\n",
       "      <td>1.0</td>\n",
       "      <td>NaN</td>\n",
       "      <td>False</td>\n",
       "      <td>0.011053</td>\n",
       "    </tr>\n",
       "    <tr>\n",
       "      <th>2017-01-04</th>\n",
       "      <td>20170104_1377</td>\n",
       "      <td>1377</td>\n",
       "      <td>3270.0</td>\n",
       "      <td>3350.0</td>\n",
       "      <td>3270.0</td>\n",
       "      <td>3330.0</td>\n",
       "      <td>150800</td>\n",
       "      <td>1.0</td>\n",
       "      <td>NaN</td>\n",
       "      <td>False</td>\n",
       "      <td>0.003026</td>\n",
       "    </tr>\n",
       "  </tbody>\n",
       "</table>\n",
       "</div>"
      ],
      "text/plain": [
       "                    RowId  SecuritiesCode    Open    High     Low   Close  \\\n",
       "Date                                                                        \n",
       "2017-01-04  20170104_1301            1301  2734.0  2755.0  2730.0  2742.0   \n",
       "2017-01-04  20170104_1332            1332   568.0   576.0   563.0   571.0   \n",
       "2017-01-04  20170104_1333            1333  3150.0  3210.0  3140.0  3210.0   \n",
       "2017-01-04  20170104_1376            1376  1510.0  1550.0  1510.0  1550.0   \n",
       "2017-01-04  20170104_1377            1377  3270.0  3350.0  3270.0  3330.0   \n",
       "\n",
       "             Volume  AdjustmentFactor  ExpectedDividend  SupervisionFlag  \\\n",
       "Date                                                                       \n",
       "2017-01-04    31400               1.0               NaN            False   \n",
       "2017-01-04  2798500               1.0               NaN            False   \n",
       "2017-01-04   270800               1.0               NaN            False   \n",
       "2017-01-04    11300               1.0               NaN            False   \n",
       "2017-01-04   150800               1.0               NaN            False   \n",
       "\n",
       "              Target  \n",
       "Date                  \n",
       "2017-01-04  0.000730  \n",
       "2017-01-04  0.012324  \n",
       "2017-01-04  0.006154  \n",
       "2017-01-04  0.011053  \n",
       "2017-01-04  0.003026  "
      ]
     },
     "execution_count": 4,
     "metadata": {},
     "output_type": "execute_result"
    }
   ],
   "source": [
    "train_df = get_train_data()\n",
    "print('Unique adjustment factor:', train_df['AdjustmentFactor'].unique())\n",
    "print(train_df['AdjustmentFactor'])\n",
    "train_df.head()"
   ]
  },
  {
   "cell_type": "markdown",
   "metadata": {},
   "source": [
    "# Create model"
   ]
  },
  {
   "cell_type": "code",
   "execution_count": 5,
   "metadata": {},
   "outputs": [
    {
     "name": "stdout",
     "output_type": "stream",
     "text": [
      "CAT_FEATURES: 4\n",
      "NO_EMBEDDING: 2000\n",
      "NeuralNetwork(\n",
      "  (flatten): Flatten(start_dim=1, end_dim=-1)\n",
      "  (embedding): Embedding(2000, 24)\n",
      "  (embedding_to_hidden): Linear(in_features=24, out_features=512, bias=True)\n",
      "  (embedding_output): Linear(in_features=512, out_features=1, bias=True)\n",
      "  (cont_input): Linear(in_features=1, out_features=512, bias=True)\n",
      "  (hidden_layer): Linear(in_features=516, out_features=516, bias=True)\n",
      "  (output_layer): Linear(in_features=516, out_features=1, bias=True)\n",
      "  (dropout): Dropout(p=0.1, inplace=False)\n",
      ")\n"
     ]
    }
   ],
   "source": [
    "TS_IN_FEATURES = 1\n",
    "\n",
    "CAT_FEATURES = 4 #cat.shape[1]\n",
    "\n",
    "print('CAT_FEATURES:', CAT_FEATURES)\n",
    "EMBEDDING_DIM = 100\n",
    "NO_EMBEDDING = 2000 #2 * len(df_train_cat)\n",
    "print('NO_EMBEDDING:', NO_EMBEDDING)\n",
    "\n",
    "model = NeuralNetwork(\n",
    "    in_features=TS_IN_FEATURES, \n",
    "    units=512,\n",
    "    out_features=1, \n",
    "    categorical_dim=CAT_FEATURES,\n",
    "    no_embedding=NO_EMBEDDING, \n",
    "    emb_dim=EMBEDDING_DIM,\n",
    "    n_blocks=30\n",
    ")\n",
    "\n",
    "print(model)"
   ]
  },
  {
   "cell_type": "code",
   "execution_count": 6,
   "metadata": {},
   "outputs": [],
   "source": [
    "# Loop throug each stock"
   ]
  },
  {
   "cell_type": "code",
   "execution_count": null,
   "metadata": {},
   "outputs": [
    {
     "name": "stdout",
     "output_type": "stream",
     "text": [
      "Start training for stock: 1301\n"
     ]
    },
    {
     "name": "stderr",
     "output_type": "stream",
     "text": [
      "C:\\Users\\gilbe\\Documents\\TokyoStockEx\\notebooks\\..\\preprocessing\\preprocess.py:116: SettingWithCopyWarning: \n",
      "A value is trying to be set on a copy of a slice from a DataFrame.\n",
      "Try using .loc[row_indexer,col_indexer] = value instead\n",
      "\n",
      "See the caveats in the documentation: https://pandas.pydata.org/pandas-docs/stable/user_guide/indexing.html#returning-a-view-versus-a-copy\n",
      "  cat['RowId'] = np.squeeze(enc.fit_transform(df['RowId'].to_numpy().reshape(-1, 1)))\n"
     ]
    },
    {
     "name": "stdout",
     "output_type": "stream",
     "text": [
      "continuos shape: (1202, 8)  categorical shape: (1202, 4)\n",
      "Using cuda-device\n",
      "Epoch: <<< 0 >>>\n"
     ]
    },
    {
     "name": "stderr",
     "output_type": "stream",
     "text": [
      "C:\\Users\\gilbe\\anaconda3\\envs\\tokyo\\lib\\site-packages\\torch\\autograd\\__init__.py:173: UserWarning: Casting complex values to real discards the imaginary part (Triggered internally at  C:\\cb\\pytorch_1000000000000\\work\\aten\\src\\ATen\\native\\Copy.cpp:239.)\n",
      "  Variable._execution_engine.run_backward(  # Calls into the C++ engine to run the backward pass\n"
     ]
    },
    {
     "name": "stdout",
     "output_type": "stream",
     "text": [
      "Train metrics: {'mse': 0.408839613199234, 'mae': 0.6307249069213867}\n",
      "Validation metrics: {'mse': 0.33827871084213257, 'mae': 0.5262277126312256}\n",
      "Average train loss: 0.0008436294272541999 | Average val loss: 0.2489897459745407\n",
      ".................... End of epoch 0 ....................\n",
      "Epoch: <<< 1 >>>\n",
      "Train metrics: {'mse': 1.0907142162322998, 'mae': 1.0360242128372192}\n",
      "Validation metrics: {'mse': 3.7140374183654785, 'mae': 1.8667067289352417}\n",
      "Average train loss: 0.017561307549476622 | Average val loss: 2.8679466247558594\n",
      ".................... End of epoch 1 ....................\n",
      "Epoch: <<< 2 >>>\n",
      "Train metrics: {'mse': 5.013878345489502, 'mae': 2.232510566711426}\n",
      "Validation metrics: {'mse': 0.43784478306770325, 'mae': 0.6209400296211243}\n",
      "Average train loss: 0.1691393256187439 | Average val loss: 1.095413088798523\n",
      ".................... End of epoch 2 ....................\n",
      "Epoch: <<< 3 >>>\n",
      "Train metrics: {'mse': 1.386338472366333, 'mae': 1.170149564743042}\n",
      "Validation metrics: {'mse': 0.6844645738601685, 'mae': 0.8271226286888123}\n",
      "Average train loss: 0.07453941106796265 | Average val loss: 0.6337456703186035\n",
      ".................... End of epoch 3 ....................\n",
      "Epoch: <<< 4 >>>\n",
      "Train metrics: {'mse': 0.23350739479064941, 'mae': 0.4580002427101135}\n",
      "Validation metrics: {'mse': 0.3819974958896637, 'mae': 0.6012721657752991}\n",
      "Average train loss: 0.0314158022403717 | Average val loss: 0.2890931963920593\n",
      ".................... End of epoch 4 ....................\n",
      "Epoch: <<< 5 >>>\n",
      "Train metrics: {'mse': 0.7641960978507996, 'mae': 0.8588651418685913}\n",
      "Validation metrics: {'mse': 0.24381670355796814, 'mae': 0.4750598967075348}\n",
      "Average train loss: 0.016386665403842926 | Average val loss: 0.20358040928840637\n",
      ".................... End of epoch 5 ....................\n",
      "Epoch: <<< 6 >>>\n",
      "Train metrics: {'mse': 0.12342879921197891, 'mae': 0.3210567831993103}\n",
      "Validation metrics: {'mse': 0.24056832492351532, 'mae': 0.4841829836368561}\n",
      "Average train loss: 0.012768270075321197 | Average val loss: 0.16779160499572754\n",
      ".................... End of epoch 6 ....................\n",
      "Epoch: <<< 7 >>>\n",
      "Train metrics: {'mse': 0.0510648749768734, 'mae': 0.187740758061409}\n",
      "Validation metrics: {'mse': 0.2096337527036667, 'mae': 0.4550301730632782}\n",
      "Average train loss: 0.0076665662229061125 | Average val loss: 0.16356182098388672\n",
      ".................... End of epoch 7 ....................\n",
      "Epoch: <<< 8 >>>\n",
      "Train metrics: {'mse': 0.028622915968298912, 'mae': 0.13862618803977966}\n",
      "Validation metrics: {'mse': 0.12949632108211517, 'mae': 0.35474056005477905}\n",
      "Average train loss: 0.007833083719015121 | Average val loss: 0.0916367694735527\n",
      ".................... End of epoch 8 ....................\n",
      "Epoch: <<< 9 >>>\n",
      "Train metrics: {'mse': 0.015376496128737926, 'mae': 0.10175595432519913}\n",
      "Validation metrics: {'mse': 0.08302810788154602, 'mae': 0.2791217863559723}\n",
      "Average train loss: 0.0043493200093507765 | Average val loss: 0.05449703335762024\n",
      ".................... End of epoch 9 ....................\n"
     ]
    },
    {
     "data": {
      "image/png": "[encoded data removed]",
      "text/plain": [
       "<Figure size 432x288 with 1 Axes>"
      ]
     },
     "metadata": {
      "needs_background": "light"
     },
     "output_type": "display_data"
    },
    {
     "name": "stdout",
     "output_type": "stream",
     "text": [
      "####################\n",
      "\n",
      "Start training for stock: 1332\n",
      "continuos shape: (1202, 8)  categorical shape: (1202, 4)\n",
      "Using cuda-device\n",
      "Epoch: <<< 0 >>>\n"
     ]
    },
    {
     "name": "stderr",
     "output_type": "stream",
     "text": [
      "C:\\Users\\gilbe\\Documents\\TokyoStockEx\\notebooks\\..\\preprocessing\\preprocess.py:116: SettingWithCopyWarning: \n",
      "A value is trying to be set on a copy of a slice from a DataFrame.\n",
      "Try using .loc[row_indexer,col_indexer] = value instead\n",
      "\n",
      "See the caveats in the documentation: https://pandas.pydata.org/pandas-docs/stable/user_guide/indexing.html#returning-a-view-versus-a-copy\n",
      "  cat['RowId'] = np.squeeze(enc.fit_transform(df['RowId'].to_numpy().reshape(-1, 1)))\n"
     ]
    },
    {
     "name": "stdout",
     "output_type": "stream",
     "text": [
      "Train metrics: {'mse': 1.6226179599761963, 'mae': 1.2523545026779175}\n",
      "Validation metrics: {'mse': 0.151705801486969, 'mae': 0.35944777727127075}\n",
      "Average train loss: 0.001586328074336052 | Average val loss: 0.30011889338493347\n",
      ".................... End of epoch 0 ....................\n",
      "Epoch: <<< 1 >>>\n",
      "Train metrics: {'mse': 5.865157604217529, 'mae': 2.405738592147827}\n",
      "Validation metrics: {'mse': 0.21498820185661316, 'mae': 0.4526621699333191}\n",
      "Average train loss: 0.008077295124530792 | Average val loss: 0.29312360286712646\n",
      ".................... End of epoch 1 ....................\n",
      "Epoch: <<< 2 >>>\n",
      "Train metrics: {'mse': 3.9373414516448975, 'mae': 1.9708821773529053}\n",
      "Validation metrics: {'mse': 0.18882213532924652, 'mae': 0.4074801206588745}\n",
      "Average train loss: 0.010735864192247391 | Average val loss: 0.8381368517875671\n",
      ".................... End of epoch 2 ....................\n",
      "Epoch: <<< 3 >>>\n",
      "Train metrics: {'mse': 0.36567574739456177, 'mae': 0.5812718272209167}\n",
      "Validation metrics: {'mse': 0.3469815254211426, 'mae': 0.5499240756034851}\n",
      "Average train loss: 0.01401291936635971 | Average val loss: 0.42107778787612915\n",
      ".................... End of epoch 3 ....................\n",
      "Epoch: <<< 4 >>>\n",
      "Train metrics: {'mse': 0.076625294983387, 'mae': 0.23823677003383636}\n",
      "Validation metrics: {'mse': 0.31492677330970764, 'mae': 0.5265191197395325}\n",
      "Average train loss: 0.009319763630628586 | Average val loss: 0.12659040093421936\n",
      ".................... End of epoch 4 ....................\n",
      "Epoch: <<< 5 >>>\n",
      "Train metrics: {'mse': 0.0342339426279068, 'mae': 0.15269120037555695}\n",
      "Validation metrics: {'mse': 0.003506502602249384, 'mae': 0.04356009140610695}\n",
      "Average train loss: 0.006768549978733063 | Average val loss: 0.008450288325548172\n",
      ".................... End of epoch 5 ....................\n",
      "Epoch: <<< 6 >>>\n",
      "Train metrics: {'mse': 0.018176130950450897, 'mae': 0.10517150163650513}\n",
      "Validation metrics: {'mse': 0.025825368240475655, 'mae': 0.14370116591453552}\n",
      "Average train loss: 0.0008438560180366039 | Average val loss: 0.015556251630187035\n",
      ".................... End of epoch 6 ....................\n",
      "Epoch: <<< 7 >>>\n",
      "Train metrics: {'mse': 0.02921927161514759, 'mae': 0.14683698117733002}\n",
      "Validation metrics: {'mse': 0.02406761609017849, 'mae': 0.14346879720687866}\n",
      "Average train loss: 0.0008287814445793629 | Average val loss: 0.014079700224101543\n",
      ".................... End of epoch 7 ....................\n",
      "Epoch: <<< 8 >>>\n",
      "Train metrics: {'mse': 0.034289032220840454, 'mae': 0.1495102494955063}\n",
      "Validation metrics: {'mse': 0.002838210668414831, 'mae': 0.04756632819771767}\n",
      "Average train loss: 0.00062873475253582 | Average val loss: 0.005271372385323048\n",
      ".................... End of epoch 8 ....................\n",
      "Epoch: <<< 9 >>>\n",
      "Train metrics: {'mse': 0.025176141411066055, 'mae': 0.13055835664272308}\n",
      "Validation metrics: {'mse': 0.0024112919345498085, 'mae': 0.043016109615564346}\n",
      "Average train loss: 0.00036161465104669335 | Average val loss: 0.0029069744050502777\n",
      ".................... End of epoch 9 ....................\n"
     ]
    },
    {
     "data": {
      "image/png": "[encoded data removed]",
      "text/plain": [
       "<Figure size 432x288 with 1 Axes>"
      ]
     },
     "metadata": {
      "needs_background": "light"
     },
     "output_type": "display_data"
    },
    {
     "name": "stdout",
     "output_type": "stream",
     "text": [
      "####################\n",
      "\n",
      "Start training for stock: 1333\n",
      "continuos shape: (1202, 8)  categorical shape: (1202, 4)\n",
      "Using cuda-device\n",
      "Epoch: <<< 0 >>>\n"
     ]
    },
    {
     "name": "stderr",
     "output_type": "stream",
     "text": [
      "C:\\Users\\gilbe\\Documents\\TokyoStockEx\\notebooks\\..\\preprocessing\\preprocess.py:116: SettingWithCopyWarning: \n",
      "A value is trying to be set on a copy of a slice from a DataFrame.\n",
      "Try using .loc[row_indexer,col_indexer] = value instead\n",
      "\n",
      "See the caveats in the documentation: https://pandas.pydata.org/pandas-docs/stable/user_guide/indexing.html#returning-a-view-versus-a-copy\n",
      "  cat['RowId'] = np.squeeze(enc.fit_transform(df['RowId'].to_numpy().reshape(-1, 1)))\n"
     ]
    },
    {
     "name": "stdout",
     "output_type": "stream",
     "text": [
      "Train metrics: {'mse': 1.0443758964538574, 'mae': 0.9962674379348755}\n",
      "Validation metrics: {'mse': 0.3068996071815491, 'mae': 0.5111755728721619}\n",
      "Average train loss: 0.00015572764677926899 | Average val loss: 0.5108226537704468\n",
      ".................... End of epoch 0 ....................\n",
      "Epoch: <<< 1 >>>\n",
      "Train metrics: {'mse': 0.19360044598579407, 'mae': 0.4022643268108368}\n",
      "Validation metrics: {'mse': 0.37782591581344604, 'mae': 0.6142138838768005}\n",
      "Average train loss: 0.0006424099672585725 | Average val loss: 0.3605983853340149\n",
      ".................... End of epoch 1 ....................\n",
      "Epoch: <<< 2 >>>\n",
      "Train metrics: {'mse': 0.35256385803222656, 'mae': 0.5747650861740112}\n",
      "Validation metrics: {'mse': 0.04229467734694481, 'mae': 0.2043546885251999}\n",
      "Average train loss: 0.04218882918357849 | Average val loss: 0.03779793158173561\n",
      ".................... End of epoch 2 ....................\n",
      "Epoch: <<< 3 >>>\n",
      "Train metrics: {'mse': 0.12079506367444992, 'mae': 0.31784793734550476}\n",
      "Validation metrics: {'mse': 0.00431792763993144, 'mae': 0.06428760290145874}\n",
      "Average train loss: 0.06906540989875794 | Average val loss: 0.004184345249086618\n",
      ".................... End of epoch 3 ....................\n",
      "Epoch: <<< 4 >>>\n",
      "Train metrics: {'mse': 0.34996259212493896, 'mae': 0.5703058838844299}\n",
      "Validation metrics: {'mse': 0.09481549263000488, 'mae': 0.30762431025505066}\n",
      "Average train loss: 0.007054372131824494 | Average val loss: 0.09364242851734161\n",
      ".................... End of epoch 4 ....................\n",
      "Epoch: <<< 5 >>>\n",
      "Train metrics: {'mse': 0.17297998070716858, 'mae': 0.3808601200580597}\n",
      "Validation metrics: {'mse': 0.020084651187062263, 'mae': 0.10444042086601257}\n",
      "Average train loss: 0.005645730718970299 | Average val loss: 0.04422055184841156\n",
      ".................... End of epoch 5 ....................\n",
      "Epoch: <<< 6 >>>\n",
      "Train metrics: {'mse': 0.08660168200731277, 'mae': 0.26059144735336304}\n",
      "Validation metrics: {'mse': 0.0018605163786560297, 'mae': 0.04026350751519203}\n",
      "Average train loss: 0.0038099512457847595 | Average val loss: 0.002814969979226589\n",
      ".................... End of epoch 6 ....................\n",
      "Epoch: <<< 7 >>>\n",
      "Train metrics: {'mse': 0.034450188279151917, 'mae': 0.15265552699565887}\n",
      "Validation metrics: {'mse': 0.020470956340432167, 'mae': 0.14242954552173615}\n",
      "Average train loss: 0.000201585260219872 | Average val loss: 0.02098928391933441\n",
      ".................... End of epoch 7 ....................\n",
      "Epoch: <<< 8 >>>\n",
      "Train metrics: {'mse': 0.01607780158519745, 'mae': 0.10591401904821396}\n",
      "Validation metrics: {'mse': 0.006133480928838253, 'mae': 0.07656116038560867}\n",
      "Average train loss: 0.00021823677234351636 | Average val loss: 0.005204529967159033\n",
      ".................... End of epoch 8 ....................\n",
      "Epoch: <<< 9 >>>\n",
      "Train metrics: {'mse': 0.019971132278442383, 'mae': 0.11742129176855087}\n",
      "Validation metrics: {'mse': 0.0007904402446001768, 'mae': 0.021248318254947662}\n",
      "Average train loss: 0.0002692783949896693 | Average val loss: 0.0017288874369114637\n",
      ".................... End of epoch 9 ....................\n"
     ]
    },
    {
     "data": {
      "image/png": "[encoded data removed]",
      "text/plain": [
       "<Figure size 432x288 with 1 Axes>"
      ]
     },
     "metadata": {
      "needs_background": "light"
     },
     "output_type": "display_data"
    },
    {
     "name": "stdout",
     "output_type": "stream",
     "text": [
      "####################\n",
      "\n",
      "Start training for stock: 1376\n",
      "continuos shape: (1202, 8)  categorical shape: (1202, 4)\n",
      "Using cuda-device\n",
      "Epoch: <<< 0 >>>\n"
     ]
    },
    {
     "name": "stderr",
     "output_type": "stream",
     "text": [
      "C:\\Users\\gilbe\\Documents\\TokyoStockEx\\notebooks\\..\\preprocessing\\preprocess.py:116: SettingWithCopyWarning: \n",
      "A value is trying to be set on a copy of a slice from a DataFrame.\n",
      "Try using .loc[row_indexer,col_indexer] = value instead\n",
      "\n",
      "See the caveats in the documentation: https://pandas.pydata.org/pandas-docs/stable/user_guide/indexing.html#returning-a-view-versus-a-copy\n",
      "  cat['RowId'] = np.squeeze(enc.fit_transform(df['RowId'].to_numpy().reshape(-1, 1)))\n"
     ]
    },
    {
     "name": "stdout",
     "output_type": "stream",
     "text": [
      "Train metrics: {'mse': 0.0037486881483346224, 'mae': 0.04934462904930115}\n",
      "Validation metrics: {'mse': 0.006999283097684383, 'mae': 0.060130733996629715}\n",
      "Average train loss: 0.0003104672534391284 | Average val loss: 0.022847406566143036\n",
      ".................... End of epoch 0 ....................\n",
      "Epoch: <<< 1 >>>\n",
      "Train metrics: {'mse': 0.12156089395284653, 'mae': 0.32225140929222107}\n",
      "Validation metrics: {'mse': 0.45770758390426636, 'mae': 0.5521764755249023}\n",
      "Average train loss: 0.00011819390347227454 | Average val loss: 1.0332685708999634\n",
      ".................... End of epoch 1 ....................\n",
      "Epoch: <<< 2 >>>\n",
      "Train metrics: {'mse': 0.6883442401885986, 'mae': 0.7812841534614563}\n",
      "Validation metrics: {'mse': 3.2213408946990967, 'mae': 1.5806242227554321}\n",
      "Average train loss: 0.010172398388385772 | Average val loss: 6.520650386810303\n",
      ".................... End of epoch 2 ....................\n",
      "Epoch: <<< 3 >>>\n",
      "Train metrics: {'mse': 0.09305758774280548, 'mae': 0.2757779657840729}\n",
      "Validation metrics: {'mse': 0.0436108261346817, 'mae': 0.1838480681180954}\n",
      "Average train loss: 0.09506365656852722 | Average val loss: 0.08324255049228668\n",
      ".................... End of epoch 3 ....................\n",
      "Epoch: <<< 4 >>>\n",
      "Train metrics: {'mse': 0.08581142872571945, 'mae': 0.2730863690376282}\n",
      "Validation metrics: {'mse': 0.6291617155075073, 'mae': 0.6472766995429993}\n",
      "Average train loss: 0.0014782363548874855 | Average val loss: 1.4668104648590088\n",
      ".................... End of epoch 4 ....................\n",
      "Epoch: <<< 5 >>>\n",
      "Train metrics: {'mse': 0.013308425433933735, 'mae': 0.10901961475610733}\n",
      "Validation metrics: {'mse': 0.0054393368773162365, 'mae': 0.06357471644878387}\n",
      "Average train loss: 0.014918769896030425 | Average val loss: 0.009626353159546852\n",
      ".................... End of epoch 5 ....................\n",
      "Epoch: <<< 6 >>>\n",
      "Train metrics: {'mse': 0.009898495860397816, 'mae': 0.07638805359601974}\n",
      "Validation metrics: {'mse': 0.09159369766712189, 'mae': 0.23431892693042755}\n",
      "Average train loss: 0.00016382550820708274 | Average val loss: 0.2188580483198166\n",
      ".................... End of epoch 6 ....................\n",
      "Epoch: <<< 7 >>>\n",
      "Train metrics: {'mse': 0.002476829569786787, 'mae': 0.037571217864751816}\n",
      "Validation metrics: {'mse': 0.005813910625874996, 'mae': 0.05833135172724724}\n",
      "Average train loss: 0.00191037580370903 | Average val loss: 0.012660345062613487\n",
      ".................... End of epoch 7 ....................\n",
      "Epoch: <<< 8 >>>\n",
      "Train metrics: {'mse': 0.004360692575573921, 'mae': 0.05791535601019859}\n",
      "Validation metrics: {'mse': 0.010801529511809349, 'mae': 0.09347228705883026}\n",
      "Average train loss: 0.00013144081458449364 | Average val loss: 0.02174270898103714\n",
      ".................... End of epoch 8 ....................\n",
      "Epoch: <<< 9 >>>\n",
      "Train metrics: {'mse': 0.002925159875303507, 'mae': 0.043476298451423645}\n",
      "Validation metrics: {'mse': 0.00196144194342196, 'mae': 0.03804871067404747}\n",
      "Average train loss: 0.000361449783667922 | Average val loss: 0.003577775787562132\n",
      ".................... End of epoch 9 ....................\n"
     ]
    },
    {
     "data": {
      "image/png": "[encoded data removed]",
      "text/plain": [
       "<Figure size 432x288 with 1 Axes>"
      ]
     },
     "metadata": {
      "needs_background": "light"
     },
     "output_type": "display_data"
    },
    {
     "name": "stdout",
     "output_type": "stream",
     "text": [
      "####################\n",
      "\n",
      "Start training for stock: 1377\n",
      "continuos shape: (1202, 8)  categorical shape: (1202, 4)\n",
      "Using cuda-device\n",
      "Epoch: <<< 0 >>>\n"
     ]
    },
    {
     "name": "stderr",
     "output_type": "stream",
     "text": [
      "C:\\Users\\gilbe\\Documents\\TokyoStockEx\\notebooks\\..\\preprocessing\\preprocess.py:116: SettingWithCopyWarning: \n",
      "A value is trying to be set on a copy of a slice from a DataFrame.\n",
      "Try using .loc[row_indexer,col_indexer] = value instead\n",
      "\n",
      "See the caveats in the documentation: https://pandas.pydata.org/pandas-docs/stable/user_guide/indexing.html#returning-a-view-versus-a-copy\n",
      "  cat['RowId'] = np.squeeze(enc.fit_transform(df['RowId'].to_numpy().reshape(-1, 1)))\n"
     ]
    },
    {
     "name": "stdout",
     "output_type": "stream",
     "text": [
      "Train metrics: {'mse': 0.0534377247095108, 'mae': 0.21013882756233215}\n",
      "Validation metrics: {'mse': 0.10519396513700485, 'mae': 0.2704736590385437}\n",
      "Average train loss: 0.00019580002408474683 | Average val loss: 0.049596309661865234\n",
      ".................... End of epoch 0 ....................\n",
      "Epoch: <<< 1 >>>\n",
      "Train metrics: {'mse': 0.0137460483238101, 'mae': 0.10892455279827118}\n",
      "Validation metrics: {'mse': 0.031915392726659775, 'mae': 0.1604970246553421}\n",
      "Average train loss: 0.00723981112241745 | Average val loss: 0.06167199835181236\n",
      ".................... End of epoch 1 ....................\n",
      "Epoch: <<< 2 >>>\n",
      "Train metrics: {'mse': 0.011457479558885098, 'mae': 0.08765771239995956}\n",
      "Validation metrics: {'mse': 0.07747770845890045, 'mae': 0.18903382122516632}\n",
      "Average train loss: 0.0020584337413311004 | Average val loss: 1.2449688911437988\n",
      ".................... End of epoch 2 ....................\n",
      "Epoch: <<< 3 >>>\n",
      "Train metrics: {'mse': 0.0454912967979908, 'mae': 0.1816004514694214}\n",
      "Validation metrics: {'mse': 0.26160433888435364, 'mae': 0.38112887740135193}\n",
      "Average train loss: 0.0011546315625309944 | Average val loss: 2.9240527153015137\n",
      ".................... End of epoch 3 ....................\n",
      "Epoch: <<< 4 >>>\n",
      "Train metrics: {'mse': 0.013199224136769772, 'mae': 0.09582149982452393}\n",
      "Validation metrics: {'mse': 0.022038547322154045, 'mae': 0.10878266394138336}\n",
      "Average train loss: 0.003781045973300934 | Average val loss: 0.21352943778038025\n",
      ".................... End of epoch 4 ....................\n",
      "Epoch: <<< 5 >>>\n",
      "Train metrics: {'mse': 0.0037583732046186924, 'mae': 0.051882047206163406}\n",
      "Validation metrics: {'mse': 0.027758391574025154, 'mae': 0.12246052920818329}\n",
      "Average train loss: 0.0003850959939882159 | Average val loss: 0.42824169993400574\n",
      ".................... End of epoch 5 ....................\n",
      "Epoch: <<< 6 >>>\n",
      "Train metrics: {'mse': 0.0023514677304774523, 'mae': 0.03983801230788231}\n",
      "Validation metrics: {'mse': 0.0026462343521416187, 'mae': 0.03353182598948479}\n",
      "Average train loss: 0.000426082219928503 | Average val loss: 0.0712418183684349\n",
      ".................... End of epoch 6 ....................\n",
      "Epoch: <<< 7 >>>\n",
      "Train metrics: {'mse': 0.002464139135554433, 'mae': 0.04280674085021019}\n",
      "Validation metrics: {'mse': 0.006945964880287647, 'mae': 0.06631460785865784}\n",
      "Average train loss: 9.671112638898194e-05 | Average val loss: 0.044461559504270554\n",
      ".................... End of epoch 7 ....................\n",
      "Epoch: <<< 8 >>>\n",
      "Train metrics: {'mse': 0.0024119422305375338, 'mae': 0.04066602513194084}\n",
      "Validation metrics: {'mse': 0.003993216436356306, 'mae': 0.0445951446890831}\n",
      "Average train loss: 0.00018949967343360186 | Average val loss: 0.027719145640730858\n",
      ".................... End of epoch 8 ....................\n",
      "Epoch: <<< 9 >>>\n",
      "Train metrics: {'mse': 0.0013519569765776396, 'mae': 0.02625262551009655}\n",
      "Validation metrics: {'mse': 0.0007352791726589203, 'mae': 0.024161625653505325}\n",
      "Average train loss: 0.00011904134880751372 | Average val loss: 0.002360025653615594\n",
      ".................... End of epoch 9 ....................\n"
     ]
    },
    {
     "data": {
      "image/png": "[encoded data removed]",
      "text/plain": [
       "<Figure size 432x288 with 1 Axes>"
      ]
     },
     "metadata": {
      "needs_background": "light"
     },
     "output_type": "display_data"
    },
    {
     "name": "stdout",
     "output_type": "stream",
     "text": [
      "####################\n",
      "\n",
      "Start training for stock: 1379\n",
      "continuos shape: (1202, 8)  categorical shape: (1202, 4)\n",
      "Using cuda-device\n",
      "Epoch: <<< 0 >>>\n"
     ]
    },
    {
     "name": "stderr",
     "output_type": "stream",
     "text": [
      "C:\\Users\\gilbe\\Documents\\TokyoStockEx\\notebooks\\..\\preprocessing\\preprocess.py:116: SettingWithCopyWarning: \n",
      "A value is trying to be set on a copy of a slice from a DataFrame.\n",
      "Try using .loc[row_indexer,col_indexer] = value instead\n",
      "\n",
      "See the caveats in the documentation: https://pandas.pydata.org/pandas-docs/stable/user_guide/indexing.html#returning-a-view-versus-a-copy\n",
      "  cat['RowId'] = np.squeeze(enc.fit_transform(df['RowId'].to_numpy().reshape(-1, 1)))\n"
     ]
    },
    {
     "name": "stdout",
     "output_type": "stream",
     "text": [
      "Train metrics: {'mse': 0.5024993419647217, 'mae': 0.6043142080307007}\n",
      "Validation metrics: {'mse': 0.0170971117913723, 'mae': 0.12793827056884766}\n",
      "Average train loss: 0.0012635581195354461 | Average val loss: 0.018857309594750404\n",
      ".................... End of epoch 0 ....................\n",
      "Epoch: <<< 1 >>>\n",
      "Train metrics: {'mse': 0.5269604325294495, 'mae': 0.661494791507721}\n",
      "Validation metrics: {'mse': 0.0038810153491795063, 'mae': 0.049400798976421356}\n",
      "Average train loss: 0.0012320553883910178 | Average val loss: 0.01000920683145523\n",
      ".................... End of epoch 1 ....................\n",
      "Epoch: <<< 2 >>>\n",
      "Train metrics: {'mse': 2.0210351943969727, 'mae': 1.243120551109314}\n",
      "Validation metrics: {'mse': 0.0375402458012104, 'mae': 0.1884777992963791}\n",
      "Average train loss: 0.0012256372720003128 | Average val loss: 0.5900706052780151\n",
      ".................... End of epoch 2 ....................\n",
      "Epoch: <<< 3 >>>\n",
      "Train metrics: {'mse': 2.44276762008667, 'mae': 1.380078911781311}\n",
      "Validation metrics: {'mse': 0.0282396599650383, 'mae': 0.1490316092967987}\n",
      "Average train loss: 0.03517475128173828 | Average val loss: 1.475334882736206\n",
      ".................... End of epoch 3 ....................\n",
      "Epoch: <<< 4 >>>\n",
      "Train metrics: {'mse': 0.5183070302009583, 'mae': 0.6133387088775635}\n",
      "Validation metrics: {'mse': 0.006581052206456661, 'mae': 0.07235304266214371}\n",
      "Average train loss: 0.08979548811912537 | Average val loss: 0.5837715864181519\n",
      ".................... End of epoch 4 ....................\n",
      "Epoch: <<< 5 >>>\n",
      "Train metrics: {'mse': 0.024059021845459938, 'mae': 0.11121144890785217}\n",
      "Validation metrics: {'mse': 0.0014548924518749118, 'mae': 0.03272063657641411}\n",
      "Average train loss: 0.03690254390239715 | Average val loss: 0.06885615736246109\n",
      ".................... End of epoch 5 ....................\n",
      "Epoch: <<< 6 >>>\n"
     ]
    }
   ],
   "source": [
    "%%time\n",
    "stocks = train_df['SecuritiesCode'].unique()\n",
    "count = 0\n",
    "for s in stocks:\n",
    "    print(f'Start training for stock: {s}')\n",
    "    train_loader, val_dataloader = None, None\n",
    "    if count > 5:\n",
    "        break\n",
    "    train_dataloader, val_dataloader = dataloader_by_stock(train_df, s)\n",
    "\n",
    "    torch.autograd.set_detect_anomaly(True)\n",
    "    trainer = Trainer(model, lr=1.3e-6)\n",
    "    trainer.fit_epochs(\n",
    "        train_dataloader, \n",
    "        val_dataloader, \n",
    "        use_cyclic_lr=True, \n",
    "        x_cat=True, \n",
    "        epochs=10\n",
    "    )\n",
    "    print('#' * 20)\n",
    "    print()\n",
    "    count += 1\n",
    "    \n",
    "    "
   ]
  }
 ],
 "metadata": {
  "kernelspec": {
   "display_name": "Python 3 (ipykernel)",
   "language": "python",
   "name": "python3"
  },
  "language_info": {
   "codemirror_mode": {
    "name": "ipython",
    "version": 3
   },
   "file_extension": ".py",
   "mimetype": "text/x-python",
   "name": "python",
   "nbconvert_exporter": "python",
   "pygments_lexer": "ipython3",
   "version": "3.10.4"
  }
 },
 "nbformat": 4,
 "nbformat_minor": 4
}
