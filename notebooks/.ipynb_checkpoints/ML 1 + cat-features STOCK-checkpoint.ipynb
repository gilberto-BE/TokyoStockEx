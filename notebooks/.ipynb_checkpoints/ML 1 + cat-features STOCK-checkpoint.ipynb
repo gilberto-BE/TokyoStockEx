{
 "cells": [
  {
   "cell_type": "code",
   "execution_count": 1,
   "metadata": {},
   "outputs": [
    {
     "name": "stderr",
     "output_type": "stream",
     "text": [
      "Global seed set to 42\n",
      "Global seed set to 42\n"
     ]
    }
   ],
   "source": [
    "import torch\n",
    "from torch.utils.data import DataLoader, Dataset\n",
    "import torch.nn as nn\n",
    "\n",
    "import pytorch_lightning as pl\n",
    "import torch\n",
    "import torch.nn.functional as F\n",
    "import torch.nn as nn\n",
    "import torch.optim as optim\n",
    "import torchmetrics as TM\n",
    "pl.utilities.seed.seed_everything(seed=42)\n",
    "import numpy as np\n",
    "import pandas as pd\n",
    "\n",
    "import sys, os\n",
    "source_path = os.path.join(os.getcwd(), os.pardir, 'src')\n",
    "sys.path.append(source_path)\n",
    "source_path = os.path.join(os.getcwd(), os.pardir, 'preprocessing')\n",
    "sys.path.append(source_path)\n",
    "source_path = os.path.join(os.getcwd(), os.pardir, 'metrics')\n",
    "sys.path.append(source_path)\n",
    "import matplotlib.pyplot as plt\n",
    "\n",
    "from dl import NeuralNetwork, Trainer\n",
    "from preprocess import (\n",
    "    show_df, \n",
    "    date_features, \n",
    "    preprocess, \n",
    "    ToTorch, \n",
    "    get_loader, \n",
    "    ts_split,\n",
    "    cont_cat_split\n",
    ")\n",
    "from metrics import calc_spread_return_sharpe"
   ]
  },
  {
   "cell_type": "markdown",
   "metadata": {},
   "source": [
    "##  Get Data and train a Neural Network"
   ]
  },
  {
   "cell_type": "code",
   "execution_count": 2,
   "metadata": {},
   "outputs": [
    {
     "name": "stdout",
     "output_type": "stream",
     "text": [
      "                    RowId  SecuritiesCode    Open    High     Low   Close  \\\n",
      "Date                                                                        \n",
      "2017-01-04  20170104_1301            1301  2734.0  2755.0  2730.0  2742.0   \n",
      "2017-01-04  20170104_1332            1332   568.0   576.0   563.0   571.0   \n",
      "\n",
      "             Volume  AdjustmentFactor  ExpectedDividend  SupervisionFlag  \\\n",
      "Date                                                                       \n",
      "2017-01-04    31400               1.0               NaN            False   \n",
      "2017-01-04  2798500               1.0               NaN            False   \n",
      "\n",
      "              Target  \n",
      "Date                  \n",
      "2017-01-04  0.000730  \n",
      "2017-01-04  0.012324  \n",
      "Raw Time Series data shape: (2332531, 11)\n",
      "No Unique Securities code: 2000\n",
      "df_1301.head()\n",
      "                    RowId    Open    High     Low   Close  AdjustmentFactor  \\\n",
      "Date                                                                          \n",
      "2017-01-04  20170104_1301  2734.0  2755.0  2730.0  2742.0               1.0   \n",
      "2017-01-05  20170105_1301  2743.0  2747.0  2735.0  2738.0               1.0   \n",
      "\n",
      "            ExpectedDividend  SupervisionFlag   Target  \n",
      "Date                                                    \n",
      "2017-01-04               NaN            False  0.00073  \n",
      "2017-01-05               NaN            False  0.00292  \n",
      "<class 'pandas.core.frame.DataFrame'>\n",
      "DatetimeIndex: 1202 entries, 2017-01-04 to 2021-12-03\n",
      "Data columns (total 9 columns):\n",
      " #   Column            Non-Null Count  Dtype  \n",
      "---  ------            --------------  -----  \n",
      " 0   RowId             1202 non-null   object \n",
      " 1   Open              1201 non-null   float64\n",
      " 2   High              1201 non-null   float64\n",
      " 3   Low               1201 non-null   float64\n",
      " 4   Close             1201 non-null   float64\n",
      " 5   AdjustmentFactor  1202 non-null   float64\n",
      " 6   ExpectedDividend  5 non-null      float64\n",
      " 7   SupervisionFlag   1202 non-null   bool   \n",
      " 8   Target            1202 non-null   float64\n",
      "dtypes: bool(1), float64(7), object(1)\n",
      "memory usage: 85.7+ KB\n",
      "None\n",
      "categorical shape: (1202, 4)\n",
      "xtrain.shape: (900, 1)\n",
      "[[-0.00145879]\n",
      " [ 0.00073046]\n",
      " [ 0.00291971]\n",
      " [-0.0010917 ]\n",
      " [-0.00510018]]\n",
      "\n",
      "ytrain.shape: (901, 1)\n",
      "[[ 0.00073046]\n",
      " [ 0.00291971]\n",
      " [-0.0010917 ]\n",
      " [-0.00510018]\n",
      " [-0.0032955 ]]\n",
      "df_train_cat.shape: (901, 4)\n",
      "            day_of_year  month  day_of_week  RowId\n",
      "Date                                              \n",
      "2017-01-04            4      1            4    0.0\n",
      "2017-01-05            5      1            5    1.0\n",
      "2017-01-06            6      1            6    2.0\n",
      "2017-01-10           10      1           10    3.0\n",
      "2017-01-11           11      1           11    4.0\n"
     ]
    },
    {
     "name": "stderr",
     "output_type": "stream",
     "text": [
      "D:\\TokyoStockEx\\notebooks\\..\\preprocessing\\preprocess.py:82: SettingWithCopyWarning: \n",
      "A value is trying to be set on a copy of a slice from a DataFrame.\n",
      "Try using .loc[row_indexer,col_indexer] = value instead\n",
      "\n",
      "See the caveats in the documentation: https://pandas.pydata.org/pandas-docs/stable/user_guide/indexing.html#returning-a-view-versus-a-copy\n",
      "  cat['RowId'] = enc.fit_transform(df['RowId'].to_numpy().reshape(-1, 1))\n"
     ]
    },
    {
     "data": {
      "text/plain": [
       "' xtrain and df_train_cat have different shapes!!!!!'"
      ]
     },
     "execution_count": 2,
     "metadata": {},
     "output_type": "execute_result"
    }
   ],
   "source": [
    "\n",
    "computer_name1 = 'gilbe'\n",
    "computer_name2 = 'Gilberto-BE'\n",
    "\n",
    "ROOT_PATH = f'c:/Users/{computer_name2}/Documents/TokyoData'\n",
    "\n",
    "\n",
    "'/kaggle/input/jpx-tokyo-stock-exchange-prediction/train_files/financials.csv'\n",
    "'/train_files/trades.csv'\n",
    "\n",
    "train_df = pd.read_csv(f'{ROOT_PATH}/train_files/stock_prices.csv')\n",
    "train_df['Date'] = pd.to_datetime(train_df['Date']) \n",
    "train_df.set_index('Date', inplace=True)\n",
    "# train_df = date_features(train_df)\n",
    "print(train_df.head(2))\n",
    "\n",
    "train_options = pd.read_csv(f'{ROOT_PATH}/train_files/options.csv', low_memory=False)\n",
    "train_financials = pd.read_csv(f'{ROOT_PATH}/train_files/financials.csv', low_memory=False)\n",
    "train_trades = pd.read_csv(f'{ROOT_PATH}/train_files/trades.csv', low_memory=False)\n",
    "\n",
    "print('Raw Time Series data shape:', train_df.shape)\n",
    "print('No Unique Securities code:', train_df['SecuritiesCode'].nunique())\n",
    "\n",
    "df_1301 = train_df[train_df['SecuritiesCode'] == 1301].drop(['SecuritiesCode', 'Volume'], axis=1)\n",
    "\n",
    "print('df_1301.head()')\n",
    "print(df_1301.head(2))\n",
    "print(df_1301.info())\n",
    "\n",
    "df_1301 = date_features(df_1301)\n",
    "\n",
    "\n",
    "\"\"\" \n",
    "Add RowId as extra catcol.\n",
    "\"\"\"\n",
    "# cont, cat = cont_cat_split(df_1301, 'int64')\n",
    "cat_cols = ['day_of_year', 'month', 'day_of_week', 'RowId']\n",
    "cont, cat = cont_cat_split(df_1301, cat_cols=cat_cols)\n",
    "print('categorical shape:', cat.shape)\n",
    "\n",
    "df_train_cat, df_val_cat = ts_split(cat)\n",
    "df_train, df_val = ts_split(cont)\n",
    "\n",
    "xtrain, ytrain = preprocess(df_train, 'Target', 1, continous_cols=['Close'])\n",
    "xval, yval = preprocess(df_val, 'Target', 1, continous_cols=['Close'])\n",
    "\n",
    "print('xtrain.shape:', xtrain.shape)\n",
    "print(xtrain[:5])\n",
    "print()\n",
    "print('ytrain.shape:', ytrain.shape)\n",
    "print(ytrain[:5])\n",
    "print('df_train_cat.shape:', df_train_cat.shape)\n",
    "print(df_train_cat.head())\n",
    "\n",
    "\"\"\" xtrain and df_train_cat have different shapes!!!!!\"\"\""
   ]
  },
  {
   "cell_type": "markdown",
   "metadata": {},
   "source": [
    "### Train the model"
   ]
  },
  {
   "cell_type": "code",
   "execution_count": 3,
   "metadata": {},
   "outputs": [
    {
     "ename": "NameError",
     "evalue": "name 'prinT' is not defined",
     "output_type": "error",
     "traceback": [
      "\u001b[1;31m---------------------------------------------------------------------------\u001b[0m",
      "\u001b[1;31mNameError\u001b[0m                                 Traceback (most recent call last)",
      "\u001b[1;32m<timed exec>\u001b[0m in \u001b[0;36m<module>\u001b[1;34m\u001b[0m\n",
      "\u001b[1;31mNameError\u001b[0m: name 'prinT' is not defined"
     ]
    }
   ],
   "source": [
    "\n",
    "%%time\n",
    "import torch\n",
    "from sklearn.impute import SimpleImputer\n",
    "\n",
    "\n",
    "imp = SimpleImputer(missing_values=np.nan, strategy='mean')\n",
    "batch_size = 64\n",
    "train_dataloader = get_loader(x=xtrain, y=ytrain, batch_size=batch_size, x_cat=df_train_cat.to_numpy())\n",
    "val_dataloader = get_loader(x=xval, y=yval, batch_size=batch_size, x_cat=df_val_cat.to_numpy())\n",
    "\n",
    "\n",
    "CAT_FEATURES = cat.shape[1]\n",
    "print('CAT_FEATURES:', CAT_FEATURES)\n",
    "EMBEDDING_DIM = 100\n",
    "NO_EMBEDDING = 2 * len(df_train_cat)\n",
    "# cat_features = cat_features * embedding_dim\n",
    "# print('in_features:', xtrain.shape[1] + cat_features)\n",
    "\n",
    "model = NeuralNetwork(\n",
    "    in_features=xtrain.shape[1], \n",
    "    units=1024,\n",
    "    out_features=1, \n",
    "    categorical_dim=CAT_FEATURES,\n",
    "    no_embedding=NO_EMBEDDING, \n",
    "    emb_dim=EMBEDDING_DIM\n",
    ")\n",
    "\n",
    "print(model)\n",
    "\n",
    "trainer = Trainer(model, lr=3.3e-6)\n",
    "trainer.fit_epochs(\n",
    "    train_dataloader, \n",
    "    val_dataloader, \n",
    "    use_cyclic_lr=True, \n",
    "    x_cat=True, \n",
    "    epochs=25\n",
    ")\n"
   ]
  }
 ],
 "metadata": {
  "kernelspec": {
   "display_name": "Python 3 (ipykernel)",
   "language": "python",
   "name": "python3"
  },
  "language_info": {
   "codemirror_mode": {
    "name": "ipython",
    "version": 3
   },
   "file_extension": ".py",
   "mimetype": "text/x-python",
   "name": "python",
   "nbconvert_exporter": "python",
   "pygments_lexer": "ipython3",
   "version": "3.8.12"
  }
 },
 "nbformat": 4,
 "nbformat_minor": 4
}
