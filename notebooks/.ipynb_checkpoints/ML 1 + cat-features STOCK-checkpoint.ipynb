{
 "cells": [
  {
   "cell_type": "code",
   "execution_count": 1,
   "metadata": {},
   "outputs": [
    {
     "name": "stdout",
     "output_type": "stream",
     "text": [
      "1.11.0\n"
     ]
    }
   ],
   "source": [
    "import torch\n",
    "from torch.utils.data import DataLoader, Dataset\n",
    "import torch.nn as nn\n",
    "\n",
    "# import pytorch_lightning as pl\n",
    "import torch\n",
    "import torch.nn.functional as F\n",
    "import torch.nn as nn\n",
    "import torch.optim as optim\n",
    "import torchmetrics as TM\n",
    "# pl.utilities.seed.seed_everything(seed=42)\n",
    "import numpy as np\n",
    "import pandas as pd\n",
    "\n",
    "import sys, os\n",
    "source_path = os.path.join(os.getcwd(), os.pardir, 'src')\n",
    "sys.path.append(source_path)\n",
    "source_path = os.path.join(os.getcwd(), os.pardir, 'preprocessing')\n",
    "sys.path.append(source_path)\n",
    "source_path = os.path.join(os.getcwd(), os.pardir, 'metrics')\n",
    "sys.path.append(source_path)\n",
    "import matplotlib.pyplot as plt\n",
    "\n",
    "from dl import NeuralNetwork, Trainer\n",
    "from preprocess import (\n",
    "    show_df, \n",
    "    date_features, \n",
    "    preprocess, \n",
    "    ToTorch, \n",
    "    get_loader, \n",
    "    ts_split,\n",
    "    cont_cat_split\n",
    ")\n",
    "from metrics import calc_spread_return_sharpe\n",
    "print(torch.__version__)"
   ]
  },
  {
   "cell_type": "code",
   "execution_count": 2,
   "metadata": {},
   "outputs": [
    {
     "name": "stdout",
     "output_type": "stream",
     "text": [
      "11.3\n"
     ]
    },
    {
     "data": {
      "text/plain": [
       "(None, True, 1)"
      ]
     },
     "execution_count": 2,
     "metadata": {},
     "output_type": "execute_result"
    }
   ],
   "source": [
    "print(torch.version.cuda), torch.cuda.is_available(), torch.cuda.device_count()"
   ]
  },
  {
   "cell_type": "code",
   "execution_count": 3,
   "metadata": {},
   "outputs": [
    {
     "name": "stdout",
     "output_type": "stream",
     "text": [
      "                    RowId  SecuritiesCode    Open    High     Low   Close  \\\n",
      "Date                                                                        \n",
      "2017-01-04  20170104_1301            1301  2734.0  2755.0  2730.0  2742.0   \n",
      "2017-01-04  20170104_1332            1332   568.0   576.0   563.0   571.0   \n",
      "\n",
      "             Volume  AdjustmentFactor  ExpectedDividend  SupervisionFlag  \\\n",
      "Date                                                                       \n",
      "2017-01-04    31400               1.0               NaN            False   \n",
      "2017-01-04  2798500               1.0               NaN            False   \n",
      "\n",
      "              Target  \n",
      "Date                  \n",
      "2017-01-04  0.000730  \n",
      "2017-01-04  0.012324  \n"
     ]
    }
   ],
   "source": [
    "computer_name1 = 'gilbe'\n",
    "computer_name2 = 'Gilberto-BE'\n",
    "\n",
    "ROOT_PATH = f'c:/Users/{computer_name1}/Documents/TokyoData'\n",
    "\n",
    "\n",
    "'/kaggle/input/jpx-tokyo-stock-exchange-prediction/train_files/financials.csv'\n",
    "'/train_files/trades.csv'\n",
    "\n",
    "train_df = pd.read_csv(f'{ROOT_PATH}/train_files/stock_prices.csv')\n",
    "train_df['Date'] = pd.to_datetime(train_df['Date']) \n",
    "train_df.set_index('Date', inplace=True)\n",
    "# train_df = date_features(train_df)\n",
    "print(train_df.head(2))\n",
    "\n",
    "train_options = pd.read_csv(f'{ROOT_PATH}/train_files/options.csv', low_memory=False)\n",
    "train_financials = pd.read_csv(f'{ROOT_PATH}/train_files/financials.csv', low_memory=False)\n",
    "train_trades = pd.read_csv(f'{ROOT_PATH}/train_files/trades.csv', low_memory=False)"
   ]
  },
  {
   "cell_type": "code",
   "execution_count": 4,
   "metadata": {},
   "outputs": [],
   "source": [
    "# n_stocks = train_df.SecuritiesCode.nunique()\n",
    "# n_stocks = train_df.SecuritiesCode.unique()\n",
    "# for n in n_stocks:\n",
    "#     print(train_df[train_df['SecuritiesCode'] == n].shape)"
   ]
  },
  {
   "cell_type": "markdown",
   "metadata": {},
   "source": [
    "##  Get Data and train a Neural Network"
   ]
  },
  {
   "cell_type": "code",
   "execution_count": 5,
   "metadata": {},
   "outputs": [
    {
     "name": "stdout",
     "output_type": "stream",
     "text": [
      "Raw Time Series data shape: (2332531, 11)\n",
      "No Unique Securities code: 2000\n",
      "df_1301.head()\n",
      "                    RowId    Open    High     Low   Close  AdjustmentFactor  \\\n",
      "Date                                                                          \n",
      "2017-01-04  20170104_1301  2734.0  2755.0  2730.0  2742.0               1.0   \n",
      "2017-01-05  20170105_1301  2743.0  2747.0  2735.0  2738.0               1.0   \n",
      "\n",
      "            ExpectedDividend  SupervisionFlag   Target  \n",
      "Date                                                    \n",
      "2017-01-04               NaN            False  0.00073  \n",
      "2017-01-05               NaN            False  0.00292  \n",
      "<class 'pandas.core.frame.DataFrame'>\n",
      "DatetimeIndex: 1202 entries, 2017-01-04 to 2021-12-03\n",
      "Data columns (total 9 columns):\n",
      " #   Column            Non-Null Count  Dtype  \n",
      "---  ------            --------------  -----  \n",
      " 0   RowId             1202 non-null   object \n",
      " 1   Open              1201 non-null   float64\n",
      " 2   High              1201 non-null   float64\n",
      " 3   Low               1201 non-null   float64\n",
      " 4   Close             1201 non-null   float64\n",
      " 5   AdjustmentFactor  1202 non-null   float64\n",
      " 6   ExpectedDividend  5 non-null      float64\n",
      " 7   SupervisionFlag   1202 non-null   bool   \n",
      " 8   Target            1202 non-null   float64\n",
      "dtypes: bool(1), float64(7), object(1)\n",
      "memory usage: 85.7+ KB\n",
      "None\n"
     ]
    },
    {
     "data": {
      "image/png": "[encoded data removed]",
      "text/plain": [
       "<Figure size 720x432 with 1 Axes>"
      ]
     },
     "metadata": {
      "needs_background": "light"
     },
     "output_type": "display_data"
    },
    {
     "name": "stdout",
     "output_type": "stream",
     "text": [
      "categorical shape: (1202, 4)\n",
      "xtrain.shape: (900, 1)\n",
      "[[-0.00145879]\n",
      " [ 0.00073046]\n",
      " [ 0.00291971]\n",
      " [-0.0010917 ]\n",
      " [-0.00510018]]\n",
      "\n",
      "ytrain.shape: (901, 1)\n",
      "[[ 0.00073046]\n",
      " [ 0.00291971]\n",
      " [-0.0010917 ]\n",
      " [-0.00510018]\n",
      " [-0.0032955 ]]\n",
      "df_train_cat.shape: (901, 4)\n",
      "            day_of_year  month  day_of_week  RowId\n",
      "Date                                              \n",
      "2017-01-04            4      1            4    0.0\n",
      "2017-01-05            5      1            5    1.0\n",
      "2017-01-06            6      1            6    2.0\n",
      "2017-01-10           10      1           10    3.0\n",
      "2017-01-11           11      1           11    4.0\n"
     ]
    },
    {
     "name": "stderr",
     "output_type": "stream",
     "text": [
      "C:\\Users\\gilbe\\Documents\\TokyoStockEx\\notebooks\\..\\preprocessing\\preprocess.py:83: SettingWithCopyWarning: \n",
      "A value is trying to be set on a copy of a slice from a DataFrame.\n",
      "Try using .loc[row_indexer,col_indexer] = value instead\n",
      "\n",
      "See the caveats in the documentation: https://pandas.pydata.org/pandas-docs/stable/user_guide/indexing.html#returning-a-view-versus-a-copy\n",
      "  cat['RowId'] = enc.fit_transform(df['RowId'].to_numpy().reshape(-1, 1))\n"
     ]
    },
    {
     "data": {
      "text/plain": [
       "' xtrain and df_train_cat have different shapes!!!!!'"
      ]
     },
     "execution_count": 5,
     "metadata": {},
     "output_type": "execute_result"
    }
   ],
   "source": [
    "\n",
    "\n",
    "\n",
    "print('Raw Time Series data shape:', train_df.shape)\n",
    "print('No Unique Securities code:', train_df['SecuritiesCode'].nunique())\n",
    "\n",
    "df_1301 = train_df[train_df['SecuritiesCode'] == 1301].drop(['SecuritiesCode', 'Volume'], axis=1)\n",
    "\n",
    "print('df_1301.head()')\n",
    "print(df_1301.head(2))\n",
    "print(df_1301.info())\n",
    "\n",
    "df_1301.plot(figsize=(10, 6));\n",
    "plt.show();\n",
    "\n",
    "df_1301 = date_features(df_1301)\n",
    "\n",
    "\n",
    "\"\"\" \n",
    "Add RowId as extra catcol.\n",
    "\"\"\"\n",
    "# cont, cat = cont_cat_split(df_1301, 'int64')\n",
    "cat_cols = ['day_of_year', 'month', 'day_of_week', 'RowId']\n",
    "cont, cat = cont_cat_split(df_1301, cat_cols=cat_cols)\n",
    "print('categorical shape:', cat.shape)\n",
    "\n",
    "df_train_cat, df_val_cat = ts_split(cat)\n",
    "df_train, df_val = ts_split(cont)\n",
    "\n",
    "xtrain, ytrain = preprocess(df_train, 'Target', 1, continous_cols=['Close'])\n",
    "xval, yval = preprocess(df_val, 'Target', 1, continous_cols=['Close'])\n",
    "\n",
    "print('xtrain.shape:', xtrain.shape)\n",
    "print(xtrain[:5])\n",
    "print()\n",
    "print('ytrain.shape:', ytrain.shape)\n",
    "print(ytrain[:5])\n",
    "print('df_train_cat.shape:', df_train_cat.shape)\n",
    "print(df_train_cat.head())\n",
    "\n",
    "\"\"\" xtrain and df_train_cat have different shapes!!!!!\"\"\""
   ]
  },
  {
   "cell_type": "markdown",
   "metadata": {},
   "source": [
    "### Train the model"
   ]
  },
  {
   "cell_type": "code",
   "execution_count": 6,
   "metadata": {},
   "outputs": [
    {
     "name": "stdout",
     "output_type": "stream",
     "text": [
      "CAT_FEATURES: 4\n",
      "NO_EMBEDDING: 1802\n",
      "NeuralNetwork(\n",
      "  (flatten): Flatten(start_dim=1, end_dim=-1)\n",
      "  (embedding): Embedding(1802, 10)\n",
      "  (embedding_to_hidden): Linear(in_features=10, out_features=512, bias=True)\n",
      "  (embedding_output): Linear(in_features=512, out_features=1, bias=True)\n",
      "  (cont_input): Linear(in_features=1, out_features=512, bias=True)\n",
      "  (hidden_layer): Linear(in_features=516, out_features=516, bias=True)\n",
      "  (output_layer): Linear(in_features=516, out_features=1, bias=True)\n",
      "  (dropout): Dropout(p=0.1, inplace=False)\n",
      ")\n",
      "Using cuda-device\n",
      "Epoch: <<< 0 >>>\n"
     ]
    },
    {
     "name": "stderr",
     "output_type": "stream",
     "text": [
      "C:\\Users\\gilbe\\anaconda3\\envs\\tokyo\\lib\\site-packages\\torch\\autograd\\__init__.py:173: UserWarning: Casting complex values to real discards the imaginary part (Triggered internally at  C:\\cb\\pytorch_1000000000000\\work\\aten\\src\\ATen\\native\\Copy.cpp:239.)\n",
      "  Variable._execution_engine.run_backward(  # Calls into the C++ engine to run the backward pass\n"
     ]
    },
    {
     "name": "stdout",
     "output_type": "stream",
     "text": [
      "Batch 1 loss: 0.006696337461471557\n",
      "Train metrics: {'mse': 0.01458459161221981, 'mae': 0.10891218483448029}\n",
      "Validation metrics: {'mse': 0.0489208847284317, 'mae': 0.22044439613819122}\n",
      "Average train loss: 0.006696337461471557 | Average val loss: 0.04885478317737579\n",
      ".................... End of epoch 0 ....................\n",
      "Epoch: <<< 1 >>>\n",
      "Batch 1 loss: 0.0032590582966804506\n",
      "Train metrics: {'mse': 0.012588177807629108, 'mae': 0.10754713416099548}\n",
      "Validation metrics: {'mse': 0.013727892190217972, 'mae': 0.11439923942089081}\n",
      "Average train loss: 0.0032590582966804506 | Average val loss: 0.013491627760231495\n",
      ".................... End of epoch 1 ....................\n",
      "Epoch: <<< 2 >>>\n",
      "Batch 1 loss: 0.0006694880314171315\n",
      "Train metrics: {'mse': 0.0028933491557836533, 'mae': 0.05234246328473091}\n",
      "Validation metrics: {'mse': 0.00497574033215642, 'mae': 0.06847786158323288}\n",
      "Average train loss: 0.0006694880314171315 | Average val loss: 0.004818819463253021\n",
      ".................... End of epoch 2 ....................\n",
      "Epoch: <<< 3 >>>\n",
      "Batch 1 loss: 0.00023447335697710515\n",
      "Train metrics: {'mse': 0.0012756453361362219, 'mae': 0.03225782513618469}\n",
      "Validation metrics: {'mse': 0.0018529045628383756, 'mae': 0.039158210158348083}\n",
      "Average train loss: 0.00023447335697710515 | Average val loss: 0.0016763873863965273\n",
      ".................... End of epoch 3 ....................\n",
      "Epoch: <<< 4 >>>\n",
      "Batch 1 loss: 8.526415913365782e-05\n",
      "Train metrics: {'mse': 0.0005919782561250031, 'mae': 0.02154107391834259}\n",
      "Validation metrics: {'mse': 0.0010072459699586034, 'mae': 0.028676701709628105}\n",
      "Average train loss: 8.526415913365782e-05 | Average val loss: 0.000895878707524389\n",
      ".................... End of epoch 4 ....................\n",
      "Epoch: <<< 5 >>>\n",
      "Batch 1 loss: 4.156932409387082e-05\n",
      "Train metrics: {'mse': 0.0004210295737721026, 'mae': 0.015972955152392387}\n",
      "Validation metrics: {'mse': 0.0005770208081230521, 'mae': 0.019547857344150543}\n",
      "Average train loss: 4.156932409387082e-05 | Average val loss: 0.00044973354670219123\n",
      ".................... End of epoch 5 ....................\n",
      "Epoch: <<< 6 >>>\n",
      "Batch 1 loss: 2.152974484488368e-05\n",
      "Train metrics: {'mse': 0.00037928950041532516, 'mae': 0.017324835062026978}\n",
      "Validation metrics: {'mse': 0.00045221662730909884, 'mae': 0.016768915578722954}\n",
      "Average train loss: 2.152974484488368e-05 | Average val loss: 0.0003630684223026037\n",
      ".................... End of epoch 6 ....................\n",
      "Epoch: <<< 7 >>>\n",
      "Batch 1 loss: 1.5889783389866353e-05\n",
      "Train metrics: {'mse': 0.00020251184469088912, 'mae': 0.011887509375810623}\n",
      "Validation metrics: {'mse': 0.0003216105396859348, 'mae': 0.013618772849440575}\n",
      "Average train loss: 1.5889783389866353e-05 | Average val loss: 0.00021835013467352837\n",
      ".................... End of epoch 7 ....................\n",
      "Epoch: <<< 8 >>>\n",
      "Batch 1 loss: 8.653478289488703e-06\n",
      "Train metrics: {'mse': 0.00011998651461908594, 'mae': 0.008604058995842934}\n",
      "Validation metrics: {'mse': 0.0003024632460437715, 'mae': 0.01270914077758789}\n",
      "Average train loss: 8.653478289488703e-06 | Average val loss: 0.0002213010156992823\n",
      ".................... End of epoch 8 ....................\n",
      "Epoch: <<< 9 >>>\n",
      "Batch 1 loss: 1.05926206742879e-05\n",
      "Train metrics: {'mse': 0.00013759078865405172, 'mae': 0.008353237994015217}\n",
      "Validation metrics: {'mse': 0.0002438624360365793, 'mae': 0.011461823247373104}\n",
      "Average train loss: 1.05926206742879e-05 | Average val loss: 0.00015188743418548256\n",
      ".................... End of epoch 9 ....................\n",
      "Epoch: <<< 10 >>>\n",
      "Batch 1 loss: 7.243685104185715e-06\n",
      "Train metrics: {'mse': 8.234991400968283e-05, 'mae': 0.00788961723446846}\n",
      "Validation metrics: {'mse': 0.0002440613170620054, 'mae': 0.01069010142236948}\n",
      "Average train loss: 7.243685104185715e-06 | Average val loss: 0.0001642771967453882\n",
      ".................... End of epoch 10 ....................\n",
      "Epoch: <<< 11 >>>\n",
      "Batch 1 loss: 8.282739872811363e-06\n",
      "Train metrics: {'mse': 7.750221993774176e-05, 'mae': 0.008036613464355469}\n",
      "Validation metrics: {'mse': 0.00021899159764871, 'mae': 0.010490351356565952}\n",
      "Average train loss: 8.282739872811363e-06 | Average val loss: 0.0001326377532677725\n",
      ".................... End of epoch 11 ....................\n",
      "Epoch: <<< 12 >>>\n",
      "Batch 1 loss: 4.836713560507633e-06\n",
      "Train metrics: {'mse': 0.000119409742183052, 'mae': 0.009166395291686058}\n",
      "Validation metrics: {'mse': 0.00022017628361936659, 'mae': 0.010004631243646145}\n",
      "Average train loss: 4.836713560507633e-06 | Average val loss: 0.00013898870383854955\n",
      ".................... End of epoch 12 ....................\n",
      "Epoch: <<< 13 >>>\n",
      "Batch 1 loss: 5.4314576118486e-06\n",
      "Train metrics: {'mse': 8.631995297037065e-05, 'mae': 0.008641079068183899}\n",
      "Validation metrics: {'mse': 0.00021507717610802501, 'mae': 0.009892313741147518}\n",
      "Average train loss: 5.4314576118486e-06 | Average val loss: 0.00013319133722689003\n",
      ".................... End of epoch 13 ....................\n",
      "Epoch: <<< 14 >>>\n",
      "Batch 1 loss: 5.61304077564273e-06\n",
      "Train metrics: {'mse': 2.0922370822518133e-05, 'mae': 0.0033544288016855717}\n",
      "Validation metrics: {'mse': 0.00021241173089947551, 'mae': 0.010003631934523582}\n",
      "Average train loss: 5.61304077564273e-06 | Average val loss: 0.00012957386206835508\n",
      ".................... End of epoch 14 ....................\n",
      "Epoch: <<< 15 >>>\n",
      "Batch 1 loss: 5.557887561735697e-06\n",
      "Train metrics: {'mse': 4.317493949201889e-05, 'mae': 0.0055247158743441105}\n",
      "Validation metrics: {'mse': 0.00021649031259585172, 'mae': 0.00992751494050026}\n",
      "Average train loss: 5.557887561735697e-06 | Average val loss: 0.0001354886480839923\n",
      ".................... End of epoch 15 ....................\n",
      "Epoch: <<< 16 >>>\n",
      "Batch 1 loss: 6.471934466389939e-06\n",
      "Train metrics: {'mse': 6.742585537722334e-05, 'mae': 0.0063241771422326565}\n",
      "Validation metrics: {'mse': 0.00021278165513649583, 'mae': 0.010011756792664528}\n",
      "Average train loss: 6.471934466389939e-06 | Average val loss: 0.00012970961688552052\n",
      ".................... End of epoch 16 ....................\n",
      "Epoch: <<< 17 >>>\n",
      "Batch 1 loss: 5.577623960562051e-06\n",
      "Train metrics: {'mse': 0.0001399986504111439, 'mae': 0.009617195464670658}\n",
      "Validation metrics: {'mse': 0.00022045268269721419, 'mae': 0.010002169758081436}\n",
      "Average train loss: 5.577623960562051e-06 | Average val loss: 0.00014014144835527986\n",
      ".................... End of epoch 17 ....................\n",
      "Epoch: <<< 18 >>>\n",
      "Batch 1 loss: 5.935167064308189e-06\n",
      "Train metrics: {'mse': 9.474193211644888e-05, 'mae': 0.008264865726232529}\n",
      "Validation metrics: {'mse': 0.0002146627812180668, 'mae': 0.009933986701071262}\n",
      "Average train loss: 5.935167064308189e-06 | Average val loss: 0.00013202776608522981\n",
      ".................... End of epoch 18 ....................\n",
      "Epoch: <<< 19 >>>\n",
      "Batch 1 loss: 5.763664375990629e-06\n",
      "Train metrics: {'mse': 9.246163244824857e-05, 'mae': 0.008731488138437271}\n",
      "Validation metrics: {'mse': 0.00021521683083847165, 'mae': 0.009938409551978111}\n",
      "Average train loss: 5.763664375990629e-06 | Average val loss: 0.00013237287930678576\n",
      ".................... End of epoch 19 ....................\n"
     ]
    },
    {
     "data": {
      "image/png": "[encoded data removed]",
      "text/plain": [
       "<Figure size 432x288 with 1 Axes>"
      ]
     },
     "metadata": {
      "needs_background": "light"
     },
     "output_type": "display_data"
    },
    {
     "data": {
      "image/png": "[encoded data removed]",
      "text/plain": [
       "<Figure size 432x288 with 1 Axes>"
      ]
     },
     "metadata": {
      "needs_background": "light"
     },
     "output_type": "display_data"
    },
    {
     "name": "stdout",
     "output_type": "stream",
     "text": [
      "CPU times: total: 3min 35s\n",
      "Wall time: 3min 36s\n"
     ]
    }
   ],
   "source": [
    "\n",
    "%%time\n",
    "import torch\n",
    "from sklearn.impute import SimpleImputer\n",
    "\n",
    "\n",
    "imp = SimpleImputer(missing_values=np.nan, strategy='mean')\n",
    "batch_size = 64\n",
    "train_dataloader = get_loader(x=xtrain, y=ytrain, batch_size=batch_size, x_cat=df_train_cat.to_numpy())\n",
    "val_dataloader = get_loader(x=xval, y=yval, batch_size=batch_size, x_cat=df_val_cat.to_numpy())\n",
    "\n",
    "\n",
    "CAT_FEATURES = cat.shape[1]\n",
    "print('CAT_FEATURES:', CAT_FEATURES)\n",
    "EMBEDDING_DIM = 10\n",
    "NO_EMBEDDING = 2 * len(df_train_cat)\n",
    "print('NO_EMBEDDING:', NO_EMBEDDING)\n",
    "\n",
    "# cat_features = cat_features * embedding_dim\n",
    "# print('in_features:', xtrain.shape[1] + cat_features)\n",
    "\n",
    "model = NeuralNetwork(\n",
    "    in_features=xtrain.shape[1], \n",
    "    units=1028,\n",
    "    out_features=1, \n",
    "    categorical_dim=CAT_FEATURES,\n",
    "    no_embedding=NO_EMBEDDING, \n",
    "    emb_dim=EMBEDDING_DIM,\n",
    "    n_blocks=20\n",
    ")\n",
    "\n",
    "print(model)\n",
    "\n",
    "torch.autograd.set_detect_anomaly(True)\n",
    "trainer = Trainer(model, lr=3.3e-6)\n",
    "trainer.fit_epochs(\n",
    "    train_dataloader, \n",
    "    val_dataloader, \n",
    "    use_cyclic_lr=True, \n",
    "    x_cat=True, \n",
    "    epochs=20\n",
    ")\n"
   ]
  }
 ],
 "metadata": {
  "kernelspec": {
   "display_name": "Python 3 (ipykernel)",
   "language": "python",
   "name": "python3"
  },
  "language_info": {
   "codemirror_mode": {
    "name": "ipython",
    "version": 3
   },
   "file_extension": ".py",
   "mimetype": "text/x-python",
   "name": "python",
   "nbconvert_exporter": "python",
   "pygments_lexer": "ipython3",
   "version": "3.10.4"
  }
 },
 "nbformat": 4,
 "nbformat_minor": 4
}
